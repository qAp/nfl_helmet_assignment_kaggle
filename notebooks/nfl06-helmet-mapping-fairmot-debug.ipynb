{
 "cells": [
  {
   "cell_type": "markdown",
   "id": "5a4eea01",
   "metadata": {
    "papermill": {
     "duration": 0.026908,
     "end_time": "2021-10-17T08:41:52.638695",
     "exception": false,
     "start_time": "2021-10-17T08:41:52.611787",
     "status": "completed"
    },
    "tags": []
   },
   "source": [
    "# Helmet mapping + FairMOT"
   ]
  },
  {
   "cell_type": "code",
   "execution_count": 1,
   "id": "ad7fa89b",
   "metadata": {
    "execution": {
     "iopub.execute_input": "2021-10-17T08:41:52.703356Z",
     "iopub.status.busy": "2021-10-17T08:41:52.701461Z",
     "iopub.status.idle": "2021-10-17T08:41:52.704586Z",
     "shell.execute_reply": "2021-10-17T08:41:52.705099Z",
     "shell.execute_reply.started": "2021-10-17T08:20:25.172188Z"
    },
    "papermill": {
     "duration": 0.038115,
     "end_time": "2021-10-17T08:41:52.705437",
     "exception": false,
     "start_time": "2021-10-17T08:41:52.667322",
     "status": "completed"
    },
    "tags": []
   },
   "outputs": [],
   "source": [
    "# # Developer\n",
    "\n",
    "# %cd /kaggle\n",
    "# from IPython.display import clear_output\n",
    "# pat = input('GitHub Personal Access Token:')\n",
    "# clear_output()\n",
    "# ! git clone https://$pat@github.com/qAp/nfl_helmet_assignment_kaggle.git\n",
    "\n",
    "# # %cd /kaggle/nfl_helmet_assignment_kaggle/\n",
    "# # ! git pull"
   ]
  },
  {
   "cell_type": "code",
   "execution_count": 2,
   "id": "82ce6ca6",
   "metadata": {
    "execution": {
     "iopub.execute_input": "2021-10-17T08:41:52.783181Z",
     "iopub.status.busy": "2021-10-17T08:41:52.769878Z",
     "iopub.status.idle": "2021-10-17T08:41:53.614926Z",
     "shell.execute_reply": "2021-10-17T08:41:53.615473Z",
     "shell.execute_reply.started": "2021-09-25T08:21:54.546206Z"
    },
    "papermill": {
     "duration": 0.883148,
     "end_time": "2021-10-17T08:41:53.615738",
     "exception": false,
     "start_time": "2021-10-17T08:41:52.732590",
     "status": "completed"
    },
    "tags": []
   },
   "outputs": [],
   "source": [
    "# User\n",
    "\n",
    "! cp -r /kaggle/input/nfl-helmet-assignment-kaggle/nfl_helmet_assignment_kaggle /kaggle/."
   ]
  },
  {
   "cell_type": "code",
   "execution_count": 3,
   "id": "5507ae35",
   "metadata": {
    "execution": {
     "iopub.execute_input": "2021-10-17T08:41:53.677758Z",
     "iopub.status.busy": "2021-10-17T08:41:53.676719Z",
     "iopub.status.idle": "2021-10-17T08:41:55.201019Z",
     "shell.execute_reply": "2021-10-17T08:41:55.201668Z",
     "shell.execute_reply.started": "2021-10-17T08:20:42.40496Z"
    },
    "papermill": {
     "duration": 1.560244,
     "end_time": "2021-10-17T08:41:55.201987",
     "exception": false,
     "start_time": "2021-10-17T08:41:53.641743",
     "status": "completed"
    },
    "tags": []
   },
   "outputs": [],
   "source": [
    "import os, sys\n",
    "from tqdm.auto import tqdm\n",
    "import multiprocessing\n",
    "import random\n",
    "import numpy as np\n",
    "import pandas as pd\n",
    "import cv2\n",
    "import matplotlib\n",
    "import matplotlib.pyplot as plt\n",
    "from IPython.display import Video, display\n",
    "\n",
    "sys.path.append('/kaggle/input/easydict-master/easydict-master')\n",
    "sys.path.append(\n",
    "    ('/kaggle/input/yolov5-deepsort-pytorch/Yolov5_DeepSort_Pytorch-master'\n",
    "     '/Yolov5_DeepSort_Pytorch-master/deep_sort_pytorch')\n",
    ")\n",
    "sys.path.append('/kaggle/nfl_helmet_assignment_kaggle/')\n",
    "\n",
    "from helmet_tracker.utils.score import check_submission, NFLAssignmentScorer\n",
    "from helmet_tracker.utils.features import add_track_features\n",
    "from helmet_tracker.utils.video import video_with_predictions"
   ]
  },
  {
   "cell_type": "code",
   "execution_count": 4,
   "id": "9c2aa389",
   "metadata": {
    "execution": {
     "iopub.execute_input": "2021-10-17T08:41:55.259933Z",
     "iopub.status.busy": "2021-10-17T08:41:55.259249Z",
     "iopub.status.idle": "2021-10-17T08:41:55.262234Z",
     "shell.execute_reply": "2021-10-17T08:41:55.262744Z",
     "shell.execute_reply.started": "2021-10-13T11:06:36.258664Z"
    },
    "papermill": {
     "duration": 0.034827,
     "end_time": "2021-10-17T08:41:55.262974",
     "exception": false,
     "start_time": "2021-10-17T08:41:55.228147",
     "status": "completed"
    },
    "tags": []
   },
   "outputs": [],
   "source": [
    "# import importlib\n",
    "# import helmet_tracker\n",
    "# importlib.reload(helmet_tracker.models.deepsort_postprocess)"
   ]
  },
  {
   "cell_type": "markdown",
   "id": "4abe3224",
   "metadata": {
    "papermill": {
     "duration": 0.027049,
     "end_time": "2021-10-17T08:41:55.316883",
     "exception": false,
     "start_time": "2021-10-17T08:41:55.289834",
     "status": "completed"
    },
    "tags": []
   },
   "source": [
    "# Loading helmet tracking data"
   ]
  },
  {
   "cell_type": "markdown",
   "id": "b852e634",
   "metadata": {
    "papermill": {
     "duration": 0.025342,
     "end_time": "2021-10-17T08:41:55.370222",
     "exception": false,
     "start_time": "2021-10-17T08:41:55.344880",
     "status": "completed"
    },
    "tags": []
   },
   "source": [
    "Load the results of helmet tracking, from https://www.kaggle.com/jackchungchiehyu/nfl-helmet-mapping."
   ]
  },
  {
   "cell_type": "code",
   "execution_count": 5,
   "id": "52b5a612",
   "metadata": {
    "execution": {
     "iopub.execute_input": "2021-10-17T08:41:55.434481Z",
     "iopub.status.busy": "2021-10-17T08:41:55.433341Z",
     "iopub.status.idle": "2021-10-17T08:41:58.433229Z",
     "shell.execute_reply": "2021-10-17T08:41:58.432421Z",
     "shell.execute_reply.started": "2021-10-17T08:35:32.269283Z"
    },
    "papermill": {
     "duration": 3.034585,
     "end_time": "2021-10-17T08:41:58.433412",
     "exception": false,
     "start_time": "2021-10-17T08:41:55.398827",
     "status": "completed"
    },
    "tags": []
   },
   "outputs": [],
   "source": [
    "debug = True\n",
    "\n",
    "BASE_DIR = '/kaggle/input/nfl-health-and-safety-helmet-assignment'\n",
    "\n",
    "labels = pd.read_csv(f'{BASE_DIR}/train_labels.csv')\n",
    "\n",
    "if debug:\n",
    "    video_dir = '/kaggle/input/nfl-health-and-safety-helmet-assignment/train'\n",
    "    submission_df = pd.read_csv('/kaggle/input/nfl-mydata/submission_helmtrack_debug.csv')\n",
    "    dir_demo = '/kaggle/input/nfl05-fairmot-demo-debug/demo_debug/'\n",
    "else:\n",
    "    video_dir = '/kaggle/input/nfl-health-and-safety-helmet-assignment/test'\n",
    "    submission_df = pd.read_csv('/kaggle/input/nfl-mydata/submission_helmtrack.csv')\n",
    "    dir_demo = '/kaggle/input/nfl05-fairmot-demo/demos'"
   ]
  },
  {
   "cell_type": "markdown",
   "id": "b329eb59",
   "metadata": {
    "papermill": {
     "duration": 0.026234,
     "end_time": "2021-10-17T08:41:58.486882",
     "exception": false,
     "start_time": "2021-10-17T08:41:58.460648",
     "status": "completed"
    },
    "tags": []
   },
   "source": [
    "# Load FairMOT tracking results"
   ]
  },
  {
   "cell_type": "code",
   "execution_count": 6,
   "id": "717362fa",
   "metadata": {
    "execution": {
     "iopub.execute_input": "2021-10-17T08:41:58.545849Z",
     "iopub.status.busy": "2021-10-17T08:41:58.544689Z",
     "iopub.status.idle": "2021-10-17T08:41:58.548282Z",
     "shell.execute_reply": "2021-10-17T08:41:58.547667Z",
     "shell.execute_reply.started": "2021-10-17T08:35:44.854049Z"
    },
    "papermill": {
     "duration": 0.035477,
     "end_time": "2021-10-17T08:41:58.548455",
     "exception": false,
     "start_time": "2021-10-17T08:41:58.512978",
     "status": "completed"
    },
    "tags": []
   },
   "outputs": [],
   "source": [
    "# submission_df['video'] = submission_df['video_frame'].str.split('_').str[:3].str.join('_')\n",
    "# submission_df['frame'] = submission_df['video_frame'].str.split('_').str[-1].astype(int)"
   ]
  },
  {
   "cell_type": "code",
   "execution_count": 7,
   "id": "06c3f44c",
   "metadata": {
    "execution": {
     "iopub.execute_input": "2021-10-17T08:41:58.608274Z",
     "iopub.status.busy": "2021-10-17T08:41:58.607472Z",
     "iopub.status.idle": "2021-10-17T08:41:58.610150Z",
     "shell.execute_reply": "2021-10-17T08:41:58.610600Z",
     "shell.execute_reply.started": "2021-10-17T08:35:50.223109Z"
    },
    "papermill": {
     "duration": 0.03559,
     "end_time": "2021-10-17T08:41:58.610897",
     "exception": false,
     "start_time": "2021-10-17T08:41:58.575307",
     "status": "completed"
    },
    "tags": []
   },
   "outputs": [],
   "source": [
    "# video = submission_df['video'].unique()[3]"
   ]
  },
  {
   "cell_type": "code",
   "execution_count": 8,
   "id": "c01514ff",
   "metadata": {
    "execution": {
     "iopub.execute_input": "2021-10-17T08:41:58.673699Z",
     "iopub.status.busy": "2021-10-17T08:41:58.672369Z",
     "iopub.status.idle": "2021-10-17T08:41:58.675678Z",
     "shell.execute_reply": "2021-10-17T08:41:58.675119Z",
     "shell.execute_reply.started": "2021-10-17T08:35:50.428808Z"
    },
    "papermill": {
     "duration": 0.038806,
     "end_time": "2021-10-17T08:41:58.675855",
     "exception": false,
     "start_time": "2021-10-17T08:41:58.637049",
     "status": "completed"
    },
    "tags": []
   },
   "outputs": [],
   "source": [
    "# def load_results_txt(pth='results.txt', video_width=1280, video_height=720):\n",
    "#     '''\n",
    "#     Load tracking results for a video.\n",
    "#     '''\n",
    "#     fairmot_video_width = 1920\n",
    "#     fairmot_video_height = 1080\n",
    "#     x_scale = video_width / fairmot_video_width\n",
    "#     y_scale = video_height / fairmot_video_height\n",
    "    \n",
    "#     columns = ['frame', 'id', 'x1', 'y1', 'w', 'h']\n",
    "\n",
    "#     df = pd.read_csv(pth, header=None, \n",
    "#                      usecols=range(len(columns)), names=columns)\n",
    "    \n",
    "#     df[['x1', 'w']] = x_scale * df[['x1', 'w']] \n",
    "#     df[['y1', 'h']] = y_scale * df[['y1', 'h']]\n",
    "    \n",
    "#     df = df[['frame', 'x1', 'y1', 'w', 'h', 'id']]\n",
    "    \n",
    "#     df.rename(columns={'x1': 'left', \n",
    "#                        'y1': 'top', \n",
    "#                        'w' : 'width',\n",
    "#                        'h' : 'height', \n",
    "#                        'id': 'fairmot_cluster'}, inplace=True)\n",
    "    \n",
    "#     for column in ['left', 'top', 'width', 'height']:\n",
    "#         df[column] = df[column].astype(int)\n",
    "    \n",
    "#     return df"
   ]
  },
  {
   "cell_type": "markdown",
   "id": "30d5047d",
   "metadata": {
    "papermill": {
     "duration": 0.026731,
     "end_time": "2021-10-17T08:41:58.731557",
     "exception": false,
     "start_time": "2021-10-17T08:41:58.704826",
     "status": "completed"
    },
    "tags": []
   },
   "source": [
    "Check loaded FairMOT tracks make sense for a given frame."
   ]
  },
  {
   "cell_type": "code",
   "execution_count": 9,
   "id": "6581b24b",
   "metadata": {
    "execution": {
     "iopub.execute_input": "2021-10-17T08:41:58.794605Z",
     "iopub.status.busy": "2021-10-17T08:41:58.793587Z",
     "iopub.status.idle": "2021-10-17T08:41:58.797528Z",
     "shell.execute_reply": "2021-10-17T08:41:58.796773Z",
     "shell.execute_reply.started": "2021-10-17T08:36:06.471106Z"
    },
    "papermill": {
     "duration": 0.036453,
     "end_time": "2021-10-17T08:41:58.797684",
     "exception": false,
     "start_time": "2021-10-17T08:41:58.761231",
     "status": "completed"
    },
    "tags": []
   },
   "outputs": [],
   "source": [
    "# pth_tracks_fairmot = os.path.join(dir_demo, video, 'results.txt')\n",
    "# pth_video = os.path.join(video_dir, f'{video}.mp4')\n",
    "# pth_tracks_fairmot, pth_video"
   ]
  },
  {
   "cell_type": "code",
   "execution_count": 10,
   "id": "3482d693",
   "metadata": {
    "execution": {
     "iopub.execute_input": "2021-10-17T08:41:58.857179Z",
     "iopub.status.busy": "2021-10-17T08:41:58.856115Z",
     "iopub.status.idle": "2021-10-17T08:41:58.859614Z",
     "shell.execute_reply": "2021-10-17T08:41:58.859055Z",
     "shell.execute_reply.started": "2021-10-17T08:36:21.621955Z"
    },
    "papermill": {
     "duration": 0.035677,
     "end_time": "2021-10-17T08:41:58.859889",
     "exception": false,
     "start_time": "2021-10-17T08:41:58.824212",
     "status": "completed"
    },
    "tags": []
   },
   "outputs": [],
   "source": [
    "# frame = 265\n",
    "\n",
    "\n",
    "# cap = cv2.VideoCapture(pth_video)\n",
    "# fps    = cap.get(cv2.CAP_PROP_FPS)\n",
    "# width  = cap.get(cv2.CAP_PROP_FRAME_WIDTH)\n",
    "# height = cap.get(cv2.CAP_PROP_FRAME_HEIGHT)\n",
    "\n",
    "# df_tracks_fairmot = load_results_txt(pth_tracks_fairmot, \n",
    "#                                      video_width=width, video_height=height)\n",
    "\n",
    "# for _ in range(frame):\n",
    "#     read_ok, img = cap.read()\n",
    "#     assert read_ok\n",
    "#     img = cv2.cvtColor(img, cv2.COLOR_BGR2RGB)\n",
    "\n",
    "# for box in df_tracks_fairmot.query(\"frame==@frame\").itertuples():\n",
    "#     x1 = box.left\n",
    "#     y1 = box.top\n",
    "#     x2 = x1 + box.width\n",
    "#     y2 = y1 + box.height\n",
    "#     img = cv2.rectangle(img, \n",
    "#                         pt1=(x1, y1), pt2=(x2, y2), \n",
    "#                         color=(255, 255, 255), thickness=1)\n",
    "    \n",
    "# _, ax = plt.subplots(figsize=(20, 15))\n",
    "# ax.imshow(img);"
   ]
  },
  {
   "cell_type": "markdown",
   "id": "96941ded",
   "metadata": {
    "papermill": {
     "duration": 0.029887,
     "end_time": "2021-10-17T08:41:58.917922",
     "exception": false,
     "start_time": "2021-10-17T08:41:58.888035",
     "status": "completed"
    },
    "tags": []
   },
   "source": [
    "# Merge helmet-tracking tracks with FairMOT tracks"
   ]
  },
  {
   "cell_type": "code",
   "execution_count": 11,
   "id": "fd46e2bf",
   "metadata": {
    "execution": {
     "iopub.execute_input": "2021-10-17T08:41:58.977062Z",
     "iopub.status.busy": "2021-10-17T08:41:58.976029Z",
     "iopub.status.idle": "2021-10-17T08:41:58.979521Z",
     "shell.execute_reply": "2021-10-17T08:41:58.978933Z",
     "shell.execute_reply.started": "2021-10-14T12:17:52.273782Z"
    },
    "papermill": {
     "duration": 0.033649,
     "end_time": "2021-10-17T08:41:58.979683",
     "exception": false,
     "start_time": "2021-10-17T08:41:58.946034",
     "status": "completed"
    },
    "tags": []
   },
   "outputs": [],
   "source": [
    "# submission_df['video'] = submission_df['video_frame'].str.split('_').str[:3].str.join('_')\n",
    "# submission_df['frame'] = submission_df['video_frame'].str.split('_').str[-1].astype(int)"
   ]
  },
  {
   "cell_type": "code",
   "execution_count": 12,
   "id": "01fc7675",
   "metadata": {
    "execution": {
     "iopub.execute_input": "2021-10-17T08:41:59.039373Z",
     "iopub.status.busy": "2021-10-17T08:41:59.038563Z",
     "iopub.status.idle": "2021-10-17T08:41:59.041283Z",
     "shell.execute_reply": "2021-10-17T08:41:59.040626Z",
     "shell.execute_reply.started": "2021-10-14T12:18:11.485657Z"
    },
    "papermill": {
     "duration": 0.034979,
     "end_time": "2021-10-17T08:41:59.041451",
     "exception": false,
     "start_time": "2021-10-17T08:41:59.006472",
     "status": "completed"
    },
    "tags": []
   },
   "outputs": [],
   "source": [
    "# video = submission_df['video'].unique()[3]\n",
    "\n",
    "# pth_video = os.path.join(video_dir, f'{video}.mp4')\n",
    "# pth_tracks_fairmot = os.path.join(dir_demo, video, 'results.txt')\n",
    "\n",
    "# df_tracks_helmtrack = submission_df.query('video == @video')\n",
    "\n",
    "# cap = cv2.VideoCapture(pth_video)\n",
    "# video_width  = cap.get(cv2.CAP_PROP_FRAME_WIDTH)\n",
    "# video_height = cap.get(cv2.CAP_PROP_FRAME_HEIGHT)\n",
    "# df_tracks_fairmot = load_results_txt(pth_tracks_fairmot, \n",
    "#                                      video_width, video_height)"
   ]
  },
  {
   "cell_type": "code",
   "execution_count": 13,
   "id": "b346f65e",
   "metadata": {
    "execution": {
     "iopub.execute_input": "2021-10-17T08:41:59.097769Z",
     "iopub.status.busy": "2021-10-17T08:41:59.096982Z",
     "iopub.status.idle": "2021-10-17T08:41:59.101022Z",
     "shell.execute_reply": "2021-10-17T08:41:59.101562Z",
     "shell.execute_reply.started": "2021-10-14T12:46:47.98909Z"
    },
    "papermill": {
     "duration": 0.033545,
     "end_time": "2021-10-17T08:41:59.101767",
     "exception": false,
     "start_time": "2021-10-17T08:41:59.068222",
     "status": "completed"
    },
    "tags": []
   },
   "outputs": [],
   "source": [
    "# def merge_tracks(tracks_left, tracks_right, suffix_right='_fairmot'):\n",
    "#     '''\n",
    "#     For a video, merge two sets of tracks by matching their \n",
    "#     bounding boxes' top-left corner's x-coordinate.\n",
    "    \n",
    "#     Args:\n",
    "#         tracks_left: pd.DataFrame\n",
    "#             Left set of tracks, with columns like `frame`, `left`, `top`, etc.\n",
    "#         tracks_right: pd.DataFrame\n",
    "#             Right set of tracks, with columns like `frame`, `left`, `top`, etc.\n",
    "#         suffix_right: str\n",
    "#             Suffix that will be added to columns in `tracks_right` that are also\n",
    "#             present in `tracks_left` after the merge.\n",
    "#     '''\n",
    "#     df_tracks = []\n",
    "#     for frame, df_left in tqdm(tracks_left.groupby('frame'), \n",
    "#                                total=tracks_left['frame'].nunique()):\n",
    "\n",
    "#         df_left.sort_values(['left', 'top'], inplace=True)\n",
    "\n",
    "#         df_right = tracks_right.query('frame == @frame').copy()\n",
    "#         df_right.sort_values(['left', 'top'], inplace=True)\n",
    "\n",
    "#         merged = pd.merge_asof(df_left, df_right, \n",
    "#                                on='left', direction='nearest',\n",
    "#                                suffixes=('', suffix_right))\n",
    "\n",
    "#         df_tracks.append(merged)\n",
    "\n",
    "#     df_tracks = pd.concat(df_tracks, axis=0)    \n",
    "#     return df_tracks"
   ]
  },
  {
   "cell_type": "code",
   "execution_count": 14,
   "id": "ab5b4c5b",
   "metadata": {
    "execution": {
     "iopub.execute_input": "2021-10-17T08:41:59.159641Z",
     "iopub.status.busy": "2021-10-17T08:41:59.158833Z",
     "iopub.status.idle": "2021-10-17T08:41:59.162486Z",
     "shell.execute_reply": "2021-10-17T08:41:59.163051Z",
     "shell.execute_reply.started": "2021-10-14T12:47:22.579599Z"
    },
    "papermill": {
     "duration": 0.034479,
     "end_time": "2021-10-17T08:41:59.163260",
     "exception": false,
     "start_time": "2021-10-17T08:41:59.128781",
     "status": "completed"
    },
    "tags": []
   },
   "outputs": [],
   "source": [
    "# merge_tracks(df_tracks_helmtrack, df_tracks_fairmot, suffix_right='_fairmot')"
   ]
  },
  {
   "cell_type": "markdown",
   "id": "80138f3a",
   "metadata": {
    "papermill": {
     "duration": 0.025948,
     "end_time": "2021-10-17T08:41:59.215920",
     "exception": false,
     "start_time": "2021-10-17T08:41:59.189972",
     "status": "completed"
    },
    "tags": []
   },
   "source": [
    "# Assign player number to each FairMOT track/cluster"
   ]
  },
  {
   "cell_type": "code",
   "execution_count": 15,
   "id": "69b783fa",
   "metadata": {
    "execution": {
     "iopub.execute_input": "2021-10-17T08:41:59.273353Z",
     "iopub.status.busy": "2021-10-17T08:41:59.272443Z",
     "iopub.status.idle": "2021-10-17T08:41:59.277212Z",
     "shell.execute_reply": "2021-10-17T08:41:59.277722Z",
     "shell.execute_reply.started": "2021-10-14T13:47:16.226201Z"
    },
    "papermill": {
     "duration": 0.035413,
     "end_time": "2021-10-17T08:41:59.277937",
     "exception": false,
     "start_time": "2021-10-17T08:41:59.242524",
     "status": "completed"
    },
    "tags": []
   },
   "outputs": [],
   "source": [
    "# def assign_label_to_cluster(df_tracks, mot='fairmot'):\n",
    "#     r'''\n",
    "#     For a video, assign labels (player numbers) to tracks/clusters,\n",
    "#     by taking the most common label for the cluster.\n",
    "    \n",
    "#     Args:\n",
    "#         df_tracks (pd.DataFrame): Tracks for the video.  Each row\n",
    "#             corresponds to a helmet.  Need a 'label' column containing\n",
    "#             player numbers, and a cluster/track column, such as \n",
    "#             'fairmot_cluster', or 'deepsort_cluster'.\n",
    "#         mot (str): Name of the multiple objectr tracking method. \n",
    "#             e.g. 'deepsort', 'fairmot'. Default: 'fairmot'\n",
    "            \n",
    "#     Returns:\n",
    "#         df_tracks (pd.DataFrame): Same as input, with two additional\n",
    "#             colums: 'label_{mot}' is the most common label in a cluster,\n",
    "#             and 'label_count_{mot}' is the number of times the common label\n",
    "#             appears in a cluster.\n",
    "#     '''\n",
    "#     sortlabelcount = (\n",
    "#         df_tracks.groupby(f'{mot}_cluster')['label'].value_counts()\n",
    "#         .sort_values(ascending=False).to_frame()\n",
    "#         .rename(columns={'label': 'label_count'})\n",
    "#         .reset_index()\n",
    "#         .groupby(f'{mot}_cluster')\n",
    "#         )\n",
    "\n",
    "#     # Most common label in a cluster/track\n",
    "#     cluster2label = sortlabelcount['label'].first().to_dict()\n",
    "#     # Number of times the most common label occurs in a cluster/track\n",
    "#     cluster2label_count = sortlabelcount['label_count'].first().to_dict()\n",
    "\n",
    "#     df_tracks[f'label_{mot}'] = df_tracks[f'{mot}_cluster'].map(cluster2label)\n",
    "#     df_tracks[f'label_count_{mot}'] = df_tracks[f'{mot}_cluster'].map(cluster2label_count)\n",
    "#     return df_tracks"
   ]
  },
  {
   "cell_type": "code",
   "execution_count": 16,
   "id": "fa45a40c",
   "metadata": {
    "execution": {
     "iopub.execute_input": "2021-10-17T08:41:59.334514Z",
     "iopub.status.busy": "2021-10-17T08:41:59.333768Z",
     "iopub.status.idle": "2021-10-17T08:41:59.337308Z",
     "shell.execute_reply": "2021-10-17T08:41:59.337803Z",
     "shell.execute_reply.started": "2021-10-14T13:47:16.226201Z"
    },
    "papermill": {
     "duration": 0.033906,
     "end_time": "2021-10-17T08:41:59.338029",
     "exception": false,
     "start_time": "2021-10-17T08:41:59.304123",
     "status": "completed"
    },
    "tags": []
   },
   "outputs": [],
   "source": [
    "# assign_label_to_cluster(df_tracks)"
   ]
  },
  {
   "cell_type": "code",
   "execution_count": null,
   "id": "504dcf89",
   "metadata": {
    "papermill": {
     "duration": 0.026381,
     "end_time": "2021-10-17T08:41:59.390715",
     "exception": false,
     "start_time": "2021-10-17T08:41:59.364334",
     "status": "completed"
    },
    "tags": []
   },
   "outputs": [],
   "source": []
  },
  {
   "cell_type": "markdown",
   "id": "cc21ad40",
   "metadata": {
    "papermill": {
     "duration": 0.026421,
     "end_time": "2021-10-17T08:41:59.443756",
     "exception": false,
     "start_time": "2021-10-17T08:41:59.417335",
     "status": "completed"
    },
    "tags": []
   },
   "source": [
    "# Iterate over videos"
   ]
  },
  {
   "cell_type": "code",
   "execution_count": 17,
   "id": "4ee7962b",
   "metadata": {
    "execution": {
     "iopub.execute_input": "2021-10-17T08:41:59.499782Z",
     "iopub.status.busy": "2021-10-17T08:41:59.499077Z",
     "iopub.status.idle": "2021-10-17T08:41:59.502550Z",
     "shell.execute_reply": "2021-10-17T08:41:59.503047Z",
     "shell.execute_reply.started": "2021-10-14T14:22:46.906396Z"
    },
    "papermill": {
     "duration": 0.03324,
     "end_time": "2021-10-17T08:41:59.503247",
     "exception": false,
     "start_time": "2021-10-17T08:41:59.470007",
     "status": "completed"
    },
    "tags": []
   },
   "outputs": [],
   "source": [
    "# mot = 'fairmot'"
   ]
  },
  {
   "cell_type": "code",
   "execution_count": 18,
   "id": "56faebcb",
   "metadata": {
    "execution": {
     "iopub.execute_input": "2021-10-17T08:41:59.562215Z",
     "iopub.status.busy": "2021-10-17T08:41:59.561277Z",
     "iopub.status.idle": "2021-10-17T08:41:59.564701Z",
     "shell.execute_reply": "2021-10-17T08:41:59.565200Z",
     "shell.execute_reply.started": "2021-10-14T14:23:24.457298Z"
    },
    "papermill": {
     "duration": 0.033233,
     "end_time": "2021-10-17T08:41:59.565403",
     "exception": false,
     "start_time": "2021-10-17T08:41:59.532170",
     "status": "completed"
    },
    "tags": []
   },
   "outputs": [],
   "source": [
    "# submission_df['video'] = submission_df['video_frame'].str.split('_').str[:3].str.join('_')\n",
    "# submission_df['frame'] = submission_df['video_frame'].str.split('_').str[-1].astype(int)"
   ]
  },
  {
   "cell_type": "code",
   "execution_count": 19,
   "id": "2755f610",
   "metadata": {
    "execution": {
     "iopub.execute_input": "2021-10-17T08:41:59.623799Z",
     "iopub.status.busy": "2021-10-17T08:41:59.622603Z",
     "iopub.status.idle": "2021-10-17T08:41:59.627062Z",
     "shell.execute_reply": "2021-10-17T08:41:59.627600Z",
     "shell.execute_reply.started": "2021-10-14T14:32:47.387344Z"
    },
    "papermill": {
     "duration": 0.0364,
     "end_time": "2021-10-17T08:41:59.627831",
     "exception": false,
     "start_time": "2021-10-17T08:41:59.591431",
     "status": "completed"
    },
    "tags": []
   },
   "outputs": [],
   "source": [
    "# outs = []\n",
    "\n",
    "# for video, df_tracks_helmtrack in tqdm(submission_df.groupby('video'), \n",
    "#                                        total=submission_df['video'].nunique()):\n",
    "#     print(f'==== {video} ====')\n",
    "    \n",
    "#     pth_video = f'{video_dir}/{video}.mp4'\n",
    "#     pth_tracks_fairmot = os.path.join(dir_demo, video, 'results.txt')\n",
    "\n",
    "#     cap = cv2.VideoCapture(pth_video)\n",
    "#     video_width  = cap.get(cv2.CAP_PROP_FRAME_WIDTH)\n",
    "#     video_height = cap.get(cv2.CAP_PROP_FRAME_HEIGHT)\n",
    "#     df_tracks_fairmot = load_results_txt(pth_tracks_fairmot, \n",
    "#                                          video_width, video_height)\n",
    "    \n",
    "#     if debug:\n",
    "#         raise NotImplementedError\n",
    "# #         out = deepsort_helmets(video_data, video_pth, plot_frames=[10, 150, 250])\n",
    "#     else:\n",
    "#         df_tracks = merge_tracks(df_tracks_helmtrack, df_tracks_fairmot, suffix_right=f'_{mot}')\n",
    "        \n",
    "#     df_tracks = assign_label_to_cluster(df_tracks, mot=mot)\n",
    "    \n",
    "#     outs.append(df_tracks)\n",
    "    \n",
    "#     if debug:\n",
    "#         score_vs_deepsort(video, df_tracks, labels)\n",
    "        \n",
    "# submission_fairmot = pd.concat(outs).copy()"
   ]
  },
  {
   "cell_type": "markdown",
   "id": "fd83e61e",
   "metadata": {
    "papermill": {
     "duration": 0.026657,
     "end_time": "2021-10-17T08:41:59.681367",
     "exception": false,
     "start_time": "2021-10-17T08:41:59.654710",
     "status": "completed"
    },
    "tags": []
   },
   "source": [
    "# Check submission & save"
   ]
  },
  {
   "cell_type": "code",
   "execution_count": 20,
   "id": "b9cbea50",
   "metadata": {
    "execution": {
     "iopub.execute_input": "2021-10-17T08:41:59.741328Z",
     "iopub.status.busy": "2021-10-17T08:41:59.740234Z",
     "iopub.status.idle": "2021-10-17T08:41:59.745589Z",
     "shell.execute_reply": "2021-10-17T08:41:59.744870Z",
     "shell.execute_reply.started": "2021-10-14T14:35:33.506411Z"
    },
    "papermill": {
     "duration": 0.036668,
     "end_time": "2021-10-17T08:41:59.745747",
     "exception": false,
     "start_time": "2021-10-17T08:41:59.709079",
     "status": "completed"
    },
    "tags": []
   },
   "outputs": [],
   "source": [
    "# ss = pd.read_csv('/kaggle/input/nfl-health-and-safety-helmet-assignment/sample_submission.csv')\n",
    "\n",
    "# submission_fairmot['label_fairmot'].fillna(submission_fairmot['label'], inplace=True)\n",
    "# submission_fairmot.drop('label', axis=1, inplace=True)\n",
    "# submission_fairmot.rename(columns={'label_fairmot': 'label'}, inplace=True)\n",
    "# submission_fairmot = submission_fairmot[ss.columns]\n",
    "# is_duped = submission_fairmot[['video_frame', 'label']].duplicated()\n",
    "# submission_fairmot = submission_fairmot[~is_duped]\n",
    "\n",
    "# check_submission(submission_fairmot)\n",
    "\n",
    "# p = '/kaggle/working/' + ('submission_fairmot_debug.csv' if debug else \n",
    "#                           'submission_fairmot.csv')\n",
    "# submission_deepsort.to_csv(p, index=False)"
   ]
  },
  {
   "cell_type": "markdown",
   "id": "0c5631c6",
   "metadata": {
    "papermill": {
     "duration": 0.025777,
     "end_time": "2021-10-17T08:41:59.799963",
     "exception": false,
     "start_time": "2021-10-17T08:41:59.774186",
     "status": "completed"
    },
    "tags": []
   },
   "source": [
    "# Display video showing predictions"
   ]
  },
  {
   "cell_type": "code",
   "execution_count": 21,
   "id": "7b843c13",
   "metadata": {
    "execution": {
     "iopub.execute_input": "2021-10-17T08:41:59.859153Z",
     "iopub.status.busy": "2021-10-17T08:41:59.858452Z",
     "iopub.status.idle": "2021-10-17T08:41:59.860542Z",
     "shell.execute_reply": "2021-10-17T08:41:59.861123Z",
     "shell.execute_reply.started": "2021-10-14T14:37:13.773211Z"
    },
    "papermill": {
     "duration": 0.035035,
     "end_time": "2021-10-17T08:41:59.861320",
     "exception": false,
     "start_time": "2021-10-17T08:41:59.826285",
     "status": "completed"
    },
    "tags": []
   },
   "outputs": [],
   "source": [
    "# if debug:\n",
    "#     submission_deepsort['video'] = (\n",
    "#         submission_deepsort['video_frame']\n",
    "#         .str.split('_')\n",
    "#         .str[:3]\n",
    "#         .str.join('_') + '.mp4'\n",
    "#     )\n",
    "    \n",
    "#     debug_videos = submission_deepsort['video'].unique()\n",
    "#     debug_labels = labels.query('video in @debug_videos')\n",
    "    \n",
    "#     scorer = NFLAssignmentScorer(debug_labels)\n",
    "#     scorer.score(submission_deepsort)\n",
    "    \n",
    "#     video_out = video_with_predictions(f'{video_dir}/{debug_videos[0]}',\n",
    "#                                        scorer.sub_labels)\n",
    "    \n",
    "#     frac = 0.6\n",
    "#     display(\n",
    "#         Video(data=video_out, embed=True, \n",
    "#               height=int(frac * 720), width=int(frac * 1280))\n",
    "#     )\n",
    "    "
   ]
  },
  {
   "cell_type": "code",
   "execution_count": null,
   "id": "d992be2a",
   "metadata": {
    "papermill": {
     "duration": 0.028181,
     "end_time": "2021-10-17T08:41:59.916277",
     "exception": false,
     "start_time": "2021-10-17T08:41:59.888096",
     "status": "completed"
    },
    "tags": []
   },
   "outputs": [],
   "source": []
  },
  {
   "cell_type": "code",
   "execution_count": null,
   "id": "45bfca8a",
   "metadata": {
    "papermill": {
     "duration": 0.027673,
     "end_time": "2021-10-17T08:41:59.971327",
     "exception": false,
     "start_time": "2021-10-17T08:41:59.943654",
     "status": "completed"
    },
    "tags": []
   },
   "outputs": [],
   "source": []
  },
  {
   "cell_type": "code",
   "execution_count": null,
   "id": "8b3818a0",
   "metadata": {
    "papermill": {
     "duration": 0.026984,
     "end_time": "2021-10-17T08:42:00.024390",
     "exception": false,
     "start_time": "2021-10-17T08:41:59.997406",
     "status": "completed"
    },
    "tags": []
   },
   "outputs": [],
   "source": []
  },
  {
   "cell_type": "code",
   "execution_count": null,
   "id": "898557f2",
   "metadata": {
    "papermill": {
     "duration": 0.026946,
     "end_time": "2021-10-17T08:42:00.079050",
     "exception": false,
     "start_time": "2021-10-17T08:42:00.052104",
     "status": "completed"
    },
    "tags": []
   },
   "outputs": [],
   "source": []
  }
 ],
 "metadata": {
  "kernelspec": {
   "display_name": "Python 3",
   "language": "python",
   "name": "python3"
  },
  "language_info": {
   "codemirror_mode": {
    "name": "ipython",
    "version": 3
   },
   "file_extension": ".py",
   "mimetype": "text/x-python",
   "name": "python",
   "nbconvert_exporter": "python",
   "pygments_lexer": "ipython3",
   "version": "3.7.10"
  },
  "papermill": {
   "default_parameters": {},
   "duration": 18.004985,
   "end_time": "2021-10-17T08:42:01.019340",
   "environment_variables": {},
   "exception": null,
   "input_path": "__notebook__.ipynb",
   "output_path": "__notebook__.ipynb",
   "parameters": {},
   "start_time": "2021-10-17T08:41:43.014355",
   "version": "2.3.3"
  }
 },
 "nbformat": 4,
 "nbformat_minor": 5
}
