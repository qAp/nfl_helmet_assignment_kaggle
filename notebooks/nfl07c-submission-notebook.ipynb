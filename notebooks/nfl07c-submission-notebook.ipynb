{
 "cells": [
  {
   "cell_type": "markdown",
   "id": "5637a2c9",
   "metadata": {
    "papermill": {
     "duration": 0.019612,
     "end_time": "2021-11-01T15:24:39.078083",
     "exception": false,
     "start_time": "2021-11-01T15:24:39.058471",
     "status": "completed"
    },
    "tags": []
   },
   "source": [
    "# Submission Notebook"
   ]
  },
  {
   "cell_type": "code",
   "execution_count": 1,
   "id": "32a875b9",
   "metadata": {
    "_kg_hide-output": true,
    "execution": {
     "iopub.execute_input": "2021-11-01T15:24:39.203809Z",
     "iopub.status.busy": "2021-11-01T15:24:39.202348Z",
     "iopub.status.idle": "2021-11-01T15:25:57.087905Z",
     "shell.execute_reply": "2021-11-01T15:25:57.086779Z",
     "shell.execute_reply.started": "2021-11-01T11:01:02.603305Z"
    },
    "papermill": {
     "duration": 77.991083,
     "end_time": "2021-11-01T15:25:57.088091",
     "exception": false,
     "start_time": "2021-11-01T15:24:39.097008",
     "status": "completed"
    },
    "tags": []
   },
   "outputs": [
    {
     "name": "stdout",
     "output_type": "stream",
     "text": [
      "/kaggle\n",
      "/kaggle/DCNv2\n"
     ]
    }
   ],
   "source": [
    "%cd /kaggle\n",
    "!cp -r /kaggle/input/nfldata-dcnv2/DCNv2 /kaggle/.\n",
    "%cd /kaggle/DCNv2\n",
    "! chmod a+x *\n",
    "! ./make.sh &> /dev/null"
   ]
  },
  {
   "cell_type": "code",
   "execution_count": 2,
   "id": "b155b82a",
   "metadata": {
    "execution": {
     "iopub.execute_input": "2021-11-01T15:25:57.140192Z",
     "iopub.status.busy": "2021-11-01T15:25:57.139426Z",
     "iopub.status.idle": "2021-11-01T15:28:15.597246Z",
     "shell.execute_reply": "2021-11-01T15:28:15.596409Z",
     "shell.execute_reply.started": "2021-11-01T11:03:04.533429Z"
    },
    "papermill": {
     "duration": 138.490021,
     "end_time": "2021-11-01T15:28:15.597403",
     "exception": false,
     "start_time": "2021-11-01T15:25:57.107382",
     "status": "completed"
    },
    "tags": []
   },
   "outputs": [],
   "source": [
    "# Install motmetrics\n",
    "! pip install -qq /kaggle/input/nfl07b-fairmot-dependencies/pre_fairmot_install/py-cpuinfo-8.0.0.tar.gz\n",
    "! pip install -qq /kaggle/input/nfl07b-fairmot-dependencies/pre_fairmot_install/xmltodict-0.12.0-py2.py3-none-any.whl\n",
    "! pip install -qq /kaggle/input/nfl07b-fairmot-dependencies/pre_fairmot_install/pytest_benchmark-3.4.1-py2.py3-none-any.whl\n",
    "! pip install -qq /kaggle/input/nfl07b-fairmot-dependencies/pre_fairmot_install/flake8_import_order-0.18.1-py2.py3-none-any.whl\n",
    "! pip install -qq /kaggle/input/nfl07b-fairmot-dependencies/pre_fairmot_install/motmetrics-1.2.0-py3-none-any.whl"
   ]
  },
  {
   "cell_type": "code",
   "execution_count": 3,
   "id": "e497d169",
   "metadata": {
    "_kg_hide-output": true,
    "execution": {
     "iopub.execute_input": "2021-11-01T15:28:15.644884Z",
     "iopub.status.busy": "2021-11-01T15:28:15.643963Z",
     "iopub.status.idle": "2021-11-01T15:28:32.238950Z",
     "shell.execute_reply": "2021-11-01T15:28:32.238457Z",
     "shell.execute_reply.started": "2021-11-01T11:06:41.151678Z"
    },
    "papermill": {
     "duration": 16.62273,
     "end_time": "2021-11-01T15:28:32.239095",
     "exception": false,
     "start_time": "2021-11-01T15:28:15.616365",
     "status": "completed"
    },
    "tags": []
   },
   "outputs": [
    {
     "name": "stdout",
     "output_type": "stream",
     "text": [
      "/kaggle\n",
      "/kaggle/FairMOT\n"
     ]
    }
   ],
   "source": [
    "%cd /kaggle\n",
    "!cp -r /kaggle/input/nfldata-fairmot-package/FairMOT /kaggle/.\n",
    "%cd /kaggle/FairMOT\n",
    "! pip install -qq --no-deps --no-index --find-links=/kaggle/input/nfl07b-fairmot-dependencies/pre_fairmot_install -r requirements.txt #&> /dev/null"
   ]
  },
  {
   "cell_type": "code",
   "execution_count": 4,
   "id": "ff1fcdca",
   "metadata": {
    "_kg_hide-output": true,
    "execution": {
     "iopub.execute_input": "2021-11-01T15:28:32.290522Z",
     "iopub.status.busy": "2021-11-01T15:28:32.289429Z",
     "iopub.status.idle": "2021-11-01T15:28:34.207413Z",
     "shell.execute_reply": "2021-11-01T15:28:34.206932Z",
     "shell.execute_reply.started": "2021-11-01T11:06:49.375173Z"
    },
    "papermill": {
     "duration": 1.948307,
     "end_time": "2021-11-01T15:28:34.207542",
     "exception": false,
     "start_time": "2021-11-01T15:28:32.259235",
     "status": "completed"
    },
    "tags": []
   },
   "outputs": [
    {
     "name": "stdout",
     "output_type": "stream",
     "text": [
      "Found existing installation: datasets 1.12.1\r\n",
      "Uninstalling datasets-1.12.1:\r\n",
      "  Successfully uninstalled datasets-1.12.1\r\n",
      "\u001b[33mWARNING: Running pip as the 'root' user can result in broken permissions and conflicting behaviour with the system package manager. It is recommended to use a virtual environment instead: https://pip.pypa.io/warnings/venv\u001b[0m\r\n"
     ]
    }
   ],
   "source": [
    "! pip uninstall -y datasets"
   ]
  },
  {
   "cell_type": "code",
   "execution_count": 5,
   "id": "3c3218f3",
   "metadata": {
    "execution": {
     "iopub.execute_input": "2021-11-01T15:28:34.256289Z",
     "iopub.status.busy": "2021-11-01T15:28:34.252667Z",
     "iopub.status.idle": "2021-11-01T15:28:35.264513Z",
     "shell.execute_reply": "2021-11-01T15:28:35.264031Z",
     "shell.execute_reply.started": "2021-11-01T11:07:05.513102Z"
    },
    "papermill": {
     "duration": 1.036633,
     "end_time": "2021-11-01T15:28:35.264645",
     "exception": false,
     "start_time": "2021-11-01T15:28:34.228012",
     "status": "completed"
    },
    "tags": []
   },
   "outputs": [],
   "source": [
    "# User\n",
    "! cp -r /kaggle/input/nfl-helmet-assignment-kaggle/nfl_helmet_assignment_kaggle /kaggle/."
   ]
  },
  {
   "cell_type": "code",
   "execution_count": 6,
   "id": "c9ccd8ee",
   "metadata": {
    "execution": {
     "iopub.execute_input": "2021-11-01T15:28:35.313859Z",
     "iopub.status.busy": "2021-11-01T15:28:35.313072Z",
     "iopub.status.idle": "2021-11-01T15:28:36.985770Z",
     "shell.execute_reply": "2021-11-01T15:28:36.985279Z",
     "shell.execute_reply.started": "2021-11-01T11:07:12.494904Z"
    },
    "papermill": {
     "duration": 1.700245,
     "end_time": "2021-11-01T15:28:36.985928",
     "exception": false,
     "start_time": "2021-11-01T15:28:35.285683",
     "status": "completed"
    },
    "tags": []
   },
   "outputs": [],
   "source": [
    "import os, sys\n",
    "import subprocess\n",
    "from multiprocessing import Pool\n",
    "import random\n",
    "import numpy as np\n",
    "import pandas as pd\n",
    "import torch\n",
    "from IPython.display import display, Video\n",
    "from tqdm.auto import tqdm\n",
    "\n",
    "# FairMOT imports\n",
    "sys.path.append('/kaggle/DCNv2')\n",
    "sys.path.append('/kaggle/FairMOT/src/lib')\n",
    "from datasets.dataset.jde import LoadVideo\n",
    "\n",
    "# nfl_helmet_assignment_kaggle imports\n",
    "sys.path.append('/kaggle/input/easydict-master/easydict-master')\n",
    "sys.path.append(\n",
    "    ('/kaggle/input/yolov5-deepsort-pytorch/Yolov5_DeepSort_Pytorch-master'\n",
    "     '/Yolov5_DeepSort_Pytorch-master/deep_sort_pytorch')\n",
    ")\n",
    "sys.path.append('/kaggle/nfl_helmet_assignment_kaggle/')\n",
    "from helmet_tracker.utils.score import check_submission\n",
    "from helmet_tracker.utils.video import ffmpeg_friendly_encode\n",
    "from helmet_tracker.utils.features import add_track_features\n",
    "from helmet_tracker.models.helmet_mapping import mapping_df_2d\n",
    "from helmet_tracker.models.fairmot_postprocess import fmot_postprocess_hmap"
   ]
  },
  {
   "cell_type": "code",
   "execution_count": 7,
   "id": "22d3fbb3",
   "metadata": {
    "execution": {
     "iopub.execute_input": "2021-11-01T15:28:37.032654Z",
     "iopub.status.busy": "2021-11-01T15:28:37.030956Z",
     "iopub.status.idle": "2021-11-01T15:28:37.033278Z",
     "shell.execute_reply": "2021-11-01T15:28:37.033710Z",
     "shell.execute_reply.started": "2021-11-01T11:07:14.328276Z"
    },
    "papermill": {
     "duration": 0.027073,
     "end_time": "2021-11-01T15:28:37.033836",
     "exception": false,
     "start_time": "2021-11-01T15:28:37.006763",
     "status": "completed"
    },
    "tags": []
   },
   "outputs": [],
   "source": [
    "# For traindebug videos\n",
    "\n",
    "# BASE_DIR = '/kaggle/input/nfl-health-and-safety-helmet-assignment'\n",
    "\n",
    "# dir_video = os.path.join(BASE_DIR, 'train')\n",
    "# tracking = pd.read_csv(f'{BASE_DIR}/train_player_tracking.csv')\n",
    "# helmets = pd.read_csv(f'{BASE_DIR}/train_baseline_helmets.csv')\n",
    "\n",
    "# # For developing, restrict to \"traindebug\" samples\n",
    "\n",
    "# pth_ss_hmap = '/kaggle/input/nfl-mydata/submission_helmtrack_debug.csv'\n",
    "# ss_hmap = pd.read_csv(pth_ss_hmap)\n",
    "# videos = ss_hmap['video_frame'].str.split('_').str[:3].str.join('_').unique()[:2]\n",
    "\n",
    "# helmets['video'] = helmets['video_frame'].str.split('_').str[:3].str.join('_')\n",
    "# helmets = helmets[helmets['video'].isin(videos)]"
   ]
  },
  {
   "cell_type": "code",
   "execution_count": 8,
   "id": "0c617b1d",
   "metadata": {
    "execution": {
     "iopub.execute_input": "2021-11-01T15:28:37.080442Z",
     "iopub.status.busy": "2021-11-01T15:28:37.079748Z",
     "iopub.status.idle": "2021-11-01T15:28:37.527518Z",
     "shell.execute_reply": "2021-11-01T15:28:37.526970Z",
     "shell.execute_reply.started": "2021-11-01T11:07:14.328276Z"
    },
    "papermill": {
     "duration": 0.47406,
     "end_time": "2021-11-01T15:28:37.527649",
     "exception": false,
     "start_time": "2021-11-01T15:28:37.053589",
     "status": "completed"
    },
    "tags": []
   },
   "outputs": [],
   "source": [
    "BASE_DIR = '/kaggle/input/nfl-health-and-safety-helmet-assignment'\n",
    "\n",
    "dir_video = os.path.join(BASE_DIR, 'test')\n",
    "tracking = pd.read_csv(f'{BASE_DIR}/test_player_tracking.csv')\n",
    "helmets = pd.read_csv(f'{BASE_DIR}/test_baseline_helmets.csv')\n",
    "\n",
    "videos = [pth.split('.')[0] for pth in os.listdir(dir_video)]\n",
    "\n",
    "helmets['video'] = helmets['video_frame'].str.split('_').str[:3].str.join('_')\n",
    "helmets = helmets[helmets['video'].isin(videos)]"
   ]
  },
  {
   "cell_type": "code",
   "execution_count": 9,
   "id": "80d20b23",
   "metadata": {
    "execution": {
     "iopub.execute_input": "2021-11-01T15:28:37.576066Z",
     "iopub.status.busy": "2021-11-01T15:28:37.575374Z",
     "iopub.status.idle": "2021-11-01T15:28:37.578468Z",
     "shell.execute_reply": "2021-11-01T15:28:37.578889Z",
     "shell.execute_reply.started": "2021-11-01T11:07:22.790889Z"
    },
    "papermill": {
     "duration": 0.03069,
     "end_time": "2021-11-01T15:28:37.579026",
     "exception": false,
     "start_time": "2021-11-01T15:28:37.548336",
     "status": "completed"
    },
    "tags": []
   },
   "outputs": [
    {
     "data": {
      "text/plain": [
       "['57906_000718_Sideline',\n",
       " '57906_000718_Endzone',\n",
       " '57995_000109_Endzone',\n",
       " '58102_002798_Sideline',\n",
       " '57995_000109_Sideline',\n",
       " '58102_002798_Endzone']"
      ]
     },
     "execution_count": 9,
     "metadata": {},
     "output_type": "execute_result"
    }
   ],
   "source": [
    "videos"
   ]
  },
  {
   "cell_type": "markdown",
   "id": "e89547aa",
   "metadata": {
    "papermill": {
     "duration": 0.019994,
     "end_time": "2021-11-01T15:28:37.619103",
     "exception": false,
     "start_time": "2021-11-01T15:28:37.599109",
     "status": "completed"
    },
    "tags": []
   },
   "source": [
    "# Helmet mapping 2D"
   ]
  },
  {
   "cell_type": "code",
   "execution_count": 10,
   "id": "56a850d7",
   "metadata": {
    "execution": {
     "iopub.execute_input": "2021-11-01T15:28:37.662489Z",
     "iopub.status.busy": "2021-11-01T15:28:37.661985Z",
     "iopub.status.idle": "2021-11-01T15:28:37.796775Z",
     "shell.execute_reply": "2021-11-01T15:28:37.797280Z",
     "shell.execute_reply.started": "2021-11-01T07:47:25.948612Z"
    },
    "papermill": {
     "duration": 0.158489,
     "end_time": "2021-11-01T15:28:37.797468",
     "exception": false,
     "start_time": "2021-11-01T15:28:37.638979",
     "status": "completed"
    },
    "tags": []
   },
   "outputs": [],
   "source": [
    "# Add estimated video frame to NGS data\n",
    "\n",
    "tracking = add_track_features(tracking) "
   ]
  },
  {
   "cell_type": "code",
   "execution_count": 11,
   "id": "e843788f",
   "metadata": {
    "execution": {
     "iopub.execute_input": "2021-11-01T15:28:37.847033Z",
     "iopub.status.busy": "2021-11-01T15:28:37.846260Z",
     "iopub.status.idle": "2021-11-01T15:28:37.849001Z",
     "shell.execute_reply": "2021-11-01T15:28:37.848572Z",
     "shell.execute_reply.started": "2021-11-01T07:47:30.298Z"
    },
    "papermill": {
     "duration": 0.027519,
     "end_time": "2021-11-01T15:28:37.849118",
     "exception": false,
     "start_time": "2021-11-01T15:28:37.821599",
     "status": "completed"
    },
    "tags": []
   },
   "outputs": [],
   "source": [
    "CONF_THRE = 0.3"
   ]
  },
  {
   "cell_type": "code",
   "execution_count": 12,
   "id": "2065a10f",
   "metadata": {
    "execution": {
     "iopub.execute_input": "2021-11-01T15:28:37.901765Z",
     "iopub.status.busy": "2021-11-01T15:28:37.900979Z",
     "iopub.status.idle": "2021-11-01T16:25:53.498784Z",
     "shell.execute_reply": "2021-11-01T16:25:53.498268Z",
     "shell.execute_reply.started": "2021-11-01T07:47:35.676465Z"
    },
    "papermill": {
     "duration": 3435.629239,
     "end_time": "2021-11-01T16:25:53.498958",
     "exception": false,
     "start_time": "2021-11-01T15:28:37.869719",
     "status": "completed"
    },
    "tags": []
   },
   "outputs": [
    {
     "data": {
      "application/vnd.jupyter.widget-view+json": {
       "model_id": "fe17ab6916614b25adcc91a3975f6da1",
       "version_major": 2,
       "version_minor": 0
      },
      "text/plain": [
       "  0%|          | 0/2664 [00:00<?, ?it/s]"
      ]
     },
     "metadata": {},
     "output_type": "display_data"
    }
   ],
   "source": [
    "df_list = list(helmets.groupby('video_frame'))\n",
    "df_list = [(video_frame, df, tracking, CONF_THRE) for video_frame, df in df_list]\n",
    "\n",
    "def _mapping_df(args):\n",
    "    video_frame, df, tracking, conf_thre = args\n",
    "    return mapping_df_2d(video_frame, df, tracking, conf_thre=conf_thre)\n",
    "\n",
    "p = Pool(processes=os.cpu_count())\n",
    "ss_hmap = []\n",
    "with tqdm(total=len(df_list)) as pbar:\n",
    "    for this_df in p.imap(_mapping_df, df_list):\n",
    "        ss_hmap.append(this_df)\n",
    "        pbar.update(1)\n",
    "p.close()\n",
    "\n",
    "ss_hmap = pd.concat(ss_hmap)\n",
    "\n",
    "# ss_hmap.to_csv('/kaggle/working/ss_hmap.csv', index=False)"
   ]
  },
  {
   "cell_type": "markdown",
   "id": "44ff8646",
   "metadata": {
    "papermill": {
     "duration": 0.020061,
     "end_time": "2021-11-01T16:25:53.539645",
     "exception": false,
     "start_time": "2021-11-01T16:25:53.519584",
     "status": "completed"
    },
    "tags": []
   },
   "source": [
    "# FairMOT"
   ]
  },
  {
   "cell_type": "code",
   "execution_count": 13,
   "id": "6ece4592",
   "metadata": {
    "execution": {
     "iopub.execute_input": "2021-11-01T16:25:53.588434Z",
     "iopub.status.busy": "2021-11-01T16:25:53.587849Z",
     "iopub.status.idle": "2021-11-01T16:25:57.134697Z",
     "shell.execute_reply": "2021-11-01T16:25:57.133815Z",
     "shell.execute_reply.started": "2021-11-01T12:41:52.06082Z"
    },
    "papermill": {
     "duration": 3.573822,
     "end_time": "2021-11-01T16:25:57.134841",
     "exception": false,
     "start_time": "2021-11-01T16:25:53.561019",
     "status": "completed"
    },
    "tags": []
   },
   "outputs": [],
   "source": [
    "! mkdir -p /root/.cache/torch/hub/checkpoints/\n",
    "!cp /kaggle/input/models-fairmot/dla34-ba72cf86.pth /root/.cache/torch/hub/checkpoints/."
   ]
  },
  {
   "cell_type": "code",
   "execution_count": 14,
   "id": "19f20c0e",
   "metadata": {
    "execution": {
     "iopub.execute_input": "2021-11-01T16:25:57.183097Z",
     "iopub.status.busy": "2021-11-01T16:25:57.182266Z",
     "iopub.status.idle": "2021-11-01T16:25:57.184627Z",
     "shell.execute_reply": "2021-11-01T16:25:57.185084Z",
     "shell.execute_reply.started": "2021-11-01T11:24:11.761329Z"
    },
    "papermill": {
     "duration": 0.028509,
     "end_time": "2021-11-01T16:25:57.185224",
     "exception": false,
     "start_time": "2021-11-01T16:25:57.156715",
     "status": "completed"
    },
    "tags": []
   },
   "outputs": [],
   "source": [
    "load_model = '/kaggle/input/nfldata-fairmot/exp/mot/nfl_ft_mix_dla34/model_last.pth'\n",
    "conf_thres = 0.4\n",
    "\n",
    "dir_demo = '/kaggle/FairMOT/demo'"
   ]
  },
  {
   "cell_type": "code",
   "execution_count": 15,
   "id": "f97d75c1",
   "metadata": {
    "_kg_hide-output": true,
    "execution": {
     "iopub.execute_input": "2021-11-01T16:25:57.256105Z",
     "iopub.status.busy": "2021-11-01T16:25:57.254675Z",
     "iopub.status.idle": "2021-11-01T16:36:55.834929Z",
     "shell.execute_reply": "2021-11-01T16:36:55.834413Z",
     "shell.execute_reply.started": "2021-11-01T11:24:20.622224Z"
    },
    "papermill": {
     "duration": 658.628374,
     "end_time": "2021-11-01T16:36:55.835080",
     "exception": false,
     "start_time": "2021-11-01T16:25:57.206706",
     "status": "completed"
    },
    "tags": []
   },
   "outputs": [
    {
     "data": {
      "application/vnd.jupyter.widget-view+json": {
       "model_id": "797c72d2093749818a5aa7accc656c92",
       "version_major": 2,
       "version_minor": 0
      },
      "text/plain": [
       "  0%|          | 0/6 [00:00<?, ?it/s]"
      ]
     },
     "metadata": {},
     "output_type": "display_data"
    },
    {
     "name": "stdout",
     "output_type": "stream",
     "text": [
      "/kaggle/FairMOT/src\n",
      "Fix size testing.\r\n",
      "training chunk_sizes: [6, 6]\r\n",
      "The output will be saved to  /kaggle/FairMOT/src/lib/../../exp/mot/default\r\n",
      "heads {'hm': 1, 'wh': 4, 'id': 128, 'reg': 2}\r\n",
      "2021-11-01 16:26:00 [INFO]: Starting tracking...\r\n",
      "Lenth of the video: 440 frames\r\n",
      "Creating model...\r\n",
      "loaded /kaggle/input/nfldata-fairmot/exp/mot/nfl_ft_mix_dla34/model_last.pth, epoch 16\r\n",
      "2021-11-01 16:26:10 [INFO]: Processing frame 0 (100000.00 fps)\r\n",
      "2021-11-01 16:26:15 [INFO]: Processing frame 20 (12.65 fps)\r\n",
      "2021-11-01 16:26:19 [INFO]: Processing frame 40 (12.72 fps)\r\n",
      "2021-11-01 16:26:23 [INFO]: Processing frame 60 (12.50 fps)\r\n",
      "2021-11-01 16:26:27 [INFO]: Processing frame 80 (12.51 fps)\r\n",
      "2021-11-01 16:26:31 [INFO]: Processing frame 100 (12.40 fps)\r\n",
      "2021-11-01 16:26:36 [INFO]: Processing frame 120 (12.40 fps)\r\n",
      "2021-11-01 16:26:40 [INFO]: Processing frame 140 (12.37 fps)\r\n",
      "2021-11-01 16:26:44 [INFO]: Processing frame 160 (12.27 fps)\r\n",
      "2021-11-01 16:26:48 [INFO]: Processing frame 180 (12.20 fps)\r\n",
      "2021-11-01 16:26:53 [INFO]: Processing frame 200 (12.01 fps)\r\n",
      "2021-11-01 16:26:57 [INFO]: Processing frame 220 (11.96 fps)\r\n",
      "2021-11-01 16:27:02 [INFO]: Processing frame 240 (11.91 fps)\r\n",
      "2021-11-01 16:27:06 [INFO]: Processing frame 260 (11.83 fps)\r\n",
      "2021-11-01 16:27:10 [INFO]: Processing frame 280 (11.82 fps)\r\n",
      "2021-11-01 16:27:15 [INFO]: Processing frame 300 (11.82 fps)\r\n",
      "2021-11-01 16:27:19 [INFO]: Processing frame 320 (11.82 fps)\r\n",
      "2021-11-01 16:27:23 [INFO]: Processing frame 340 (11.85 fps)\r\n",
      "2021-11-01 16:27:28 [INFO]: Processing frame 360 (11.81 fps)\r\n",
      "2021-11-01 16:27:32 [INFO]: Processing frame 380 (11.85 fps)\r\n",
      "2021-11-01 16:27:36 [INFO]: Processing frame 400 (11.88 fps)\r\n",
      "2021-11-01 16:27:40 [INFO]: Processing frame 420 (11.93 fps)\r\n",
      "2021-11-01 16:27:44 [INFO]: save results to /kaggle/FairMOT/demo/57906_000718_Sideline/results.txt\r\n",
      "ffmpeg version 9c33b2f Copyright (c) 2000-2021 the FFmpeg developers\r\n",
      "  built with gcc 9.3.0 (crosstool-NG 1.24.0.133_b0863d8_dirty)\r\n",
      "  configuration: --prefix=/opt/conda --cc=/home/conda/feedstock_root/build_artifacts/ffmpeg_1627813612080/_build_env/bin/x86_64-conda-linux-gnu-cc --disable-doc --disable-openssl --enable-avresample --enable-gnutls --enable-gpl --enable-hardcoded-tables --enable-libfreetype --enable-libopenh264 --enable-libx264 --enable-pic --enable-pthreads --enable-shared --enable-static --enable-version3 --enable-zlib --enable-libmp3lame --pkg-config=/home/conda/feedstock_root/build_artifacts/ffmpeg_1627813612080/_build_env/bin/pkg-config\r\n",
      "  libavutil      56. 51.100 / 56. 51.100\r\n",
      "  libavcodec     58. 91.100 / 58. 91.100\r\n",
      "  libavformat    58. 45.100 / 58. 45.100\r\n",
      "  libavdevice    58. 10.100 / 58. 10.100\r\n",
      "  libavfilter     7. 85.100 /  7. 85.100\r\n",
      "  libavresample   4.  0.  0 /  4.  0.  0\r\n",
      "  libswscale      5.  7.100 /  5.  7.100\r\n",
      "  libswresample   3.  7.100 /  3.  7.100\r\n",
      "  libpostproc    55.  7.100 / 55.  7.100\r\n",
      "Input #0, image2, from '/kaggle/FairMOT/demo/57906_000718_Sideline/frame/%05d.jpg':\r\n",
      "  Duration: 00:00:17.60, start: 0.000000, bitrate: N/A\r\n",
      "    Stream #0:0: Video: mjpeg (Baseline), yuvj420p(pc, bt470bg/unknown/unknown), 1920x1080 [SAR 1:1 DAR 16:9], 25 fps, 25 tbr, 25 tbn, 25 tbc\r\n",
      "\u001b[0;33mPlease use -b:a or -b:v, -b is ambiguous\r\n",
      "\u001b[0mStream mapping:\r\n",
      "  Stream #0:0 -> #0:0 (mjpeg (native) -> mpeg4 (native))\r\n",
      "Press [q] to stop, [?] for help\r\n",
      "\u001b[1;34m[swscaler @ 0x55a39e7bc680] \u001b[0m\u001b[0;33mdeprecated pixel format used, make sure you did set range correctly\r\n",
      "\u001b[0mOutput #0, mp4, to '/kaggle/FairMOT/demo/57906_000718_Sideline/MOT16-03-results.mp4':\r\n",
      "  Metadata:\r\n",
      "    encoder         : Lavf58.45.100\r\n",
      "    Stream #0:0: Video: mpeg4 (mp4v / 0x7634706D), yuv420p, 1920x1080 [SAR 1:1 DAR 16:9], q=2-31, 5000 kb/s, 25 fps, 12800 tbn, 25 tbc\r\n",
      "    Metadata:\r\n",
      "      encoder         : Lavc58.91.100 mpeg4\r\n",
      "    Side data:\r\n",
      "      cpb: bitrate max/min/avg: 0/0/5000000 buffer size: 0 vbv_delay: N/A\r\n",
      "frame=  440 fps= 43 q=9.2 Lsize=   10894kB time=00:00:17.56 bitrate=5082.3kbits/s speed=1.74x    \r\n",
      "video:10891kB audio:0kB subtitle:0kB other streams:0kB global headers:0kB muxing overhead: 0.026155%\r\n",
      "/kaggle/FairMOT/src\n",
      "Fix size testing.\r\n",
      "training chunk_sizes: [6, 6]\r\n",
      "The output will be saved to  /kaggle/FairMOT/src/lib/../../exp/mot/default\r\n",
      "heads {'hm': 1, 'wh': 4, 'id': 128, 'reg': 2}\r\n",
      "2021-11-01 16:27:58 [INFO]: Starting tracking...\r\n",
      "Lenth of the video: 434 frames\r\n",
      "Creating model...\r\n",
      "loaded /kaggle/input/nfldata-fairmot/exp/mot/nfl_ft_mix_dla34/model_last.pth, epoch 16\r\n",
      "2021-11-01 16:28:01 [INFO]: Processing frame 0 (100000.00 fps)\r\n",
      "2021-11-01 16:28:05 [INFO]: Processing frame 20 (13.60 fps)\r\n",
      "2021-11-01 16:28:09 [INFO]: Processing frame 40 (13.40 fps)\r\n",
      "2021-11-01 16:28:13 [INFO]: Processing frame 60 (13.40 fps)\r\n",
      "2021-11-01 16:28:17 [INFO]: Processing frame 80 (13.40 fps)\r\n",
      "2021-11-01 16:28:21 [INFO]: Processing frame 100 (13.27 fps)\r\n",
      "2021-11-01 16:28:25 [INFO]: Processing frame 120 (13.24 fps)\r\n",
      "2021-11-01 16:28:28 [INFO]: Processing frame 140 (13.26 fps)\r\n",
      "2021-11-01 16:28:33 [INFO]: Processing frame 160 (12.91 fps)\r\n",
      "2021-11-01 16:28:37 [INFO]: Processing frame 180 (12.90 fps)\r\n",
      "2021-11-01 16:28:41 [INFO]: Processing frame 200 (12.86 fps)\r\n",
      "2021-11-01 16:28:45 [INFO]: Processing frame 220 (12.87 fps)\r\n",
      "2021-11-01 16:28:49 [INFO]: Processing frame 240 (12.81 fps)\r\n",
      "2021-11-01 16:28:54 [INFO]: Processing frame 260 (12.69 fps)\r\n",
      "2021-11-01 16:28:58 [INFO]: Processing frame 280 (12.65 fps)\r\n",
      "2021-11-01 16:29:02 [INFO]: Processing frame 300 (12.62 fps)\r\n",
      "2021-11-01 16:29:06 [INFO]: Processing frame 320 (12.56 fps)\r\n",
      "2021-11-01 16:29:10 [INFO]: Processing frame 340 (12.58 fps)\r\n",
      "2021-11-01 16:29:15 [INFO]: Processing frame 360 (12.56 fps)\r\n",
      "2021-11-01 16:29:19 [INFO]: Processing frame 380 (12.59 fps)\r\n",
      "2021-11-01 16:29:23 [INFO]: Processing frame 400 (12.61 fps)\r\n",
      "2021-11-01 16:29:27 [INFO]: Processing frame 420 (12.63 fps)\r\n",
      "2021-11-01 16:29:30 [INFO]: save results to /kaggle/FairMOT/demo/57906_000718_Endzone/results.txt\r\n",
      "ffmpeg version 9c33b2f Copyright (c) 2000-2021 the FFmpeg developers\r\n",
      "  built with gcc 9.3.0 (crosstool-NG 1.24.0.133_b0863d8_dirty)\r\n",
      "  configuration: --prefix=/opt/conda --cc=/home/conda/feedstock_root/build_artifacts/ffmpeg_1627813612080/_build_env/bin/x86_64-conda-linux-gnu-cc --disable-doc --disable-openssl --enable-avresample --enable-gnutls --enable-gpl --enable-hardcoded-tables --enable-libfreetype --enable-libopenh264 --enable-libx264 --enable-pic --enable-pthreads --enable-shared --enable-static --enable-version3 --enable-zlib --enable-libmp3lame --pkg-config=/home/conda/feedstock_root/build_artifacts/ffmpeg_1627813612080/_build_env/bin/pkg-config\r\n",
      "  libavutil      56. 51.100 / 56. 51.100\r\n",
      "  libavcodec     58. 91.100 / 58. 91.100\r\n",
      "  libavformat    58. 45.100 / 58. 45.100\r\n",
      "  libavdevice    58. 10.100 / 58. 10.100\r\n",
      "  libavfilter     7. 85.100 /  7. 85.100\r\n",
      "  libavresample   4.  0.  0 /  4.  0.  0\r\n",
      "  libswscale      5.  7.100 /  5.  7.100\r\n",
      "  libswresample   3.  7.100 /  3.  7.100\r\n",
      "  libpostproc    55.  7.100 / 55.  7.100\r\n",
      "Input #0, image2, from '/kaggle/FairMOT/demo/57906_000718_Endzone/frame/%05d.jpg':\r\n",
      "  Duration: 00:00:17.36, start: 0.000000, bitrate: N/A\r\n",
      "    Stream #0:0: Video: mjpeg (Baseline), yuvj420p(pc, bt470bg/unknown/unknown), 1920x1080 [SAR 1:1 DAR 16:9], 25 fps, 25 tbr, 25 tbn, 25 tbc\r\n",
      "\u001b[0;33mPlease use -b:a or -b:v, -b is ambiguous\r\n",
      "\u001b[0mStream mapping:\r\n",
      "  Stream #0:0 -> #0:0 (mjpeg (native) -> mpeg4 (native))\r\n",
      "Press [q] to stop, [?] for help\r\n",
      "\u001b[1;34m[swscaler @ 0x55edaf69a9c0] \u001b[0m\u001b[0;33mdeprecated pixel format used, make sure you did set range correctly\r\n",
      "\u001b[0mOutput #0, mp4, to '/kaggle/FairMOT/demo/57906_000718_Endzone/MOT16-03-results.mp4':\r\n",
      "  Metadata:\r\n",
      "    encoder         : Lavf58.45.100\r\n",
      "    Stream #0:0: Video: mpeg4 (mp4v / 0x7634706D), yuv420p, 1920x1080 [SAR 1:1 DAR 16:9], q=2-31, 5000 kb/s, 25 fps, 12800 tbn, 25 tbc\r\n",
      "    Metadata:\r\n",
      "      encoder         : Lavc58.91.100 mpeg4\r\n",
      "    Side data:\r\n",
      "      cpb: bitrate max/min/avg: 0/0/5000000 buffer size: 0 vbv_delay: N/A\r\n",
      "frame=  434 fps= 43 q=9.8 Lsize=   10767kB time=00:00:17.32 bitrate=5092.8kbits/s speed=1.72x    \r\n",
      "video:10765kB audio:0kB subtitle:0kB other streams:0kB global headers:0kB muxing overhead: 0.026463%\r\n",
      "/kaggle/FairMOT/src\n",
      "Fix size testing.\r\n",
      "training chunk_sizes: [6, 6]\r\n",
      "The output will be saved to  /kaggle/FairMOT/src/lib/../../exp/mot/default\r\n",
      "heads {'hm': 1, 'wh': 4, 'id': 128, 'reg': 2}\r\n",
      "2021-11-01 16:29:43 [INFO]: Starting tracking...\r\n",
      "Lenth of the video: 529 frames\r\n",
      "Creating model...\r\n",
      "loaded /kaggle/input/nfldata-fairmot/exp/mot/nfl_ft_mix_dla34/model_last.pth, epoch 16\r\n",
      "2021-11-01 16:29:46 [INFO]: Processing frame 0 (100000.00 fps)\r\n",
      "2021-11-01 16:29:50 [INFO]: Processing frame 20 (13.45 fps)\r\n",
      "2021-11-01 16:29:54 [INFO]: Processing frame 40 (13.54 fps)\r\n",
      "2021-11-01 16:29:58 [INFO]: Processing frame 60 (13.47 fps)\r\n",
      "2021-11-01 16:30:02 [INFO]: Processing frame 80 (13.46 fps)\r\n",
      "2021-11-01 16:30:06 [INFO]: Processing frame 100 (13.47 fps)\r\n",
      "2021-11-01 16:30:10 [INFO]: Processing frame 120 (13.31 fps)\r\n",
      "2021-11-01 16:30:15 [INFO]: Processing frame 140 (13.25 fps)\r\n",
      "2021-11-01 16:30:19 [INFO]: Processing frame 160 (13.27 fps)\r\n",
      "2021-11-01 16:30:23 [INFO]: Processing frame 180 (13.20 fps)\r\n",
      "2021-11-01 16:30:27 [INFO]: Processing frame 200 (13.17 fps)\r\n",
      "2021-11-01 16:30:31 [INFO]: Processing frame 220 (13.14 fps)\r\n",
      "2021-11-01 16:30:35 [INFO]: Processing frame 240 (13.08 fps)\r\n",
      "2021-11-01 16:30:39 [INFO]: Processing frame 260 (13.08 fps)\r\n",
      "2021-11-01 16:30:43 [INFO]: Processing frame 280 (13.05 fps)\r\n",
      "2021-11-01 16:30:48 [INFO]: Processing frame 300 (13.01 fps)\r\n",
      "2021-11-01 16:30:52 [INFO]: Processing frame 320 (13.03 fps)\r\n",
      "2021-11-01 16:30:56 [INFO]: Processing frame 340 (13.02 fps)\r\n",
      "2021-11-01 16:31:00 [INFO]: Processing frame 360 (13.05 fps)\r\n",
      "2021-11-01 16:31:04 [INFO]: Processing frame 380 (13.06 fps)\r\n",
      "2021-11-01 16:31:08 [INFO]: Processing frame 400 (13.08 fps)\r\n",
      "2021-11-01 16:31:12 [INFO]: Processing frame 420 (13.10 fps)\r\n",
      "2021-11-01 16:31:17 [INFO]: Processing frame 440 (13.08 fps)\r\n",
      "2021-11-01 16:31:21 [INFO]: Processing frame 460 (13.07 fps)\r\n",
      "2021-11-01 16:31:25 [INFO]: Processing frame 480 (13.10 fps)\r\n",
      "2021-11-01 16:31:29 [INFO]: Processing frame 500 (13.11 fps)\r\n",
      "2021-11-01 16:31:33 [INFO]: Processing frame 520 (13.13 fps)\r\n",
      "2021-11-01 16:31:35 [INFO]: save results to /kaggle/FairMOT/demo/57995_000109_Endzone/results.txt\r\n",
      "ffmpeg version 9c33b2f Copyright (c) 2000-2021 the FFmpeg developers\r\n",
      "  built with gcc 9.3.0 (crosstool-NG 1.24.0.133_b0863d8_dirty)\r\n",
      "  configuration: --prefix=/opt/conda --cc=/home/conda/feedstock_root/build_artifacts/ffmpeg_1627813612080/_build_env/bin/x86_64-conda-linux-gnu-cc --disable-doc --disable-openssl --enable-avresample --enable-gnutls --enable-gpl --enable-hardcoded-tables --enable-libfreetype --enable-libopenh264 --enable-libx264 --enable-pic --enable-pthreads --enable-shared --enable-static --enable-version3 --enable-zlib --enable-libmp3lame --pkg-config=/home/conda/feedstock_root/build_artifacts/ffmpeg_1627813612080/_build_env/bin/pkg-config\r\n",
      "  libavutil      56. 51.100 / 56. 51.100\r\n",
      "  libavcodec     58. 91.100 / 58. 91.100\r\n",
      "  libavformat    58. 45.100 / 58. 45.100\r\n",
      "  libavdevice    58. 10.100 / 58. 10.100\r\n",
      "  libavfilter     7. 85.100 /  7. 85.100\r\n",
      "  libavresample   4.  0.  0 /  4.  0.  0\r\n",
      "  libswscale      5.  7.100 /  5.  7.100\r\n",
      "  libswresample   3.  7.100 /  3.  7.100\r\n",
      "  libpostproc    55.  7.100 / 55.  7.100\r\n",
      "Input #0, image2, from '/kaggle/FairMOT/demo/57995_000109_Endzone/frame/%05d.jpg':\r\n",
      "  Duration: 00:00:21.16, start: 0.000000, bitrate: N/A\r\n",
      "    Stream #0:0: Video: mjpeg (Baseline), yuvj420p(pc, bt470bg/unknown/unknown), 1920x1080 [SAR 1:1 DAR 16:9], 25 fps, 25 tbr, 25 tbn, 25 tbc\r\n",
      "\u001b[0;33mPlease use -b:a or -b:v, -b is ambiguous\r\n",
      "\u001b[0mStream mapping:\r\n",
      "  Stream #0:0 -> #0:0 (mjpeg (native) -> mpeg4 (native))\r\n",
      "Press [q] to stop, [?] for help\r\n",
      "\u001b[1;34m[swscaler @ 0x560471415500] \u001b[0m\u001b[0;33mdeprecated pixel format used, make sure you did set range correctly\r\n",
      "\u001b[0mOutput #0, mp4, to '/kaggle/FairMOT/demo/57995_000109_Endzone/MOT16-03-results.mp4':\r\n",
      "  Metadata:\r\n",
      "    encoder         : Lavf58.45.100\r\n",
      "    Stream #0:0: Video: mpeg4 (mp4v / 0x7634706D), yuv420p, 1920x1080 [SAR 1:1 DAR 16:9], q=2-31, 5000 kb/s, 25 fps, 12800 tbn, 25 tbc\r\n",
      "    Metadata:\r\n",
      "      encoder         : Lavc58.91.100 mpeg4\r\n",
      "    Side data:\r\n",
      "      cpb: bitrate max/min/avg: 0/0/5000000 buffer size: 0 vbv_delay: N/A\r\n",
      "frame=  529 fps= 40 q=10.3 Lsize=   13127kB time=00:00:21.12 bitrate=5091.6kbits/s speed=1.59x    \r\n",
      "video:13124kB audio:0kB subtitle:0kB other streams:0kB global headers:0kB muxing overhead: 0.025010%\r\n",
      "/kaggle/FairMOT/src\n",
      "Fix size testing.\r\n",
      "training chunk_sizes: [6, 6]\r\n",
      "The output will be saved to  /kaggle/FairMOT/src/lib/../../exp/mot/default\r\n",
      "heads {'hm': 1, 'wh': 4, 'id': 128, 'reg': 2}\r\n",
      "2021-11-01 16:31:52 [INFO]: Starting tracking...\r\n",
      "Lenth of the video: 366 frames\r\n",
      "Creating model...\r\n",
      "loaded /kaggle/input/nfldata-fairmot/exp/mot/nfl_ft_mix_dla34/model_last.pth, epoch 16\r\n",
      "2021-11-01 16:31:55 [INFO]: Processing frame 0 (100000.00 fps)\r\n",
      "2021-11-01 16:31:59 [INFO]: Processing frame 20 (12.76 fps)\r\n",
      "2021-11-01 16:32:03 [INFO]: Processing frame 40 (12.67 fps)\r\n",
      "2021-11-01 16:32:07 [INFO]: Processing frame 60 (12.86 fps)\r\n",
      "2021-11-01 16:32:12 [INFO]: Processing frame 80 (12.79 fps)\r\n",
      "2021-11-01 16:32:15 [INFO]: Processing frame 100 (12.89 fps)\r\n",
      "2021-11-01 16:32:19 [INFO]: Processing frame 120 (12.90 fps)\r\n",
      "2021-11-01 16:32:24 [INFO]: Processing frame 140 (12.73 fps)\r\n",
      "2021-11-01 16:32:28 [INFO]: Processing frame 160 (12.72 fps)\r\n",
      "2021-11-01 16:32:32 [INFO]: Processing frame 180 (12.75 fps)\r\n",
      "2021-11-01 16:32:36 [INFO]: Processing frame 200 (12.76 fps)\r\n",
      "2021-11-01 16:32:40 [INFO]: Processing frame 220 (12.77 fps)\r\n",
      "2021-11-01 16:32:44 [INFO]: Processing frame 240 (12.73 fps)\r\n",
      "2021-11-01 16:32:48 [INFO]: Processing frame 260 (12.74 fps)\r\n",
      "2021-11-01 16:32:52 [INFO]: Processing frame 280 (12.73 fps)\r\n",
      "2021-11-01 16:32:56 [INFO]: Processing frame 300 (12.72 fps)\r\n",
      "2021-11-01 16:33:01 [INFO]: Processing frame 320 (12.65 fps)\r\n",
      "2021-11-01 16:33:05 [INFO]: Processing frame 340 (12.66 fps)\r\n",
      "2021-11-01 16:33:09 [INFO]: Processing frame 360 (12.65 fps)\r\n",
      "2021-11-01 16:33:10 [INFO]: save results to /kaggle/FairMOT/demo/58102_002798_Sideline/results.txt\r\n",
      "ffmpeg version 9c33b2f Copyright (c) 2000-2021 the FFmpeg developers\r\n",
      "  built with gcc 9.3.0 (crosstool-NG 1.24.0.133_b0863d8_dirty)\r\n",
      "  configuration: --prefix=/opt/conda --cc=/home/conda/feedstock_root/build_artifacts/ffmpeg_1627813612080/_build_env/bin/x86_64-conda-linux-gnu-cc --disable-doc --disable-openssl --enable-avresample --enable-gnutls --enable-gpl --enable-hardcoded-tables --enable-libfreetype --enable-libopenh264 --enable-libx264 --enable-pic --enable-pthreads --enable-shared --enable-static --enable-version3 --enable-zlib --enable-libmp3lame --pkg-config=/home/conda/feedstock_root/build_artifacts/ffmpeg_1627813612080/_build_env/bin/pkg-config\r\n",
      "  libavutil      56. 51.100 / 56. 51.100\r\n",
      "  libavcodec     58. 91.100 / 58. 91.100\r\n",
      "  libavformat    58. 45.100 / 58. 45.100\r\n",
      "  libavdevice    58. 10.100 / 58. 10.100\r\n",
      "  libavfilter     7. 85.100 /  7. 85.100\r\n",
      "  libavresample   4.  0.  0 /  4.  0.  0\r\n",
      "  libswscale      5.  7.100 /  5.  7.100\r\n",
      "  libswresample   3.  7.100 /  3.  7.100\r\n",
      "  libpostproc    55.  7.100 / 55.  7.100\r\n",
      "Input #0, image2, from '/kaggle/FairMOT/demo/58102_002798_Sideline/frame/%05d.jpg':\r\n",
      "  Duration: 00:00:14.64, start: 0.000000, bitrate: N/A\r\n",
      "    Stream #0:0: Video: mjpeg (Baseline), yuvj420p(pc, bt470bg/unknown/unknown), 1920x1080 [SAR 1:1 DAR 16:9], 25 fps, 25 tbr, 25 tbn, 25 tbc\r\n",
      "\u001b[0;33mPlease use -b:a or -b:v, -b is ambiguous\r\n",
      "\u001b[0mStream mapping:\r\n",
      "  Stream #0:0 -> #0:0 (mjpeg (native) -> mpeg4 (native))\r\n",
      "Press [q] to stop, [?] for help\r\n",
      "\u001b[1;34m[swscaler @ 0x55c942e87b80] \u001b[0m\u001b[0;33mdeprecated pixel format used, make sure you did set range correctly\r\n",
      "\u001b[0mOutput #0, mp4, to '/kaggle/FairMOT/demo/58102_002798_Sideline/MOT16-03-results.mp4':\r\n",
      "  Metadata:\r\n",
      "    encoder         : Lavf58.45.100\r\n",
      "    Stream #0:0: Video: mpeg4 (mp4v / 0x7634706D), yuv420p, 1920x1080 [SAR 1:1 DAR 16:9], q=2-31, 5000 kb/s, 25 fps, 12800 tbn, 25 tbc\r\n",
      "    Metadata:\r\n",
      "      encoder         : Lavc58.91.100 mpeg4\r\n",
      "    Side data:\r\n",
      "      cpb: bitrate max/min/avg: 0/0/5000000 buffer size: 0 vbv_delay: N/A\r\n",
      "frame=  366 fps= 45 q=9.5 Lsize=    9088kB time=00:00:14.60 bitrate=5099.2kbits/s speed=1.81x    \r\n",
      "video:9085kB audio:0kB subtitle:0kB other streams:0kB global headers:0kB muxing overhead: 0.028000%\r\n",
      "/kaggle/FairMOT/src\n",
      "Fix size testing.\r\n",
      "training chunk_sizes: [6, 6]\r\n",
      "The output will be saved to  /kaggle/FairMOT/src/lib/../../exp/mot/default\r\n",
      "heads {'hm': 1, 'wh': 4, 'id': 128, 'reg': 2}\r\n",
      "2021-11-01 16:33:21 [INFO]: Starting tracking...\r\n",
      "Lenth of the video: 529 frames\r\n",
      "Creating model...\r\n",
      "loaded /kaggle/input/nfldata-fairmot/exp/mot/nfl_ft_mix_dla34/model_last.pth, epoch 16\r\n",
      "2021-11-01 16:33:24 [INFO]: Processing frame 0 (100000.00 fps)\r\n",
      "2021-11-01 16:33:28 [INFO]: Processing frame 20 (12.95 fps)\r\n",
      "2021-11-01 16:33:33 [INFO]: Processing frame 40 (12.43 fps)\r\n",
      "2021-11-01 16:33:37 [INFO]: Processing frame 60 (12.70 fps)\r\n",
      "2021-11-01 16:33:41 [INFO]: Processing frame 80 (12.66 fps)\r\n",
      "2021-11-01 16:33:45 [INFO]: Processing frame 100 (12.75 fps)\r\n",
      "2021-11-01 16:33:49 [INFO]: Processing frame 120 (12.76 fps)\r\n",
      "2021-11-01 16:33:53 [INFO]: Processing frame 140 (12.80 fps)\r\n",
      "2021-11-01 16:33:57 [INFO]: Processing frame 160 (12.84 fps)\r\n",
      "2021-11-01 16:34:01 [INFO]: Processing frame 180 (12.82 fps)\r\n",
      "2021-11-01 16:34:06 [INFO]: Processing frame 200 (12.73 fps)\r\n",
      "2021-11-01 16:34:10 [INFO]: Processing frame 220 (12.75 fps)\r\n",
      "2021-11-01 16:34:14 [INFO]: Processing frame 240 (12.76 fps)\r\n",
      "2021-11-01 16:34:18 [INFO]: Processing frame 260 (12.80 fps)\r\n",
      "2021-11-01 16:34:22 [INFO]: Processing frame 280 (12.82 fps)\r\n",
      "2021-11-01 16:34:26 [INFO]: Processing frame 300 (12.83 fps)\r\n",
      "2021-11-01 16:34:30 [INFO]: Processing frame 320 (12.86 fps)\r\n",
      "2021-11-01 16:34:35 [INFO]: Processing frame 340 (12.84 fps)\r\n",
      "2021-11-01 16:34:39 [INFO]: Processing frame 360 (12.82 fps)\r\n",
      "2021-11-01 16:34:43 [INFO]: Processing frame 380 (12.84 fps)\r\n",
      "2021-11-01 16:34:47 [INFO]: Processing frame 400 (12.81 fps)\r\n",
      "2021-11-01 16:34:51 [INFO]: Processing frame 420 (12.82 fps)\r\n",
      "2021-11-01 16:34:56 [INFO]: Processing frame 440 (12.78 fps)\r\n",
      "2021-11-01 16:35:00 [INFO]: Processing frame 460 (12.76 fps)\r\n",
      "2021-11-01 16:35:04 [INFO]: Processing frame 480 (12.75 fps)\r\n",
      "2021-11-01 16:35:09 [INFO]: Processing frame 500 (12.67 fps)\r\n",
      "2021-11-01 16:35:13 [INFO]: Processing frame 520 (12.68 fps)\r\n",
      "2021-11-01 16:35:15 [INFO]: save results to /kaggle/FairMOT/demo/57995_000109_Sideline/results.txt\r\n",
      "ffmpeg version 9c33b2f Copyright (c) 2000-2021 the FFmpeg developers\r\n",
      "  built with gcc 9.3.0 (crosstool-NG 1.24.0.133_b0863d8_dirty)\r\n",
      "  configuration: --prefix=/opt/conda --cc=/home/conda/feedstock_root/build_artifacts/ffmpeg_1627813612080/_build_env/bin/x86_64-conda-linux-gnu-cc --disable-doc --disable-openssl --enable-avresample --enable-gnutls --enable-gpl --enable-hardcoded-tables --enable-libfreetype --enable-libopenh264 --enable-libx264 --enable-pic --enable-pthreads --enable-shared --enable-static --enable-version3 --enable-zlib --enable-libmp3lame --pkg-config=/home/conda/feedstock_root/build_artifacts/ffmpeg_1627813612080/_build_env/bin/pkg-config\r\n",
      "  libavutil      56. 51.100 / 56. 51.100\r\n",
      "  libavcodec     58. 91.100 / 58. 91.100\r\n",
      "  libavformat    58. 45.100 / 58. 45.100\r\n",
      "  libavdevice    58. 10.100 / 58. 10.100\r\n",
      "  libavfilter     7. 85.100 /  7. 85.100\r\n",
      "  libavresample   4.  0.  0 /  4.  0.  0\r\n",
      "  libswscale      5.  7.100 /  5.  7.100\r\n",
      "  libswresample   3.  7.100 /  3.  7.100\r\n",
      "  libpostproc    55.  7.100 / 55.  7.100\r\n",
      "Input #0, image2, from '/kaggle/FairMOT/demo/57995_000109_Sideline/frame/%05d.jpg':\r\n",
      "  Duration: 00:00:21.16, start: 0.000000, bitrate: N/A\r\n",
      "    Stream #0:0: Video: mjpeg (Baseline), yuvj420p(pc, bt470bg/unknown/unknown), 1920x1080 [SAR 1:1 DAR 16:9], 25 fps, 25 tbr, 25 tbn, 25 tbc\r\n",
      "\u001b[0;33mPlease use -b:a or -b:v, -b is ambiguous\r\n",
      "\u001b[0mStream mapping:\r\n",
      "  Stream #0:0 -> #0:0 (mjpeg (native) -> mpeg4 (native))\r\n",
      "Press [q] to stop, [?] for help\r\n",
      "\u001b[1;34m[swscaler @ 0x563b090bf040] \u001b[0m\u001b[0;33mdeprecated pixel format used, make sure you did set range correctly\r\n",
      "\u001b[0mOutput #0, mp4, to '/kaggle/FairMOT/demo/57995_000109_Sideline/MOT16-03-results.mp4':\r\n",
      "  Metadata:\r\n",
      "    encoder         : Lavf58.45.100\r\n",
      "    Stream #0:0: Video: mpeg4 (mp4v / 0x7634706D), yuv420p, 1920x1080 [SAR 1:1 DAR 16:9], q=2-31, 5000 kb/s, 25 fps, 12800 tbn, 25 tbc\r\n",
      "    Metadata:\r\n",
      "      encoder         : Lavc58.91.100 mpeg4\r\n",
      "    Side data:\r\n",
      "      cpb: bitrate max/min/avg: 0/0/5000000 buffer size: 0 vbv_delay: N/A\r\n",
      "frame=  529 fps= 44 q=9.7 Lsize=   13142kB time=00:00:21.12 bitrate=5097.3kbits/s speed=1.75x    \r\n",
      "video:13138kB audio:0kB subtitle:0kB other streams:0kB global headers:0kB muxing overhead: 0.025012%\r\n",
      "/kaggle/FairMOT/src\n",
      "Fix size testing.\r\n",
      "training chunk_sizes: [6, 6]\r\n",
      "The output will be saved to  /kaggle/FairMOT/src/lib/../../exp/mot/default\r\n",
      "heads {'hm': 1, 'wh': 4, 'id': 128, 'reg': 2}\r\n",
      "2021-11-01 16:35:30 [INFO]: Starting tracking...\r\n",
      "Lenth of the video: 366 frames\r\n",
      "Creating model...\r\n",
      "loaded /kaggle/input/nfldata-fairmot/exp/mot/nfl_ft_mix_dla34/model_last.pth, epoch 16\r\n",
      "2021-11-01 16:35:33 [INFO]: Processing frame 0 (100000.00 fps)\r\n",
      "2021-11-01 16:35:37 [INFO]: Processing frame 20 (13.75 fps)\r\n",
      "2021-11-01 16:35:41 [INFO]: Processing frame 40 (13.60 fps)\r\n",
      "2021-11-01 16:35:45 [INFO]: Processing frame 60 (13.53 fps)\r\n",
      "2021-11-01 16:35:49 [INFO]: Processing frame 80 (13.64 fps)\r\n",
      "2021-11-01 16:35:53 [INFO]: Processing frame 100 (13.65 fps)\r\n",
      "2021-11-01 16:35:57 [INFO]: Processing frame 120 (13.68 fps)\r\n",
      "2021-11-01 16:36:01 [INFO]: Processing frame 140 (13.67 fps)\r\n",
      "2021-11-01 16:36:05 [INFO]: Processing frame 160 (13.62 fps)\r\n",
      "2021-11-01 16:36:09 [INFO]: Processing frame 180 (13.58 fps)\r\n",
      "2021-11-01 16:36:13 [INFO]: Processing frame 200 (13.52 fps)\r\n",
      "2021-11-01 16:36:17 [INFO]: Processing frame 220 (13.45 fps)\r\n",
      "2021-11-01 16:36:21 [INFO]: Processing frame 240 (13.43 fps)\r\n",
      "2021-11-01 16:36:25 [INFO]: Processing frame 260 (13.41 fps)\r\n",
      "2021-11-01 16:36:29 [INFO]: Processing frame 280 (13.39 fps)\r\n",
      "2021-11-01 16:36:33 [INFO]: Processing frame 300 (13.38 fps)\r\n",
      "2021-11-01 16:36:37 [INFO]: Processing frame 320 (13.33 fps)\r\n",
      "2021-11-01 16:36:41 [INFO]: Processing frame 340 (13.34 fps)\r\n",
      "2021-11-01 16:36:45 [INFO]: Processing frame 360 (13.35 fps)\r\n",
      "2021-11-01 16:36:47 [INFO]: save results to /kaggle/FairMOT/demo/58102_002798_Endzone/results.txt\r\n",
      "ffmpeg version 9c33b2f Copyright (c) 2000-2021 the FFmpeg developers\r\n",
      "  built with gcc 9.3.0 (crosstool-NG 1.24.0.133_b0863d8_dirty)\r\n",
      "  configuration: --prefix=/opt/conda --cc=/home/conda/feedstock_root/build_artifacts/ffmpeg_1627813612080/_build_env/bin/x86_64-conda-linux-gnu-cc --disable-doc --disable-openssl --enable-avresample --enable-gnutls --enable-gpl --enable-hardcoded-tables --enable-libfreetype --enable-libopenh264 --enable-libx264 --enable-pic --enable-pthreads --enable-shared --enable-static --enable-version3 --enable-zlib --enable-libmp3lame --pkg-config=/home/conda/feedstock_root/build_artifacts/ffmpeg_1627813612080/_build_env/bin/pkg-config\r\n",
      "  libavutil      56. 51.100 / 56. 51.100\r\n",
      "  libavcodec     58. 91.100 / 58. 91.100\r\n",
      "  libavformat    58. 45.100 / 58. 45.100\r\n",
      "  libavdevice    58. 10.100 / 58. 10.100\r\n",
      "  libavfilter     7. 85.100 /  7. 85.100\r\n",
      "  libavresample   4.  0.  0 /  4.  0.  0\r\n",
      "  libswscale      5.  7.100 /  5.  7.100\r\n",
      "  libswresample   3.  7.100 /  3.  7.100\r\n",
      "  libpostproc    55.  7.100 / 55.  7.100\r\n",
      "Input #0, image2, from '/kaggle/FairMOT/demo/58102_002798_Endzone/frame/%05d.jpg':\r\n",
      "  Duration: 00:00:14.64, start: 0.000000, bitrate: N/A\r\n",
      "    Stream #0:0: Video: mjpeg (Baseline), yuvj420p(pc, bt470bg/unknown/unknown), 1920x1080 [SAR 1:1 DAR 16:9], 25 fps, 25 tbr, 25 tbn, 25 tbc\r\n",
      "\u001b[0;33mPlease use -b:a or -b:v, -b is ambiguous\r\n",
      "\u001b[0mStream mapping:\r\n",
      "  Stream #0:0 -> #0:0 (mjpeg (native) -> mpeg4 (native))\r\n",
      "Press [q] to stop, [?] for help\r\n",
      "\u001b[1;34m[swscaler @ 0x55a22e758940] \u001b[0m\u001b[0;33mdeprecated pixel format used, make sure you did set range correctly\r\n",
      "\u001b[0mOutput #0, mp4, to '/kaggle/FairMOT/demo/58102_002798_Endzone/MOT16-03-results.mp4':\r\n",
      "  Metadata:\r\n",
      "    encoder         : Lavf58.45.100\r\n",
      "    Stream #0:0: Video: mpeg4 (mp4v / 0x7634706D), yuv420p, 1920x1080 [SAR 1:1 DAR 16:9], q=2-31, 5000 kb/s, 25 fps, 12800 tbn, 25 tbc\r\n",
      "    Metadata:\r\n",
      "      encoder         : Lavc58.91.100 mpeg4\r\n",
      "    Side data:\r\n",
      "      cpb: bitrate max/min/avg: 0/0/5000000 buffer size: 0 vbv_delay: N/A\r\n",
      "frame=  366 fps= 44 q=6.8 Lsize=    9002kB time=00:00:14.60 bitrate=5050.7kbits/s speed=1.77x    \r\n",
      "video:8999kB audio:0kB subtitle:0kB other streams:0kB global headers:0kB muxing overhead: 0.027965%\r\n"
     ]
    }
   ],
   "source": [
    "for video in tqdm(videos, total=len(videos)):\n",
    "    \n",
    "    input_video = os.path.join(dir_video, f'{video}.mp4')\n",
    "    output_root = os.path.join(dir_demo, video)\n",
    "\n",
    "    ! mkdir -p {output_root}\n",
    "    %cd /kaggle/FairMOT/src\n",
    "    ! python demo.py mot --load_model {load_model} --conf_thres {conf_thres} --input-video {input_video} --output-root {output_root}\n",
    "\n",
    "#     input_path = os.path.join(output_root, 'MOT16-03-results.mp4') \n",
    "#     output_path = os.path.join(output_root, 'results.mp4')\n",
    "#     ffmpeg_friendly_encode(input_path, output_path)\n",
    "#     os.remove(input_path)\n",
    "    "
   ]
  },
  {
   "cell_type": "code",
   "execution_count": 16,
   "id": "5c93cdda",
   "metadata": {
    "execution": {
     "iopub.execute_input": "2021-11-01T16:36:56.034391Z",
     "iopub.status.busy": "2021-11-01T16:36:56.033643Z",
     "iopub.status.idle": "2021-11-01T16:36:56.036167Z",
     "shell.execute_reply": "2021-11-01T16:36:56.035724Z",
     "shell.execute_reply.started": "2021-11-01T11:29:39.082679Z"
    },
    "papermill": {
     "duration": 0.103385,
     "end_time": "2021-11-01T16:36:56.036285",
     "exception": false,
     "start_time": "2021-11-01T16:36:55.932900",
     "status": "completed"
    },
    "tags": []
   },
   "outputs": [],
   "source": [
    "# ! cp -r {dir_demo} /kaggle/working/."
   ]
  },
  {
   "cell_type": "code",
   "execution_count": 17,
   "id": "c684c70f",
   "metadata": {
    "execution": {
     "iopub.execute_input": "2021-11-01T16:36:56.393347Z",
     "iopub.status.busy": "2021-11-01T16:36:56.392498Z",
     "iopub.status.idle": "2021-11-01T16:36:56.395906Z",
     "shell.execute_reply": "2021-11-01T16:36:56.395243Z",
     "shell.execute_reply.started": "2021-11-01T11:29:40.263849Z"
    },
    "papermill": {
     "duration": 0.174738,
     "end_time": "2021-11-01T16:36:56.396061",
     "exception": false,
     "start_time": "2021-11-01T16:36:56.221323",
     "status": "completed"
    },
    "tags": []
   },
   "outputs": [],
   "source": [
    "# for video in videos:\n",
    "#     output_path = os.path.join(dir_demo, video, 'results.mp4')\n",
    "#     display(\n",
    "#             Video(data=output_path, embed=True, height=450, width=800)\n",
    "#         )"
   ]
  },
  {
   "cell_type": "markdown",
   "id": "599935e5",
   "metadata": {
    "papermill": {
     "duration": 0.157115,
     "end_time": "2021-11-01T16:36:56.712911",
     "exception": false,
     "start_time": "2021-11-01T16:36:56.555796",
     "status": "completed"
    },
    "tags": []
   },
   "source": [
    "# Post-process helmet mapping with FairMOT"
   ]
  },
  {
   "cell_type": "code",
   "execution_count": 18,
   "id": "d7a862e4",
   "metadata": {
    "execution": {
     "iopub.execute_input": "2021-11-01T16:36:56.927457Z",
     "iopub.status.busy": "2021-11-01T16:36:56.920233Z",
     "iopub.status.idle": "2021-11-01T16:36:57.218018Z",
     "shell.execute_reply": "2021-11-01T16:36:57.216864Z",
     "shell.execute_reply.started": "2021-11-01T11:29:56.606908Z"
    },
    "papermill": {
     "duration": 0.405896,
     "end_time": "2021-11-01T16:36:57.218167",
     "exception": false,
     "start_time": "2021-11-01T16:36:56.812271",
     "status": "completed"
    },
    "tags": []
   },
   "outputs": [],
   "source": [
    "video_frame = ss_hmap['video_frame'].str.split('_')\n",
    "ss_hmap['video'] = video_frame.str[:3].str.join('_')\n",
    "ss_hmap['frame'] = video_frame.str[3].astype(int)"
   ]
  },
  {
   "cell_type": "code",
   "execution_count": 19,
   "id": "d68ad0ab",
   "metadata": {
    "execution": {
     "iopub.execute_input": "2021-11-01T16:36:57.450061Z",
     "iopub.status.busy": "2021-11-01T16:36:57.449199Z",
     "iopub.status.idle": "2021-11-01T16:37:10.750191Z",
     "shell.execute_reply": "2021-11-01T16:37:10.750613Z",
     "shell.execute_reply.started": "2021-11-01T11:30:39.580135Z"
    },
    "papermill": {
     "duration": 13.432318,
     "end_time": "2021-11-01T16:37:10.750766",
     "exception": false,
     "start_time": "2021-11-01T16:36:57.318448",
     "status": "completed"
    },
    "tags": []
   },
   "outputs": [
    {
     "data": {
      "application/vnd.jupyter.widget-view+json": {
       "model_id": "ae5ab158498e40808d21a5231048780f",
       "version_major": 2,
       "version_minor": 0
      },
      "text/plain": [
       "  0%|          | 0/6 [00:00<?, ?it/s]"
      ]
     },
     "metadata": {},
     "output_type": "display_data"
    },
    {
     "name": "stdout",
     "output_type": "stream",
     "text": [
      "CPU times: user 13.2 s, sys: 78.4 ms, total: 13.3 s\n",
      "Wall time: 13.3 s\n"
     ]
    }
   ],
   "source": [
    "%%time\n",
    "\n",
    "outs = []\n",
    "for video in tqdm(videos, total=len(videos)):\n",
    "    \n",
    "    df_hmap = ss_hmap.query('video==@video')\n",
    "\n",
    "    pth_fmot = os.path.join(dir_demo, video, 'results.txt')\n",
    "    pth_video = os.path.join(dir_video, video + '.mp4')\n",
    "\n",
    "    df_tracks = fmot_postprocess_hmap(df_hmap, pth_fmot, pth_video)\n",
    "    \n",
    "    outs.append(df_tracks)\n",
    "    \n",
    "ss_fmot = pd.concat(outs, axis=0)"
   ]
  },
  {
   "cell_type": "code",
   "execution_count": 20,
   "id": "62183615",
   "metadata": {
    "execution": {
     "iopub.execute_input": "2021-11-01T16:37:10.952854Z",
     "iopub.status.busy": "2021-11-01T16:37:10.952319Z",
     "iopub.status.idle": "2021-11-01T16:37:11.000486Z",
     "shell.execute_reply": "2021-11-01T16:37:10.999820Z",
     "shell.execute_reply.started": "2021-11-01T11:30:47.029964Z"
    },
    "papermill": {
     "duration": 0.150994,
     "end_time": "2021-11-01T16:37:11.000617",
     "exception": false,
     "start_time": "2021-11-01T16:37:10.849623",
     "status": "completed"
    },
    "tags": []
   },
   "outputs": [],
   "source": [
    "columns = pd.read_csv(\n",
    "    '/kaggle/input/nfl-health-and-safety-helmet-assignment/sample_submission.csv').columns.values\n",
    "\n",
    "ss_fmot['label_fairmot'].fillna(ss_fmot['label'], inplace=True)\n",
    "\n",
    "ss_fmot.drop('label', axis=1, inplace=True)\n",
    "ss_fmot.rename(columns={'label_fairmot': 'label'}, inplace=True)\n",
    "\n",
    "ss_fmot = ss_fmot[columns]\n",
    "\n",
    "is_duped = ss_fmot.duplicated(subset=['video_frame', 'label'], keep='first')\n",
    "ss_fmot = ss_fmot[~is_duped]\n"
   ]
  },
  {
   "cell_type": "markdown",
   "id": "160094f8",
   "metadata": {
    "papermill": {
     "duration": 0.097345,
     "end_time": "2021-11-01T16:37:11.194996",
     "exception": false,
     "start_time": "2021-11-01T16:37:11.097651",
     "status": "completed"
    },
    "tags": []
   },
   "source": [
    "# Check submission and save to disk"
   ]
  },
  {
   "cell_type": "code",
   "execution_count": 21,
   "id": "356d26e0",
   "metadata": {
    "execution": {
     "iopub.execute_input": "2021-11-01T16:37:11.398505Z",
     "iopub.status.busy": "2021-11-01T16:37:11.396194Z",
     "iopub.status.idle": "2021-11-01T16:37:11.433526Z",
     "shell.execute_reply": "2021-11-01T16:37:11.433948Z",
     "shell.execute_reply.started": "2021-11-01T11:30:52.040635Z"
    },
    "papermill": {
     "duration": 0.141208,
     "end_time": "2021-11-01T16:37:11.434105",
     "exception": false,
     "start_time": "2021-11-01T16:37:11.292897",
     "status": "completed"
    },
    "tags": []
   },
   "outputs": [
    {
     "data": {
      "text/plain": [
       "True"
      ]
     },
     "execution_count": 21,
     "metadata": {},
     "output_type": "execute_result"
    }
   ],
   "source": [
    "check_submission(ss_fmot)"
   ]
  },
  {
   "cell_type": "code",
   "execution_count": 22,
   "id": "050eb9f9",
   "metadata": {
    "execution": {
     "iopub.execute_input": "2021-11-01T16:37:11.636085Z",
     "iopub.status.busy": "2021-11-01T16:37:11.635464Z",
     "iopub.status.idle": "2021-11-01T16:37:11.781934Z",
     "shell.execute_reply": "2021-11-01T16:37:11.781416Z",
     "shell.execute_reply.started": "2021-11-01T11:30:54.519041Z"
    },
    "papermill": {
     "duration": 0.248345,
     "end_time": "2021-11-01T16:37:11.782068",
     "exception": false,
     "start_time": "2021-11-01T16:37:11.533723",
     "status": "completed"
    },
    "tags": []
   },
   "outputs": [],
   "source": [
    "ss_fmot.to_csv('/kaggle/working/submission.csv', index=False)"
   ]
  },
  {
   "cell_type": "code",
   "execution_count": null,
   "id": "d28ea2a8",
   "metadata": {
    "papermill": {
     "duration": 0.09802,
     "end_time": "2021-11-01T16:37:11.978321",
     "exception": false,
     "start_time": "2021-11-01T16:37:11.880301",
     "status": "completed"
    },
    "tags": []
   },
   "outputs": [],
   "source": []
  }
 ],
 "metadata": {
  "kernelspec": {
   "display_name": "Python 3",
   "language": "python",
   "name": "python3"
  },
  "language_info": {
   "codemirror_mode": {
    "name": "ipython",
    "version": 3
   },
   "file_extension": ".py",
   "mimetype": "text/x-python",
   "name": "python",
   "nbconvert_exporter": "python",
   "pygments_lexer": "ipython3",
   "version": "3.7.10"
  },
  "papermill": {
   "default_parameters": {},
   "duration": 4360.983917,
   "end_time": "2021-11-01T16:37:13.361029",
   "environment_variables": {},
   "exception": null,
   "input_path": "__notebook__.ipynb",
   "output_path": "__notebook__.ipynb",
   "parameters": {},
   "start_time": "2021-11-01T15:24:32.377112",
   "version": "2.3.3"
  },
  "widgets": {
   "application/vnd.jupyter.widget-state+json": {
    "state": {
     "051aca89b2af44f79f520c07db5cf4ac": {
      "model_module": "@jupyter-widgets/base",
      "model_module_version": "1.2.0",
      "model_name": "LayoutModel",
      "state": {
       "_model_module": "@jupyter-widgets/base",
       "_model_module_version": "1.2.0",
       "_model_name": "LayoutModel",
       "_view_count": null,
       "_view_module": "@jupyter-widgets/base",
       "_view_module_version": "1.2.0",
       "_view_name": "LayoutView",
       "align_content": null,
       "align_items": null,
       "align_self": null,
       "border": null,
       "bottom": null,
       "display": null,
       "flex": null,
       "flex_flow": null,
       "grid_area": null,
       "grid_auto_columns": null,
       "grid_auto_flow": null,
       "grid_auto_rows": null,
       "grid_column": null,
       "grid_gap": null,
       "grid_row": null,
       "grid_template_areas": null,
       "grid_template_columns": null,
       "grid_template_rows": null,
       "height": null,
       "justify_content": null,
       "justify_items": null,
       "left": null,
       "margin": null,
       "max_height": null,
       "max_width": null,
       "min_height": null,
       "min_width": null,
       "object_fit": null,
       "object_position": null,
       "order": null,
       "overflow": null,
       "overflow_x": null,
       "overflow_y": null,
       "padding": null,
       "right": null,
       "top": null,
       "visibility": null,
       "width": null
      }
     },
     "07445b2869a342859abfbbaf548da591": {
      "model_module": "@jupyter-widgets/base",
      "model_module_version": "1.2.0",
      "model_name": "LayoutModel",
      "state": {
       "_model_module": "@jupyter-widgets/base",
       "_model_module_version": "1.2.0",
       "_model_name": "LayoutModel",
       "_view_count": null,
       "_view_module": "@jupyter-widgets/base",
       "_view_module_version": "1.2.0",
       "_view_name": "LayoutView",
       "align_content": null,
       "align_items": null,
       "align_self": null,
       "border": null,
       "bottom": null,
       "display": null,
       "flex": null,
       "flex_flow": null,
       "grid_area": null,
       "grid_auto_columns": null,
       "grid_auto_flow": null,
       "grid_auto_rows": null,
       "grid_column": null,
       "grid_gap": null,
       "grid_row": null,
       "grid_template_areas": null,
       "grid_template_columns": null,
       "grid_template_rows": null,
       "height": null,
       "justify_content": null,
       "justify_items": null,
       "left": null,
       "margin": null,
       "max_height": null,
       "max_width": null,
       "min_height": null,
       "min_width": null,
       "object_fit": null,
       "object_position": null,
       "order": null,
       "overflow": null,
       "overflow_x": null,
       "overflow_y": null,
       "padding": null,
       "right": null,
       "top": null,
       "visibility": null,
       "width": null
      }
     },
     "0f1b06bac85644349a3fe600c42fdb01": {
      "model_module": "@jupyter-widgets/controls",
      "model_module_version": "1.5.0",
      "model_name": "DescriptionStyleModel",
      "state": {
       "_model_module": "@jupyter-widgets/controls",
       "_model_module_version": "1.5.0",
       "_model_name": "DescriptionStyleModel",
       "_view_count": null,
       "_view_module": "@jupyter-widgets/base",
       "_view_module_version": "1.2.0",
       "_view_name": "StyleView",
       "description_width": ""
      }
     },
     "13a3d098126c44d699b38fccc3b95292": {
      "model_module": "@jupyter-widgets/controls",
      "model_module_version": "1.5.0",
      "model_name": "ProgressStyleModel",
      "state": {
       "_model_module": "@jupyter-widgets/controls",
       "_model_module_version": "1.5.0",
       "_model_name": "ProgressStyleModel",
       "_view_count": null,
       "_view_module": "@jupyter-widgets/base",
       "_view_module_version": "1.2.0",
       "_view_name": "StyleView",
       "bar_color": null,
       "description_width": ""
      }
     },
     "147c0df20c6b4fd28ac93c3c6d026fe7": {
      "model_module": "@jupyter-widgets/controls",
      "model_module_version": "1.5.0",
      "model_name": "FloatProgressModel",
      "state": {
       "_dom_classes": [],
       "_model_module": "@jupyter-widgets/controls",
       "_model_module_version": "1.5.0",
       "_model_name": "FloatProgressModel",
       "_view_count": null,
       "_view_module": "@jupyter-widgets/controls",
       "_view_module_version": "1.5.0",
       "_view_name": "ProgressView",
       "bar_style": "success",
       "description": "",
       "description_tooltip": null,
       "layout": "IPY_MODEL_07445b2869a342859abfbbaf548da591",
       "max": 6.0,
       "min": 0.0,
       "orientation": "horizontal",
       "style": "IPY_MODEL_cfc5d3f151874a399b09d7eebb1f3e01",
       "value": 6.0
      }
     },
     "2efc84c7026c4d7b92abe47cfce87768": {
      "model_module": "@jupyter-widgets/base",
      "model_module_version": "1.2.0",
      "model_name": "LayoutModel",
      "state": {
       "_model_module": "@jupyter-widgets/base",
       "_model_module_version": "1.2.0",
       "_model_name": "LayoutModel",
       "_view_count": null,
       "_view_module": "@jupyter-widgets/base",
       "_view_module_version": "1.2.0",
       "_view_name": "LayoutView",
       "align_content": null,
       "align_items": null,
       "align_self": null,
       "border": null,
       "bottom": null,
       "display": null,
       "flex": null,
       "flex_flow": null,
       "grid_area": null,
       "grid_auto_columns": null,
       "grid_auto_flow": null,
       "grid_auto_rows": null,
       "grid_column": null,
       "grid_gap": null,
       "grid_row": null,
       "grid_template_areas": null,
       "grid_template_columns": null,
       "grid_template_rows": null,
       "height": null,
       "justify_content": null,
       "justify_items": null,
       "left": null,
       "margin": null,
       "max_height": null,
       "max_width": null,
       "min_height": null,
       "min_width": null,
       "object_fit": null,
       "object_position": null,
       "order": null,
       "overflow": null,
       "overflow_x": null,
       "overflow_y": null,
       "padding": null,
       "right": null,
       "top": null,
       "visibility": null,
       "width": null
      }
     },
     "323efcd4278b48d0adb7d5b10e0f9cd6": {
      "model_module": "@jupyter-widgets/controls",
      "model_module_version": "1.5.0",
      "model_name": "DescriptionStyleModel",
      "state": {
       "_model_module": "@jupyter-widgets/controls",
       "_model_module_version": "1.5.0",
       "_model_name": "DescriptionStyleModel",
       "_view_count": null,
       "_view_module": "@jupyter-widgets/base",
       "_view_module_version": "1.2.0",
       "_view_name": "StyleView",
       "description_width": ""
      }
     },
     "34331f2cb4fd45599897facc2db4800e": {
      "model_module": "@jupyter-widgets/controls",
      "model_module_version": "1.5.0",
      "model_name": "HTMLModel",
      "state": {
       "_dom_classes": [],
       "_model_module": "@jupyter-widgets/controls",
       "_model_module_version": "1.5.0",
       "_model_name": "HTMLModel",
       "_view_count": null,
       "_view_module": "@jupyter-widgets/controls",
       "_view_module_version": "1.5.0",
       "_view_name": "HTMLView",
       "description": "",
       "description_tooltip": null,
       "layout": "IPY_MODEL_40601888880e4f289d969171162745c6",
       "placeholder": "​",
       "style": "IPY_MODEL_60d2e01e848e404da969e8d4074423cf",
       "value": "100%"
      }
     },
     "40601888880e4f289d969171162745c6": {
      "model_module": "@jupyter-widgets/base",
      "model_module_version": "1.2.0",
      "model_name": "LayoutModel",
      "state": {
       "_model_module": "@jupyter-widgets/base",
       "_model_module_version": "1.2.0",
       "_model_name": "LayoutModel",
       "_view_count": null,
       "_view_module": "@jupyter-widgets/base",
       "_view_module_version": "1.2.0",
       "_view_name": "LayoutView",
       "align_content": null,
       "align_items": null,
       "align_self": null,
       "border": null,
       "bottom": null,
       "display": null,
       "flex": null,
       "flex_flow": null,
       "grid_area": null,
       "grid_auto_columns": null,
       "grid_auto_flow": null,
       "grid_auto_rows": null,
       "grid_column": null,
       "grid_gap": null,
       "grid_row": null,
       "grid_template_areas": null,
       "grid_template_columns": null,
       "grid_template_rows": null,
       "height": null,
       "justify_content": null,
       "justify_items": null,
       "left": null,
       "margin": null,
       "max_height": null,
       "max_width": null,
       "min_height": null,
       "min_width": null,
       "object_fit": null,
       "object_position": null,
       "order": null,
       "overflow": null,
       "overflow_x": null,
       "overflow_y": null,
       "padding": null,
       "right": null,
       "top": null,
       "visibility": null,
       "width": null
      }
     },
     "4086a15a75c64a5c9f25741cbb6a5646": {
      "model_module": "@jupyter-widgets/base",
      "model_module_version": "1.2.0",
      "model_name": "LayoutModel",
      "state": {
       "_model_module": "@jupyter-widgets/base",
       "_model_module_version": "1.2.0",
       "_model_name": "LayoutModel",
       "_view_count": null,
       "_view_module": "@jupyter-widgets/base",
       "_view_module_version": "1.2.0",
       "_view_name": "LayoutView",
       "align_content": null,
       "align_items": null,
       "align_self": null,
       "border": null,
       "bottom": null,
       "display": null,
       "flex": null,
       "flex_flow": null,
       "grid_area": null,
       "grid_auto_columns": null,
       "grid_auto_flow": null,
       "grid_auto_rows": null,
       "grid_column": null,
       "grid_gap": null,
       "grid_row": null,
       "grid_template_areas": null,
       "grid_template_columns": null,
       "grid_template_rows": null,
       "height": null,
       "justify_content": null,
       "justify_items": null,
       "left": null,
       "margin": null,
       "max_height": null,
       "max_width": null,
       "min_height": null,
       "min_width": null,
       "object_fit": null,
       "object_position": null,
       "order": null,
       "overflow": null,
       "overflow_x": null,
       "overflow_y": null,
       "padding": null,
       "right": null,
       "top": null,
       "visibility": null,
       "width": null
      }
     },
     "42e9ad1deef347189a8742d6d7d98f35": {
      "model_module": "@jupyter-widgets/base",
      "model_module_version": "1.2.0",
      "model_name": "LayoutModel",
      "state": {
       "_model_module": "@jupyter-widgets/base",
       "_model_module_version": "1.2.0",
       "_model_name": "LayoutModel",
       "_view_count": null,
       "_view_module": "@jupyter-widgets/base",
       "_view_module_version": "1.2.0",
       "_view_name": "LayoutView",
       "align_content": null,
       "align_items": null,
       "align_self": null,
       "border": null,
       "bottom": null,
       "display": null,
       "flex": null,
       "flex_flow": null,
       "grid_area": null,
       "grid_auto_columns": null,
       "grid_auto_flow": null,
       "grid_auto_rows": null,
       "grid_column": null,
       "grid_gap": null,
       "grid_row": null,
       "grid_template_areas": null,
       "grid_template_columns": null,
       "grid_template_rows": null,
       "height": null,
       "justify_content": null,
       "justify_items": null,
       "left": null,
       "margin": null,
       "max_height": null,
       "max_width": null,
       "min_height": null,
       "min_width": null,
       "object_fit": null,
       "object_position": null,
       "order": null,
       "overflow": null,
       "overflow_x": null,
       "overflow_y": null,
       "padding": null,
       "right": null,
       "top": null,
       "visibility": null,
       "width": null
      }
     },
     "523ecb5bb10247848002762ef0aaaa05": {
      "model_module": "@jupyter-widgets/controls",
      "model_module_version": "1.5.0",
      "model_name": "FloatProgressModel",
      "state": {
       "_dom_classes": [],
       "_model_module": "@jupyter-widgets/controls",
       "_model_module_version": "1.5.0",
       "_model_name": "FloatProgressModel",
       "_view_count": null,
       "_view_module": "@jupyter-widgets/controls",
       "_view_module_version": "1.5.0",
       "_view_name": "ProgressView",
       "bar_style": "success",
       "description": "",
       "description_tooltip": null,
       "layout": "IPY_MODEL_e4dce5ab4e7e4671a413a4ec0299749c",
       "max": 2664.0,
       "min": 0.0,
       "orientation": "horizontal",
       "style": "IPY_MODEL_5ecda91e9ef14f3faa9a6d7b7e5227d9",
       "value": 2664.0
      }
     },
     "5ecda91e9ef14f3faa9a6d7b7e5227d9": {
      "model_module": "@jupyter-widgets/controls",
      "model_module_version": "1.5.0",
      "model_name": "ProgressStyleModel",
      "state": {
       "_model_module": "@jupyter-widgets/controls",
       "_model_module_version": "1.5.0",
       "_model_name": "ProgressStyleModel",
       "_view_count": null,
       "_view_module": "@jupyter-widgets/base",
       "_view_module_version": "1.2.0",
       "_view_name": "StyleView",
       "bar_color": null,
       "description_width": ""
      }
     },
     "60d2e01e848e404da969e8d4074423cf": {
      "model_module": "@jupyter-widgets/controls",
      "model_module_version": "1.5.0",
      "model_name": "DescriptionStyleModel",
      "state": {
       "_model_module": "@jupyter-widgets/controls",
       "_model_module_version": "1.5.0",
       "_model_name": "DescriptionStyleModel",
       "_view_count": null,
       "_view_module": "@jupyter-widgets/base",
       "_view_module_version": "1.2.0",
       "_view_name": "StyleView",
       "description_width": ""
      }
     },
     "6dee5b7323a249dca48b68f89b56a2ad": {
      "model_module": "@jupyter-widgets/controls",
      "model_module_version": "1.5.0",
      "model_name": "DescriptionStyleModel",
      "state": {
       "_model_module": "@jupyter-widgets/controls",
       "_model_module_version": "1.5.0",
       "_model_name": "DescriptionStyleModel",
       "_view_count": null,
       "_view_module": "@jupyter-widgets/base",
       "_view_module_version": "1.2.0",
       "_view_name": "StyleView",
       "description_width": ""
      }
     },
     "797c72d2093749818a5aa7accc656c92": {
      "model_module": "@jupyter-widgets/controls",
      "model_module_version": "1.5.0",
      "model_name": "HBoxModel",
      "state": {
       "_dom_classes": [],
       "_model_module": "@jupyter-widgets/controls",
       "_model_module_version": "1.5.0",
       "_model_name": "HBoxModel",
       "_view_count": null,
       "_view_module": "@jupyter-widgets/controls",
       "_view_module_version": "1.5.0",
       "_view_name": "HBoxView",
       "box_style": "",
       "children": [
        "IPY_MODEL_34331f2cb4fd45599897facc2db4800e",
        "IPY_MODEL_147c0df20c6b4fd28ac93c3c6d026fe7",
        "IPY_MODEL_9cfe3cff8b394e4bb806a518c74dcc22"
       ],
       "layout": "IPY_MODEL_90696f0111ea47e58430ef27a51f1765"
      }
     },
     "85b25ccdbd2c4e37b73dfedecc77bb14": {
      "model_module": "@jupyter-widgets/base",
      "model_module_version": "1.2.0",
      "model_name": "LayoutModel",
      "state": {
       "_model_module": "@jupyter-widgets/base",
       "_model_module_version": "1.2.0",
       "_model_name": "LayoutModel",
       "_view_count": null,
       "_view_module": "@jupyter-widgets/base",
       "_view_module_version": "1.2.0",
       "_view_name": "LayoutView",
       "align_content": null,
       "align_items": null,
       "align_self": null,
       "border": null,
       "bottom": null,
       "display": null,
       "flex": null,
       "flex_flow": null,
       "grid_area": null,
       "grid_auto_columns": null,
       "grid_auto_flow": null,
       "grid_auto_rows": null,
       "grid_column": null,
       "grid_gap": null,
       "grid_row": null,
       "grid_template_areas": null,
       "grid_template_columns": null,
       "grid_template_rows": null,
       "height": null,
       "justify_content": null,
       "justify_items": null,
       "left": null,
       "margin": null,
       "max_height": null,
       "max_width": null,
       "min_height": null,
       "min_width": null,
       "object_fit": null,
       "object_position": null,
       "order": null,
       "overflow": null,
       "overflow_x": null,
       "overflow_y": null,
       "padding": null,
       "right": null,
       "top": null,
       "visibility": null,
       "width": null
      }
     },
     "88c2dc7d8a9f49688ec2ee40dbf6e086": {
      "model_module": "@jupyter-widgets/controls",
      "model_module_version": "1.5.0",
      "model_name": "HTMLModel",
      "state": {
       "_dom_classes": [],
       "_model_module": "@jupyter-widgets/controls",
       "_model_module_version": "1.5.0",
       "_model_name": "HTMLModel",
       "_view_count": null,
       "_view_module": "@jupyter-widgets/controls",
       "_view_module_version": "1.5.0",
       "_view_name": "HTMLView",
       "description": "",
       "description_tooltip": null,
       "layout": "IPY_MODEL_8af7da9398894d5b984ed05748d7f7f0",
       "placeholder": "​",
       "style": "IPY_MODEL_323efcd4278b48d0adb7d5b10e0f9cd6",
       "value": " 6/6 [00:13&lt;00:00,  2.18s/it]"
      }
     },
     "8a9845f12eeb404c85655f56f7742888": {
      "model_module": "@jupyter-widgets/controls",
      "model_module_version": "1.5.0",
      "model_name": "DescriptionStyleModel",
      "state": {
       "_model_module": "@jupyter-widgets/controls",
       "_model_module_version": "1.5.0",
       "_model_name": "DescriptionStyleModel",
       "_view_count": null,
       "_view_module": "@jupyter-widgets/base",
       "_view_module_version": "1.2.0",
       "_view_name": "StyleView",
       "description_width": ""
      }
     },
     "8af7da9398894d5b984ed05748d7f7f0": {
      "model_module": "@jupyter-widgets/base",
      "model_module_version": "1.2.0",
      "model_name": "LayoutModel",
      "state": {
       "_model_module": "@jupyter-widgets/base",
       "_model_module_version": "1.2.0",
       "_model_name": "LayoutModel",
       "_view_count": null,
       "_view_module": "@jupyter-widgets/base",
       "_view_module_version": "1.2.0",
       "_view_name": "LayoutView",
       "align_content": null,
       "align_items": null,
       "align_self": null,
       "border": null,
       "bottom": null,
       "display": null,
       "flex": null,
       "flex_flow": null,
       "grid_area": null,
       "grid_auto_columns": null,
       "grid_auto_flow": null,
       "grid_auto_rows": null,
       "grid_column": null,
       "grid_gap": null,
       "grid_row": null,
       "grid_template_areas": null,
       "grid_template_columns": null,
       "grid_template_rows": null,
       "height": null,
       "justify_content": null,
       "justify_items": null,
       "left": null,
       "margin": null,
       "max_height": null,
       "max_width": null,
       "min_height": null,
       "min_width": null,
       "object_fit": null,
       "object_position": null,
       "order": null,
       "overflow": null,
       "overflow_x": null,
       "overflow_y": null,
       "padding": null,
       "right": null,
       "top": null,
       "visibility": null,
       "width": null
      }
     },
     "90696f0111ea47e58430ef27a51f1765": {
      "model_module": "@jupyter-widgets/base",
      "model_module_version": "1.2.0",
      "model_name": "LayoutModel",
      "state": {
       "_model_module": "@jupyter-widgets/base",
       "_model_module_version": "1.2.0",
       "_model_name": "LayoutModel",
       "_view_count": null,
       "_view_module": "@jupyter-widgets/base",
       "_view_module_version": "1.2.0",
       "_view_name": "LayoutView",
       "align_content": null,
       "align_items": null,
       "align_self": null,
       "border": null,
       "bottom": null,
       "display": null,
       "flex": null,
       "flex_flow": null,
       "grid_area": null,
       "grid_auto_columns": null,
       "grid_auto_flow": null,
       "grid_auto_rows": null,
       "grid_column": null,
       "grid_gap": null,
       "grid_row": null,
       "grid_template_areas": null,
       "grid_template_columns": null,
       "grid_template_rows": null,
       "height": null,
       "justify_content": null,
       "justify_items": null,
       "left": null,
       "margin": null,
       "max_height": null,
       "max_width": null,
       "min_height": null,
       "min_width": null,
       "object_fit": null,
       "object_position": null,
       "order": null,
       "overflow": null,
       "overflow_x": null,
       "overflow_y": null,
       "padding": null,
       "right": null,
       "top": null,
       "visibility": null,
       "width": null
      }
     },
     "97efbfef279b4a698722a13f689fcbb0": {
      "model_module": "@jupyter-widgets/controls",
      "model_module_version": "1.5.0",
      "model_name": "HTMLModel",
      "state": {
       "_dom_classes": [],
       "_model_module": "@jupyter-widgets/controls",
       "_model_module_version": "1.5.0",
       "_model_name": "HTMLModel",
       "_view_count": null,
       "_view_module": "@jupyter-widgets/controls",
       "_view_module_version": "1.5.0",
       "_view_name": "HTMLView",
       "description": "",
       "description_tooltip": null,
       "layout": "IPY_MODEL_85b25ccdbd2c4e37b73dfedecc77bb14",
       "placeholder": "​",
       "style": "IPY_MODEL_6dee5b7323a249dca48b68f89b56a2ad",
       "value": "100%"
      }
     },
     "9cfe3cff8b394e4bb806a518c74dcc22": {
      "model_module": "@jupyter-widgets/controls",
      "model_module_version": "1.5.0",
      "model_name": "HTMLModel",
      "state": {
       "_dom_classes": [],
       "_model_module": "@jupyter-widgets/controls",
       "_model_module_version": "1.5.0",
       "_model_name": "HTMLModel",
       "_view_count": null,
       "_view_module": "@jupyter-widgets/controls",
       "_view_module_version": "1.5.0",
       "_view_name": "HTMLView",
       "description": "",
       "description_tooltip": null,
       "layout": "IPY_MODEL_42e9ad1deef347189a8742d6d7d98f35",
       "placeholder": "​",
       "style": "IPY_MODEL_0f1b06bac85644349a3fe600c42fdb01",
       "value": " 6/6 [10:58&lt;00:00, 105.87s/it]"
      }
     },
     "9da807c922f647fa8fee58ad2e3e8f2f": {
      "model_module": "@jupyter-widgets/controls",
      "model_module_version": "1.5.0",
      "model_name": "HTMLModel",
      "state": {
       "_dom_classes": [],
       "_model_module": "@jupyter-widgets/controls",
       "_model_module_version": "1.5.0",
       "_model_name": "HTMLModel",
       "_view_count": null,
       "_view_module": "@jupyter-widgets/controls",
       "_view_module_version": "1.5.0",
       "_view_name": "HTMLView",
       "description": "",
       "description_tooltip": null,
       "layout": "IPY_MODEL_ea515a0e1bf34e3da4853030ffa44964",
       "placeholder": "​",
       "style": "IPY_MODEL_a0bb2c79eb134a9e9a785e67afa609a6",
       "value": "100%"
      }
     },
     "a0bb2c79eb134a9e9a785e67afa609a6": {
      "model_module": "@jupyter-widgets/controls",
      "model_module_version": "1.5.0",
      "model_name": "DescriptionStyleModel",
      "state": {
       "_model_module": "@jupyter-widgets/controls",
       "_model_module_version": "1.5.0",
       "_model_name": "DescriptionStyleModel",
       "_view_count": null,
       "_view_module": "@jupyter-widgets/base",
       "_view_module_version": "1.2.0",
       "_view_name": "StyleView",
       "description_width": ""
      }
     },
     "a22d7e58938644209d1ed515df228d11": {
      "model_module": "@jupyter-widgets/controls",
      "model_module_version": "1.5.0",
      "model_name": "FloatProgressModel",
      "state": {
       "_dom_classes": [],
       "_model_module": "@jupyter-widgets/controls",
       "_model_module_version": "1.5.0",
       "_model_name": "FloatProgressModel",
       "_view_count": null,
       "_view_module": "@jupyter-widgets/controls",
       "_view_module_version": "1.5.0",
       "_view_name": "ProgressView",
       "bar_style": "success",
       "description": "",
       "description_tooltip": null,
       "layout": "IPY_MODEL_2efc84c7026c4d7b92abe47cfce87768",
       "max": 6.0,
       "min": 0.0,
       "orientation": "horizontal",
       "style": "IPY_MODEL_13a3d098126c44d699b38fccc3b95292",
       "value": 6.0
      }
     },
     "ae5ab158498e40808d21a5231048780f": {
      "model_module": "@jupyter-widgets/controls",
      "model_module_version": "1.5.0",
      "model_name": "HBoxModel",
      "state": {
       "_dom_classes": [],
       "_model_module": "@jupyter-widgets/controls",
       "_model_module_version": "1.5.0",
       "_model_name": "HBoxModel",
       "_view_count": null,
       "_view_module": "@jupyter-widgets/controls",
       "_view_module_version": "1.5.0",
       "_view_name": "HBoxView",
       "box_style": "",
       "children": [
        "IPY_MODEL_97efbfef279b4a698722a13f689fcbb0",
        "IPY_MODEL_a22d7e58938644209d1ed515df228d11",
        "IPY_MODEL_88c2dc7d8a9f49688ec2ee40dbf6e086"
       ],
       "layout": "IPY_MODEL_b032287c36904416ab07ded8a064f2e1"
      }
     },
     "b032287c36904416ab07ded8a064f2e1": {
      "model_module": "@jupyter-widgets/base",
      "model_module_version": "1.2.0",
      "model_name": "LayoutModel",
      "state": {
       "_model_module": "@jupyter-widgets/base",
       "_model_module_version": "1.2.0",
       "_model_name": "LayoutModel",
       "_view_count": null,
       "_view_module": "@jupyter-widgets/base",
       "_view_module_version": "1.2.0",
       "_view_name": "LayoutView",
       "align_content": null,
       "align_items": null,
       "align_self": null,
       "border": null,
       "bottom": null,
       "display": null,
       "flex": null,
       "flex_flow": null,
       "grid_area": null,
       "grid_auto_columns": null,
       "grid_auto_flow": null,
       "grid_auto_rows": null,
       "grid_column": null,
       "grid_gap": null,
       "grid_row": null,
       "grid_template_areas": null,
       "grid_template_columns": null,
       "grid_template_rows": null,
       "height": null,
       "justify_content": null,
       "justify_items": null,
       "left": null,
       "margin": null,
       "max_height": null,
       "max_width": null,
       "min_height": null,
       "min_width": null,
       "object_fit": null,
       "object_position": null,
       "order": null,
       "overflow": null,
       "overflow_x": null,
       "overflow_y": null,
       "padding": null,
       "right": null,
       "top": null,
       "visibility": null,
       "width": null
      }
     },
     "cfc5d3f151874a399b09d7eebb1f3e01": {
      "model_module": "@jupyter-widgets/controls",
      "model_module_version": "1.5.0",
      "model_name": "ProgressStyleModel",
      "state": {
       "_model_module": "@jupyter-widgets/controls",
       "_model_module_version": "1.5.0",
       "_model_name": "ProgressStyleModel",
       "_view_count": null,
       "_view_module": "@jupyter-widgets/base",
       "_view_module_version": "1.2.0",
       "_view_name": "StyleView",
       "bar_color": null,
       "description_width": ""
      }
     },
     "d2032eb3385843ba851a3dd8fb6fef0a": {
      "model_module": "@jupyter-widgets/controls",
      "model_module_version": "1.5.0",
      "model_name": "HTMLModel",
      "state": {
       "_dom_classes": [],
       "_model_module": "@jupyter-widgets/controls",
       "_model_module_version": "1.5.0",
       "_model_name": "HTMLModel",
       "_view_count": null,
       "_view_module": "@jupyter-widgets/controls",
       "_view_module_version": "1.5.0",
       "_view_name": "HTMLView",
       "description": "",
       "description_tooltip": null,
       "layout": "IPY_MODEL_4086a15a75c64a5c9f25741cbb6a5646",
       "placeholder": "​",
       "style": "IPY_MODEL_8a9845f12eeb404c85655f56f7742888",
       "value": " 2664/2664 [57:14&lt;00:00,  2.02it/s]"
      }
     },
     "e4dce5ab4e7e4671a413a4ec0299749c": {
      "model_module": "@jupyter-widgets/base",
      "model_module_version": "1.2.0",
      "model_name": "LayoutModel",
      "state": {
       "_model_module": "@jupyter-widgets/base",
       "_model_module_version": "1.2.0",
       "_model_name": "LayoutModel",
       "_view_count": null,
       "_view_module": "@jupyter-widgets/base",
       "_view_module_version": "1.2.0",
       "_view_name": "LayoutView",
       "align_content": null,
       "align_items": null,
       "align_self": null,
       "border": null,
       "bottom": null,
       "display": null,
       "flex": null,
       "flex_flow": null,
       "grid_area": null,
       "grid_auto_columns": null,
       "grid_auto_flow": null,
       "grid_auto_rows": null,
       "grid_column": null,
       "grid_gap": null,
       "grid_row": null,
       "grid_template_areas": null,
       "grid_template_columns": null,
       "grid_template_rows": null,
       "height": null,
       "justify_content": null,
       "justify_items": null,
       "left": null,
       "margin": null,
       "max_height": null,
       "max_width": null,
       "min_height": null,
       "min_width": null,
       "object_fit": null,
       "object_position": null,
       "order": null,
       "overflow": null,
       "overflow_x": null,
       "overflow_y": null,
       "padding": null,
       "right": null,
       "top": null,
       "visibility": null,
       "width": null
      }
     },
     "ea515a0e1bf34e3da4853030ffa44964": {
      "model_module": "@jupyter-widgets/base",
      "model_module_version": "1.2.0",
      "model_name": "LayoutModel",
      "state": {
       "_model_module": "@jupyter-widgets/base",
       "_model_module_version": "1.2.0",
       "_model_name": "LayoutModel",
       "_view_count": null,
       "_view_module": "@jupyter-widgets/base",
       "_view_module_version": "1.2.0",
       "_view_name": "LayoutView",
       "align_content": null,
       "align_items": null,
       "align_self": null,
       "border": null,
       "bottom": null,
       "display": null,
       "flex": null,
       "flex_flow": null,
       "grid_area": null,
       "grid_auto_columns": null,
       "grid_auto_flow": null,
       "grid_auto_rows": null,
       "grid_column": null,
       "grid_gap": null,
       "grid_row": null,
       "grid_template_areas": null,
       "grid_template_columns": null,
       "grid_template_rows": null,
       "height": null,
       "justify_content": null,
       "justify_items": null,
       "left": null,
       "margin": null,
       "max_height": null,
       "max_width": null,
       "min_height": null,
       "min_width": null,
       "object_fit": null,
       "object_position": null,
       "order": null,
       "overflow": null,
       "overflow_x": null,
       "overflow_y": null,
       "padding": null,
       "right": null,
       "top": null,
       "visibility": null,
       "width": null
      }
     },
     "fe17ab6916614b25adcc91a3975f6da1": {
      "model_module": "@jupyter-widgets/controls",
      "model_module_version": "1.5.0",
      "model_name": "HBoxModel",
      "state": {
       "_dom_classes": [],
       "_model_module": "@jupyter-widgets/controls",
       "_model_module_version": "1.5.0",
       "_model_name": "HBoxModel",
       "_view_count": null,
       "_view_module": "@jupyter-widgets/controls",
       "_view_module_version": "1.5.0",
       "_view_name": "HBoxView",
       "box_style": "",
       "children": [
        "IPY_MODEL_9da807c922f647fa8fee58ad2e3e8f2f",
        "IPY_MODEL_523ecb5bb10247848002762ef0aaaa05",
        "IPY_MODEL_d2032eb3385843ba851a3dd8fb6fef0a"
       ],
       "layout": "IPY_MODEL_051aca89b2af44f79f520c07db5cf4ac"
      }
     }
    },
    "version_major": 2,
    "version_minor": 0
   }
  }
 },
 "nbformat": 4,
 "nbformat_minor": 5
}
