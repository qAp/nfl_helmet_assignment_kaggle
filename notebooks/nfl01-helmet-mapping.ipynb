{
 "cells": [
  {
   "cell_type": "markdown",
   "id": "27042a72",
   "metadata": {
    "papermill": {
     "duration": 0.012778,
     "end_time": "2021-09-24T10:45:41.922913",
     "exception": false,
     "start_time": "2021-09-24T10:45:41.910135",
     "status": "completed"
    },
    "tags": []
   },
   "source": [
    "# Helmet Mapping\n",
    "Source: https://www.kaggle.com/its7171/nfl-baseline-simple-helmet-mapping"
   ]
  },
  {
   "cell_type": "code",
   "execution_count": 1,
   "id": "3c6e55c8",
   "metadata": {
    "_cell_guid": "b1076dfc-b9ad-4769-8c92-a6c4dae69d19",
    "_uuid": "8f2839f25d086af736a60e9eeb907d3b93b6e0e5",
    "execution": {
     "iopub.execute_input": "2021-09-24T10:45:41.954192Z",
     "iopub.status.busy": "2021-09-24T10:45:41.952409Z",
     "iopub.status.idle": "2021-09-24T10:45:41.956312Z",
     "shell.execute_reply": "2021-09-24T10:45:41.955639Z",
     "shell.execute_reply.started": "2021-09-18T04:26:01.327053Z"
    },
    "papermill": {
     "duration": 0.022189,
     "end_time": "2021-09-24T10:45:41.956478",
     "exception": false,
     "start_time": "2021-09-24T10:45:41.934289",
     "status": "completed"
    },
    "tags": []
   },
   "outputs": [],
   "source": [
    "# %cd /kaggle\n",
    "# from IPython.display import clear_output\n",
    "# pat = input('Personal Access Token:')\n",
    "# clear_output()\n",
    "# ! git clone https://$pat@github.com/qAp/nfl_helmet_assignment_kaggle.git"
   ]
  },
  {
   "cell_type": "code",
   "execution_count": 2,
   "id": "928a77f0",
   "metadata": {
    "execution": {
     "iopub.execute_input": "2021-09-24T10:45:41.982840Z",
     "iopub.status.busy": "2021-09-24T10:45:41.982205Z",
     "iopub.status.idle": "2021-09-24T10:45:41.985792Z",
     "shell.execute_reply": "2021-09-24T10:45:41.985092Z",
     "shell.execute_reply.started": "2021-09-18T04:26:16.890644Z"
    },
    "papermill": {
     "duration": 0.018633,
     "end_time": "2021-09-24T10:45:41.985980",
     "exception": false,
     "start_time": "2021-09-24T10:45:41.967347",
     "status": "completed"
    },
    "tags": []
   },
   "outputs": [],
   "source": [
    "# %cd /kaggle/nfl_helmet_assignment_kaggle/\n",
    "# ! git pull"
   ]
  },
  {
   "cell_type": "code",
   "execution_count": 3,
   "id": "26e3df11",
   "metadata": {
    "execution": {
     "iopub.execute_input": "2021-09-24T10:45:42.036720Z",
     "iopub.status.busy": "2021-09-24T10:45:42.022012Z",
     "iopub.status.idle": "2021-09-24T10:45:42.822847Z",
     "shell.execute_reply": "2021-09-24T10:45:42.822187Z",
     "shell.execute_reply.started": "2021-09-18T04:50:48.89576Z"
    },
    "papermill": {
     "duration": 0.824776,
     "end_time": "2021-09-24T10:45:42.823055",
     "exception": false,
     "start_time": "2021-09-24T10:45:41.998279",
     "status": "completed"
    },
    "tags": []
   },
   "outputs": [],
   "source": [
    "# If no Github PAT nor internet\n",
    "! cp -r /kaggle/input/nfl-helmet-assignment-kaggle/nfl_helmet_assignment_kaggle /kaggle/."
   ]
  },
  {
   "cell_type": "code",
   "execution_count": 4,
   "id": "be8002dc",
   "metadata": {
    "execution": {
     "iopub.execute_input": "2021-09-24T10:45:42.853955Z",
     "iopub.status.busy": "2021-09-24T10:45:42.853199Z",
     "iopub.status.idle": "2021-09-24T10:45:42.935721Z",
     "shell.execute_reply": "2021-09-24T10:45:42.935008Z",
     "shell.execute_reply.started": "2021-09-18T04:52:17.902631Z"
    },
    "papermill": {
     "duration": 0.101588,
     "end_time": "2021-09-24T10:45:42.935906",
     "exception": false,
     "start_time": "2021-09-24T10:45:42.834318",
     "status": "completed"
    },
    "tags": []
   },
   "outputs": [],
   "source": [
    "import os, sys\n",
    "import importlib\n",
    "import random\n",
    "from multiprocessing import Pool\n",
    "import numpy as np\n",
    "import pandas as pd\n",
    "from tqdm.auto import tqdm\n",
    "\n",
    "sys.path.append('/kaggle/nfl_helmet_assignment_kaggle/')\n",
    "from helmet_tracker.utils.features import add_track_features\n",
    "from helmet_tracker.models.helmet_mapping import *"
   ]
  },
  {
   "cell_type": "code",
   "execution_count": 5,
   "id": "84980d59",
   "metadata": {
    "execution": {
     "iopub.execute_input": "2021-09-24T10:45:42.963981Z",
     "iopub.status.busy": "2021-09-24T10:45:42.963195Z",
     "iopub.status.idle": "2021-09-24T10:45:42.966711Z",
     "shell.execute_reply": "2021-09-24T10:45:42.966128Z",
     "shell.execute_reply.started": "2021-09-18T04:52:22.114453Z"
    },
    "papermill": {
     "duration": 0.019846,
     "end_time": "2021-09-24T10:45:42.966855",
     "exception": false,
     "start_time": "2021-09-24T10:45:42.947009",
     "status": "completed"
    },
    "tags": []
   },
   "outputs": [],
   "source": [
    "# import helmet_tracker\n",
    "# importlib.reload(helmet_tracker.models.helmet_mapping)"
   ]
  },
  {
   "cell_type": "markdown",
   "id": "d887b548",
   "metadata": {
    "papermill": {
     "duration": 0.010581,
     "end_time": "2021-09-24T10:45:42.988505",
     "exception": false,
     "start_time": "2021-09-24T10:45:42.977924",
     "status": "completed"
    },
    "tags": []
   },
   "source": [
    "# Setting and loading data"
   ]
  },
  {
   "cell_type": "code",
   "execution_count": 6,
   "id": "b8ea19e7",
   "metadata": {
    "execution": {
     "iopub.execute_input": "2021-09-24T10:45:43.014300Z",
     "iopub.status.busy": "2021-09-24T10:45:43.013250Z",
     "iopub.status.idle": "2021-09-24T10:45:48.013367Z",
     "shell.execute_reply": "2021-09-24T10:45:48.012589Z",
     "shell.execute_reply.started": "2021-09-18T04:52:25.363698Z"
    },
    "papermill": {
     "duration": 5.014034,
     "end_time": "2021-09-24T10:45:48.013535",
     "exception": false,
     "start_time": "2021-09-24T10:45:42.999501",
     "status": "completed"
    },
    "tags": []
   },
   "outputs": [],
   "source": [
    "debug = True\n",
    "CONF_THRE = 0.3\n",
    "BASE_DIR = '/kaggle/input/nfl-health-and-safety-helmet-assignment/'\n",
    "\n",
    "labels = pd.read_csv(f'{BASE_DIR}/train_labels.csv')\n",
    "if debug:\n",
    "    tracking = pd.read_csv(f'{BASE_DIR}/train_player_tracking.csv')\n",
    "    helmets = pd.read_csv(f'{BASE_DIR}/train_baseline_helmets.csv')\n",
    "else:\n",
    "    tracking = pd.read_csv(f'{BASE_DIR}/test_player_tracking.csv')\n",
    "    helmets = pd.read_csv(f'{BASE_DIR}/test_baseline_helmets.csv')"
   ]
  },
  {
   "cell_type": "markdown",
   "id": "7279f75f",
   "metadata": {
    "papermill": {
     "duration": 0.010869,
     "end_time": "2021-09-24T10:45:48.035774",
     "exception": false,
     "start_time": "2021-09-24T10:45:48.024905",
     "status": "completed"
    },
    "tags": []
   },
   "source": [
    "# Adding estimated video frame to tracking"
   ]
  },
  {
   "cell_type": "code",
   "execution_count": 7,
   "id": "b97c456b",
   "metadata": {
    "execution": {
     "iopub.execute_input": "2021-09-24T10:45:48.062948Z",
     "iopub.status.busy": "2021-09-24T10:45:48.061840Z",
     "iopub.status.idle": "2021-09-24T10:45:49.876424Z",
     "shell.execute_reply": "2021-09-24T10:45:49.876930Z",
     "shell.execute_reply.started": "2021-09-18T04:52:30.998964Z"
    },
    "papermill": {
     "duration": 1.830006,
     "end_time": "2021-09-24T10:45:49.877154",
     "exception": false,
     "start_time": "2021-09-24T10:45:48.047148",
     "status": "completed"
    },
    "tags": []
   },
   "outputs": [
    {
     "name": "stdout",
     "output_type": "stream",
     "text": [
      "CPU times: user 1.69 s, sys: 104 ms, total: 1.79 s\n",
      "Wall time: 1.81 s\n"
     ]
    }
   ],
   "source": [
    "%%time\n",
    "tracking = add_track_features(tracking)"
   ]
  },
  {
   "cell_type": "code",
   "execution_count": 8,
   "id": "f9b13a43",
   "metadata": {
    "execution": {
     "iopub.execute_input": "2021-09-24T10:45:49.909861Z",
     "iopub.status.busy": "2021-09-24T10:45:49.908832Z",
     "iopub.status.idle": "2021-09-24T10:45:54.739480Z",
     "shell.execute_reply": "2021-09-24T10:45:54.738901Z",
     "shell.execute_reply.started": "2021-09-18T04:52:32.675479Z"
    },
    "papermill": {
     "duration": 4.850431,
     "end_time": "2021-09-24T10:45:54.739670",
     "exception": false,
     "start_time": "2021-09-24T10:45:49.889239",
     "status": "completed"
    },
    "tags": []
   },
   "outputs": [],
   "source": [
    "if debug:\n",
    "    sample_keys = random.sample(list(tracking['gameKey'].unique()), 3)\n",
    "    helmets['gameKey'] = helmets['video_frame'].str.split('_').str[0]\n",
    "    tracking = tracking[tracking['gameKey'].isin(sample_keys)]\n",
    "    helmets = helmets[helmets['gameKey'].astype(int).isin(sample_keys)]\n",
    "    labels = labels[labels['gameKey'].astype(int).isin(sample_keys)]"
   ]
  },
  {
   "cell_type": "markdown",
   "id": "49a4115f",
   "metadata": {
    "papermill": {
     "duration": 0.01329,
     "end_time": "2021-09-24T10:45:54.764547",
     "exception": false,
     "start_time": "2021-09-24T10:45:54.751257",
     "status": "completed"
    },
    "tags": []
   },
   "source": [
    "# Mapping helmet box and tracking data"
   ]
  },
  {
   "cell_type": "code",
   "execution_count": 9,
   "id": "25c70dfc",
   "metadata": {
    "execution": {
     "iopub.execute_input": "2021-09-24T10:45:54.800197Z",
     "iopub.status.busy": "2021-09-24T10:45:54.797334Z",
     "iopub.status.idle": "2021-09-24T11:26:37.443084Z",
     "shell.execute_reply": "2021-09-24T11:26:37.442388Z"
    },
    "papermill": {
     "duration": 2442.667694,
     "end_time": "2021-09-24T11:26:37.443496",
     "exception": false,
     "start_time": "2021-09-24T10:45:54.775802",
     "status": "completed"
    },
    "tags": []
   },
   "outputs": [
    {
     "data": {
      "application/vnd.jupyter.widget-view+json": {
       "model_id": "a5ff49bdb00044298dc05605b8f2d471",
       "version_major": 2,
       "version_minor": 0
      },
      "text/plain": [
       "  0%|          | 0/2596 [00:00<?, ?it/s]"
      ]
     },
     "metadata": {},
     "output_type": "display_data"
    }
   ],
   "source": [
    "def _mapping_df(args):\n",
    "    video_frame, df, tracking, conf_thre = args\n",
    "    return mapping_df(video_frame, df, tracking, conf_thre=conf_thre)\n",
    "\n",
    "df_list = list(helmets.groupby('video_frame'))\n",
    "df_list = [(video_frame, df, tracking, CONF_THRE) for video_frame, df in df_list]\n",
    "\n",
    "p = Pool(processes=os.cpu_count())\n",
    "submission_df_list = []\n",
    "with tqdm(total=len(df_list)) as pbar:\n",
    "    for this_df in p.imap(_mapping_df, df_list):\n",
    "        submission_df_list.append(this_df)\n",
    "        pbar.update(1)\n",
    "p.close()"
   ]
  },
  {
   "cell_type": "code",
   "execution_count": 10,
   "id": "16c580ee",
   "metadata": {
    "execution": {
     "iopub.execute_input": "2021-09-24T11:26:37.484773Z",
     "iopub.status.busy": "2021-09-24T11:26:37.479608Z",
     "iopub.status.idle": "2021-09-24T11:26:38.640518Z",
     "shell.execute_reply": "2021-09-24T11:26:38.641335Z"
    },
    "papermill": {
     "duration": 1.185081,
     "end_time": "2021-09-24T11:26:38.641531",
     "exception": false,
     "start_time": "2021-09-24T11:26:37.456450",
     "status": "completed"
    },
    "tags": []
   },
   "outputs": [],
   "source": [
    "submission_df = pd.concat(submission_df_list)\n",
    "\n",
    "p = '/kaggle/working/' + ('submission_helmtrack_debug.csv' if debug else\n",
    "                          'submission_helmtrack.csv')\n",
    "submission_df.to_csv(p, index=False)"
   ]
  }
 ],
 "metadata": {
  "kernelspec": {
   "display_name": "Python 3",
   "language": "python",
   "name": "python3"
  },
  "language_info": {
   "codemirror_mode": {
    "name": "ipython",
    "version": 3
   },
   "file_extension": ".py",
   "mimetype": "text/x-python",
   "name": "python",
   "nbconvert_exporter": "python",
   "pygments_lexer": "ipython3",
   "version": "3.7.10"
  },
  "papermill": {
   "default_parameters": {},
   "duration": 2467.719066,
   "end_time": "2021-09-24T11:26:40.112222",
   "environment_variables": {},
   "exception": null,
   "input_path": "__notebook__.ipynb",
   "output_path": "__notebook__.ipynb",
   "parameters": {},
   "start_time": "2021-09-24T10:45:32.393156",
   "version": "2.3.3"
  },
  "widgets": {
   "application/vnd.jupyter.widget-state+json": {
    "state": {
     "3069ee37112546218741b11372ba2328": {
      "model_module": "@jupyter-widgets/controls",
      "model_module_version": "1.5.0",
      "model_name": "ProgressStyleModel",
      "state": {
       "_model_module": "@jupyter-widgets/controls",
       "_model_module_version": "1.5.0",
       "_model_name": "ProgressStyleModel",
       "_view_count": null,
       "_view_module": "@jupyter-widgets/base",
       "_view_module_version": "1.2.0",
       "_view_name": "StyleView",
       "bar_color": null,
       "description_width": ""
      }
     },
     "37d23d6b1d564283927c317d0df59ea3": {
      "model_module": "@jupyter-widgets/base",
      "model_module_version": "1.2.0",
      "model_name": "LayoutModel",
      "state": {
       "_model_module": "@jupyter-widgets/base",
       "_model_module_version": "1.2.0",
       "_model_name": "LayoutModel",
       "_view_count": null,
       "_view_module": "@jupyter-widgets/base",
       "_view_module_version": "1.2.0",
       "_view_name": "LayoutView",
       "align_content": null,
       "align_items": null,
       "align_self": null,
       "border": null,
       "bottom": null,
       "display": null,
       "flex": null,
       "flex_flow": null,
       "grid_area": null,
       "grid_auto_columns": null,
       "grid_auto_flow": null,
       "grid_auto_rows": null,
       "grid_column": null,
       "grid_gap": null,
       "grid_row": null,
       "grid_template_areas": null,
       "grid_template_columns": null,
       "grid_template_rows": null,
       "height": null,
       "justify_content": null,
       "justify_items": null,
       "left": null,
       "margin": null,
       "max_height": null,
       "max_width": null,
       "min_height": null,
       "min_width": null,
       "object_fit": null,
       "object_position": null,
       "order": null,
       "overflow": null,
       "overflow_x": null,
       "overflow_y": null,
       "padding": null,
       "right": null,
       "top": null,
       "visibility": null,
       "width": null
      }
     },
     "3cf5f23dbea547f8850b5c7244826679": {
      "model_module": "@jupyter-widgets/controls",
      "model_module_version": "1.5.0",
      "model_name": "HTMLModel",
      "state": {
       "_dom_classes": [],
       "_model_module": "@jupyter-widgets/controls",
       "_model_module_version": "1.5.0",
       "_model_name": "HTMLModel",
       "_view_count": null,
       "_view_module": "@jupyter-widgets/controls",
       "_view_module_version": "1.5.0",
       "_view_name": "HTMLView",
       "description": "",
       "description_tooltip": null,
       "layout": "IPY_MODEL_de17f99ff9b949528d612d6c20f5cf90",
       "placeholder": "​",
       "style": "IPY_MODEL_eb56814dbf304e9fb5cea31ed459f17b",
       "value": "100%"
      }
     },
     "84c1b1b69e9841c7a1debfe58df355fb": {
      "model_module": "@jupyter-widgets/base",
      "model_module_version": "1.2.0",
      "model_name": "LayoutModel",
      "state": {
       "_model_module": "@jupyter-widgets/base",
       "_model_module_version": "1.2.0",
       "_model_name": "LayoutModel",
       "_view_count": null,
       "_view_module": "@jupyter-widgets/base",
       "_view_module_version": "1.2.0",
       "_view_name": "LayoutView",
       "align_content": null,
       "align_items": null,
       "align_self": null,
       "border": null,
       "bottom": null,
       "display": null,
       "flex": null,
       "flex_flow": null,
       "grid_area": null,
       "grid_auto_columns": null,
       "grid_auto_flow": null,
       "grid_auto_rows": null,
       "grid_column": null,
       "grid_gap": null,
       "grid_row": null,
       "grid_template_areas": null,
       "grid_template_columns": null,
       "grid_template_rows": null,
       "height": null,
       "justify_content": null,
       "justify_items": null,
       "left": null,
       "margin": null,
       "max_height": null,
       "max_width": null,
       "min_height": null,
       "min_width": null,
       "object_fit": null,
       "object_position": null,
       "order": null,
       "overflow": null,
       "overflow_x": null,
       "overflow_y": null,
       "padding": null,
       "right": null,
       "top": null,
       "visibility": null,
       "width": null
      }
     },
     "8767c3147d7443bf8a56b2a95c37eed2": {
      "model_module": "@jupyter-widgets/controls",
      "model_module_version": "1.5.0",
      "model_name": "HTMLModel",
      "state": {
       "_dom_classes": [],
       "_model_module": "@jupyter-widgets/controls",
       "_model_module_version": "1.5.0",
       "_model_name": "HTMLModel",
       "_view_count": null,
       "_view_module": "@jupyter-widgets/controls",
       "_view_module_version": "1.5.0",
       "_view_name": "HTMLView",
       "description": "",
       "description_tooltip": null,
       "layout": "IPY_MODEL_84c1b1b69e9841c7a1debfe58df355fb",
       "placeholder": "​",
       "style": "IPY_MODEL_a3d730bb40a648bcad7448de17288de7",
       "value": " 2596/2596 [40:42&lt;00:00,  1.19s/it]"
      }
     },
     "a3d730bb40a648bcad7448de17288de7": {
      "model_module": "@jupyter-widgets/controls",
      "model_module_version": "1.5.0",
      "model_name": "DescriptionStyleModel",
      "state": {
       "_model_module": "@jupyter-widgets/controls",
       "_model_module_version": "1.5.0",
       "_model_name": "DescriptionStyleModel",
       "_view_count": null,
       "_view_module": "@jupyter-widgets/base",
       "_view_module_version": "1.2.0",
       "_view_name": "StyleView",
       "description_width": ""
      }
     },
     "a5ff49bdb00044298dc05605b8f2d471": {
      "model_module": "@jupyter-widgets/controls",
      "model_module_version": "1.5.0",
      "model_name": "HBoxModel",
      "state": {
       "_dom_classes": [],
       "_model_module": "@jupyter-widgets/controls",
       "_model_module_version": "1.5.0",
       "_model_name": "HBoxModel",
       "_view_count": null,
       "_view_module": "@jupyter-widgets/controls",
       "_view_module_version": "1.5.0",
       "_view_name": "HBoxView",
       "box_style": "",
       "children": [
        "IPY_MODEL_3cf5f23dbea547f8850b5c7244826679",
        "IPY_MODEL_a995fd84464d4718a7bafc6d9922efa7",
        "IPY_MODEL_8767c3147d7443bf8a56b2a95c37eed2"
       ],
       "layout": "IPY_MODEL_b693c80294f744d89fbc0d23e7691ce1"
      }
     },
     "a995fd84464d4718a7bafc6d9922efa7": {
      "model_module": "@jupyter-widgets/controls",
      "model_module_version": "1.5.0",
      "model_name": "FloatProgressModel",
      "state": {
       "_dom_classes": [],
       "_model_module": "@jupyter-widgets/controls",
       "_model_module_version": "1.5.0",
       "_model_name": "FloatProgressModel",
       "_view_count": null,
       "_view_module": "@jupyter-widgets/controls",
       "_view_module_version": "1.5.0",
       "_view_name": "ProgressView",
       "bar_style": "success",
       "description": "",
       "description_tooltip": null,
       "layout": "IPY_MODEL_37d23d6b1d564283927c317d0df59ea3",
       "max": 2596.0,
       "min": 0.0,
       "orientation": "horizontal",
       "style": "IPY_MODEL_3069ee37112546218741b11372ba2328",
       "value": 2596.0
      }
     },
     "b693c80294f744d89fbc0d23e7691ce1": {
      "model_module": "@jupyter-widgets/base",
      "model_module_version": "1.2.0",
      "model_name": "LayoutModel",
      "state": {
       "_model_module": "@jupyter-widgets/base",
       "_model_module_version": "1.2.0",
       "_model_name": "LayoutModel",
       "_view_count": null,
       "_view_module": "@jupyter-widgets/base",
       "_view_module_version": "1.2.0",
       "_view_name": "LayoutView",
       "align_content": null,
       "align_items": null,
       "align_self": null,
       "border": null,
       "bottom": null,
       "display": null,
       "flex": null,
       "flex_flow": null,
       "grid_area": null,
       "grid_auto_columns": null,
       "grid_auto_flow": null,
       "grid_auto_rows": null,
       "grid_column": null,
       "grid_gap": null,
       "grid_row": null,
       "grid_template_areas": null,
       "grid_template_columns": null,
       "grid_template_rows": null,
       "height": null,
       "justify_content": null,
       "justify_items": null,
       "left": null,
       "margin": null,
       "max_height": null,
       "max_width": null,
       "min_height": null,
       "min_width": null,
       "object_fit": null,
       "object_position": null,
       "order": null,
       "overflow": null,
       "overflow_x": null,
       "overflow_y": null,
       "padding": null,
       "right": null,
       "top": null,
       "visibility": null,
       "width": null
      }
     },
     "de17f99ff9b949528d612d6c20f5cf90": {
      "model_module": "@jupyter-widgets/base",
      "model_module_version": "1.2.0",
      "model_name": "LayoutModel",
      "state": {
       "_model_module": "@jupyter-widgets/base",
       "_model_module_version": "1.2.0",
       "_model_name": "LayoutModel",
       "_view_count": null,
       "_view_module": "@jupyter-widgets/base",
       "_view_module_version": "1.2.0",
       "_view_name": "LayoutView",
       "align_content": null,
       "align_items": null,
       "align_self": null,
       "border": null,
       "bottom": null,
       "display": null,
       "flex": null,
       "flex_flow": null,
       "grid_area": null,
       "grid_auto_columns": null,
       "grid_auto_flow": null,
       "grid_auto_rows": null,
       "grid_column": null,
       "grid_gap": null,
       "grid_row": null,
       "grid_template_areas": null,
       "grid_template_columns": null,
       "grid_template_rows": null,
       "height": null,
       "justify_content": null,
       "justify_items": null,
       "left": null,
       "margin": null,
       "max_height": null,
       "max_width": null,
       "min_height": null,
       "min_width": null,
       "object_fit": null,
       "object_position": null,
       "order": null,
       "overflow": null,
       "overflow_x": null,
       "overflow_y": null,
       "padding": null,
       "right": null,
       "top": null,
       "visibility": null,
       "width": null
      }
     },
     "eb56814dbf304e9fb5cea31ed459f17b": {
      "model_module": "@jupyter-widgets/controls",
      "model_module_version": "1.5.0",
      "model_name": "DescriptionStyleModel",
      "state": {
       "_model_module": "@jupyter-widgets/controls",
       "_model_module_version": "1.5.0",
       "_model_name": "DescriptionStyleModel",
       "_view_count": null,
       "_view_module": "@jupyter-widgets/base",
       "_view_module_version": "1.2.0",
       "_view_name": "StyleView",
       "description_width": ""
      }
     }
    },
    "version_major": 2,
    "version_minor": 0
   }
  }
 },
 "nbformat": 4,
 "nbformat_minor": 5
}
