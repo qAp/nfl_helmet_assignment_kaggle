{
 "cells": [
  {
   "cell_type": "markdown",
   "id": "5d693c15",
   "metadata": {
    "papermill": {
     "duration": 0.034769,
     "end_time": "2021-11-02T14:57:57.394246",
     "exception": false,
     "start_time": "2021-11-02T14:57:57.359477",
     "status": "completed"
    },
    "tags": []
   },
   "source": [
    "# Submission Notebook"
   ]
  },
  {
   "cell_type": "code",
   "execution_count": 1,
   "id": "f115123f",
   "metadata": {
    "_kg_hide-output": true,
    "execution": {
     "iopub.execute_input": "2021-11-02T14:57:57.545163Z",
     "iopub.status.busy": "2021-11-02T14:57:57.465976Z",
     "iopub.status.idle": "2021-11-02T14:59:34.775185Z",
     "shell.execute_reply": "2021-11-02T14:59:34.773846Z",
     "shell.execute_reply.started": "2021-11-01T11:01:02.603305Z"
    },
    "papermill": {
     "duration": 97.341983,
     "end_time": "2021-11-02T14:59:34.775376",
     "exception": false,
     "start_time": "2021-11-02T14:57:57.433393",
     "status": "completed"
    },
    "tags": []
   },
   "outputs": [
    {
     "name": "stdout",
     "output_type": "stream",
     "text": [
      "/kaggle\n",
      "/kaggle/DCNv2\n"
     ]
    }
   ],
   "source": [
    "%cd /kaggle\n",
    "!cp -r /kaggle/input/nfldata-dcnv2/DCNv2 /kaggle/.\n",
    "%cd /kaggle/DCNv2\n",
    "! chmod a+x *\n",
    "! ./make.sh &> /dev/null"
   ]
  },
  {
   "cell_type": "code",
   "execution_count": 2,
   "id": "0a489f1f",
   "metadata": {
    "execution": {
     "iopub.execute_input": "2021-11-02T14:59:34.816626Z",
     "iopub.status.busy": "2021-11-02T14:59:34.815498Z",
     "iopub.status.idle": "2021-11-02T15:02:00.697926Z",
     "shell.execute_reply": "2021-11-02T15:02:00.698469Z",
     "shell.execute_reply.started": "2021-11-01T11:03:04.533429Z"
    },
    "papermill": {
     "duration": 145.904505,
     "end_time": "2021-11-02T15:02:00.698799",
     "exception": false,
     "start_time": "2021-11-02T14:59:34.794294",
     "status": "completed"
    },
    "tags": []
   },
   "outputs": [],
   "source": [
    "# Install motmetrics\n",
    "! pip install -qq /kaggle/input/nfl07b-fairmot-dependencies/pre_fairmot_install/py-cpuinfo-8.0.0.tar.gz\n",
    "! pip install -qq /kaggle/input/nfl07b-fairmot-dependencies/pre_fairmot_install/xmltodict-0.12.0-py2.py3-none-any.whl\n",
    "! pip install -qq /kaggle/input/nfl07b-fairmot-dependencies/pre_fairmot_install/pytest_benchmark-3.4.1-py2.py3-none-any.whl\n",
    "! pip install -qq /kaggle/input/nfl07b-fairmot-dependencies/pre_fairmot_install/flake8_import_order-0.18.1-py2.py3-none-any.whl\n",
    "! pip install -qq /kaggle/input/nfl07b-fairmot-dependencies/pre_fairmot_install/motmetrics-1.2.0-py3-none-any.whl"
   ]
  },
  {
   "cell_type": "code",
   "execution_count": 3,
   "id": "f0dd36ad",
   "metadata": {
    "_kg_hide-output": true,
    "execution": {
     "iopub.execute_input": "2021-11-02T15:02:00.748498Z",
     "iopub.status.busy": "2021-11-02T15:02:00.747417Z",
     "iopub.status.idle": "2021-11-02T15:02:19.670794Z",
     "shell.execute_reply": "2021-11-02T15:02:19.670195Z",
     "shell.execute_reply.started": "2021-11-01T11:06:41.151678Z"
    },
    "papermill": {
     "duration": 18.952804,
     "end_time": "2021-11-02T15:02:19.671012",
     "exception": false,
     "start_time": "2021-11-02T15:02:00.718208",
     "status": "completed"
    },
    "tags": []
   },
   "outputs": [
    {
     "name": "stdout",
     "output_type": "stream",
     "text": [
      "/kaggle\n",
      "/kaggle/FairMOT\n"
     ]
    }
   ],
   "source": [
    "%cd /kaggle\n",
    "!cp -r /kaggle/input/nfldata-fairmot-package/FairMOT /kaggle/.\n",
    "%cd /kaggle/FairMOT\n",
    "! pip install -qq --no-deps --no-index --find-links=/kaggle/input/nfl07b-fairmot-dependencies/pre_fairmot_install -r requirements.txt #&> /dev/null"
   ]
  },
  {
   "cell_type": "code",
   "execution_count": 4,
   "id": "eb0aa027",
   "metadata": {
    "_kg_hide-output": true,
    "execution": {
     "iopub.execute_input": "2021-11-02T15:02:19.715516Z",
     "iopub.status.busy": "2021-11-02T15:02:19.714500Z",
     "iopub.status.idle": "2021-11-02T15:02:21.698700Z",
     "shell.execute_reply": "2021-11-02T15:02:21.697893Z",
     "shell.execute_reply.started": "2021-11-01T11:06:49.375173Z"
    },
    "papermill": {
     "duration": 2.008114,
     "end_time": "2021-11-02T15:02:21.698869",
     "exception": false,
     "start_time": "2021-11-02T15:02:19.690755",
     "status": "completed"
    },
    "tags": []
   },
   "outputs": [
    {
     "name": "stdout",
     "output_type": "stream",
     "text": [
      "Found existing installation: datasets 1.12.1\r\n",
      "Uninstalling datasets-1.12.1:\r\n",
      "  Successfully uninstalled datasets-1.12.1\r\n",
      "\u001b[33mWARNING: Running pip as the 'root' user can result in broken permissions and conflicting behaviour with the system package manager. It is recommended to use a virtual environment instead: https://pip.pypa.io/warnings/venv\u001b[0m\r\n"
     ]
    }
   ],
   "source": [
    "! pip uninstall -y datasets"
   ]
  },
  {
   "cell_type": "code",
   "execution_count": 5,
   "id": "560b2490",
   "metadata": {
    "execution": {
     "iopub.execute_input": "2021-11-02T15:02:21.747916Z",
     "iopub.status.busy": "2021-11-02T15:02:21.746830Z",
     "iopub.status.idle": "2021-11-02T15:02:22.749455Z",
     "shell.execute_reply": "2021-11-02T15:02:22.748776Z",
     "shell.execute_reply.started": "2021-11-01T11:07:05.513102Z"
    },
    "papermill": {
     "duration": 1.029201,
     "end_time": "2021-11-02T15:02:22.749593",
     "exception": false,
     "start_time": "2021-11-02T15:02:21.720392",
     "status": "completed"
    },
    "tags": []
   },
   "outputs": [],
   "source": [
    "# User\n",
    "! cp -r /kaggle/input/nfl-helmet-assignment-kaggle/nfl_helmet_assignment_kaggle /kaggle/."
   ]
  },
  {
   "cell_type": "code",
   "execution_count": 6,
   "id": "cf10d7aa",
   "metadata": {
    "execution": {
     "iopub.execute_input": "2021-11-02T15:02:22.799551Z",
     "iopub.status.busy": "2021-11-02T15:02:22.798523Z",
     "iopub.status.idle": "2021-11-02T15:02:24.956141Z",
     "shell.execute_reply": "2021-11-02T15:02:24.955584Z",
     "shell.execute_reply.started": "2021-11-01T11:07:12.494904Z"
    },
    "papermill": {
     "duration": 2.186325,
     "end_time": "2021-11-02T15:02:24.956304",
     "exception": false,
     "start_time": "2021-11-02T15:02:22.769979",
     "status": "completed"
    },
    "tags": []
   },
   "outputs": [],
   "source": [
    "import os, sys\n",
    "import subprocess\n",
    "from multiprocessing import Pool\n",
    "import random\n",
    "import numpy as np\n",
    "import pandas as pd\n",
    "import torch\n",
    "from IPython.display import display, Video\n",
    "from tqdm.auto import tqdm\n",
    "\n",
    "# FairMOT imports\n",
    "sys.path.append('/kaggle/DCNv2')\n",
    "sys.path.append('/kaggle/FairMOT/src/lib')\n",
    "from datasets.dataset.jde import LoadVideo\n",
    "\n",
    "# nfl_helmet_assignment_kaggle imports\n",
    "sys.path.append('/kaggle/input/easydict-master/easydict-master')\n",
    "sys.path.append(\n",
    "    ('/kaggle/input/yolov5-deepsort-pytorch/Yolov5_DeepSort_Pytorch-master'\n",
    "     '/Yolov5_DeepSort_Pytorch-master/deep_sort_pytorch')\n",
    ")\n",
    "sys.path.append('/kaggle/nfl_helmet_assignment_kaggle/')\n",
    "from helmet_tracker.utils.score import check_submission\n",
    "from helmet_tracker.utils.video import ffmpeg_friendly_encode\n",
    "from helmet_tracker.utils.features import add_track_features\n",
    "from helmet_tracker.models.helmet_mapping import mapping_df_2d\n",
    "from helmet_tracker.models.fairmot_postprocess import fmot_postprocess_hmap"
   ]
  },
  {
   "cell_type": "code",
   "execution_count": 7,
   "id": "ac124c25",
   "metadata": {
    "execution": {
     "iopub.execute_input": "2021-11-02T15:02:25.001550Z",
     "iopub.status.busy": "2021-11-02T15:02:25.000558Z",
     "iopub.status.idle": "2021-11-02T15:02:25.004150Z",
     "shell.execute_reply": "2021-11-02T15:02:25.003565Z",
     "shell.execute_reply.started": "2021-11-01T11:07:14.328276Z"
    },
    "papermill": {
     "duration": 0.027486,
     "end_time": "2021-11-02T15:02:25.004266",
     "exception": false,
     "start_time": "2021-11-02T15:02:24.976780",
     "status": "completed"
    },
    "tags": []
   },
   "outputs": [],
   "source": [
    "# For traindebug videos\n",
    "\n",
    "# BASE_DIR = '/kaggle/input/nfl-health-and-safety-helmet-assignment'\n",
    "\n",
    "# dir_video = os.path.join(BASE_DIR, 'train')\n",
    "# tracking = pd.read_csv(f'{BASE_DIR}/train_player_tracking.csv')\n",
    "# helmets = pd.read_csv(f'{BASE_DIR}/train_baseline_helmets.csv')\n",
    "\n",
    "# # For developing, restrict to \"traindebug\" samples\n",
    "\n",
    "# pth_ss_hmap = '/kaggle/input/nfl-mydata/submission_helmtrack_debug.csv'\n",
    "# ss_hmap = pd.read_csv(pth_ss_hmap)\n",
    "# videos = ss_hmap['video_frame'].str.split('_').str[:3].str.join('_').unique()[:2]\n",
    "\n",
    "# helmets['video'] = helmets['video_frame'].str.split('_').str[:3].str.join('_')\n",
    "# helmets = helmets[helmets['video'].isin(videos)]"
   ]
  },
  {
   "cell_type": "code",
   "execution_count": 8,
   "id": "c044809f",
   "metadata": {
    "execution": {
     "iopub.execute_input": "2021-11-02T15:02:25.052274Z",
     "iopub.status.busy": "2021-11-02T15:02:25.051572Z",
     "iopub.status.idle": "2021-11-02T15:02:25.481198Z",
     "shell.execute_reply": "2021-11-02T15:02:25.480528Z",
     "shell.execute_reply.started": "2021-11-01T11:07:14.328276Z"
    },
    "papermill": {
     "duration": 0.45744,
     "end_time": "2021-11-02T15:02:25.481375",
     "exception": false,
     "start_time": "2021-11-02T15:02:25.023935",
     "status": "completed"
    },
    "tags": []
   },
   "outputs": [],
   "source": [
    "BASE_DIR = '/kaggle/input/nfl-health-and-safety-helmet-assignment'\n",
    "\n",
    "dir_video = os.path.join(BASE_DIR, 'test')\n",
    "tracking = pd.read_csv(f'{BASE_DIR}/test_player_tracking.csv')\n",
    "helmets = pd.read_csv(f'{BASE_DIR}/test_baseline_helmets.csv')\n",
    "\n",
    "videos = [pth.split('.')[0] for pth in os.listdir(dir_video)]\n",
    "\n",
    "if len(videos) == 6:\n",
    "    videos = videos[:1]\n",
    "\n",
    "helmets['video'] = helmets['video_frame'].str.split('_').str[:3].str.join('_')\n",
    "helmets = helmets[helmets['video'].isin(videos)]"
   ]
  },
  {
   "cell_type": "code",
   "execution_count": 9,
   "id": "bb2e0efa",
   "metadata": {
    "execution": {
     "iopub.execute_input": "2021-11-02T15:02:25.530880Z",
     "iopub.status.busy": "2021-11-02T15:02:25.529976Z",
     "iopub.status.idle": "2021-11-02T15:02:25.533919Z",
     "shell.execute_reply": "2021-11-02T15:02:25.534438Z",
     "shell.execute_reply.started": "2021-11-01T11:07:22.790889Z"
    },
    "papermill": {
     "duration": 0.032082,
     "end_time": "2021-11-02T15:02:25.534576",
     "exception": false,
     "start_time": "2021-11-02T15:02:25.502494",
     "status": "completed"
    },
    "tags": []
   },
   "outputs": [
    {
     "data": {
      "text/plain": [
       "['57906_000718_Sideline']"
      ]
     },
     "execution_count": 9,
     "metadata": {},
     "output_type": "execute_result"
    }
   ],
   "source": [
    "videos"
   ]
  },
  {
   "cell_type": "markdown",
   "id": "ae5605df",
   "metadata": {
    "papermill": {
     "duration": 0.020212,
     "end_time": "2021-11-02T15:02:25.574792",
     "exception": false,
     "start_time": "2021-11-02T15:02:25.554580",
     "status": "completed"
    },
    "tags": []
   },
   "source": [
    "# Helmet mapping 2D"
   ]
  },
  {
   "cell_type": "code",
   "execution_count": 10,
   "id": "ce2ec649",
   "metadata": {
    "execution": {
     "iopub.execute_input": "2021-11-02T15:02:25.622599Z",
     "iopub.status.busy": "2021-11-02T15:02:25.621567Z",
     "iopub.status.idle": "2021-11-02T15:16:37.623693Z",
     "shell.execute_reply": "2021-11-02T15:16:37.623088Z",
     "shell.execute_reply.started": "2021-11-01T07:47:25.948612Z"
    },
    "papermill": {
     "duration": 852.02936,
     "end_time": "2021-11-02T15:16:37.623980",
     "exception": false,
     "start_time": "2021-11-02T15:02:25.594620",
     "status": "completed"
    },
    "tags": []
   },
   "outputs": [
    {
     "data": {
      "application/vnd.jupyter.widget-view+json": {
       "model_id": "01149c579c004ff390ff9efc3b179509",
       "version_major": 2,
       "version_minor": 0
      },
      "text/plain": [
       "  0%|          | 0/440 [00:00<?, ?it/s]"
      ]
     },
     "metadata": {},
     "output_type": "display_data"
    }
   ],
   "source": [
    "\n",
    "# Add estimated video frame to NGS data\n",
    "\n",
    "tracking = add_track_features(tracking) \n",
    "\n",
    "CONF_THRE = 0.3\n",
    "\n",
    "df_list = list(helmets.groupby('video_frame'))\n",
    "df_list = [(video_frame, df, tracking, CONF_THRE) for video_frame, df in df_list]\n",
    "\n",
    "def _mapping_df(args):\n",
    "    video_frame, df, tracking, conf_thre = args\n",
    "    return mapping_df_2d(video_frame, df, tracking, conf_thre=conf_thre)\n",
    "\n",
    "p = Pool(processes=os.cpu_count())\n",
    "ss_hmap = []\n",
    "with tqdm(total=len(df_list)) as pbar:\n",
    "    for this_df in p.imap(_mapping_df, df_list):\n",
    "        ss_hmap.append(this_df)\n",
    "        pbar.update(1)\n",
    "p.close()\n",
    "\n",
    "ss_hmap = pd.concat(ss_hmap)\n"
   ]
  },
  {
   "cell_type": "markdown",
   "id": "e62b0b17",
   "metadata": {
    "papermill": {
     "duration": 0.019644,
     "end_time": "2021-11-02T15:16:37.663433",
     "exception": false,
     "start_time": "2021-11-02T15:16:37.643789",
     "status": "completed"
    },
    "tags": []
   },
   "source": [
    "# FairMOT"
   ]
  },
  {
   "cell_type": "code",
   "execution_count": 11,
   "id": "9a22979f",
   "metadata": {
    "execution": {
     "iopub.execute_input": "2021-11-02T15:16:37.720956Z",
     "iopub.status.busy": "2021-11-02T15:16:37.720294Z",
     "iopub.status.idle": "2021-11-02T15:18:42.418254Z",
     "shell.execute_reply": "2021-11-02T15:18:42.413170Z",
     "shell.execute_reply.started": "2021-11-01T12:41:52.06082Z"
    },
    "papermill": {
     "duration": 124.735603,
     "end_time": "2021-11-02T15:18:42.418805",
     "exception": false,
     "start_time": "2021-11-02T15:16:37.683202",
     "status": "completed"
    },
    "tags": []
   },
   "outputs": [
    {
     "data": {
      "application/vnd.jupyter.widget-view+json": {
       "model_id": "6769271e6f134138b3b89123bf550c54",
       "version_major": 2,
       "version_minor": 0
      },
      "text/plain": [
       "  0%|          | 0/1 [00:00<?, ?it/s]"
      ]
     },
     "metadata": {},
     "output_type": "display_data"
    },
    {
     "name": "stdout",
     "output_type": "stream",
     "text": [
      "/kaggle/FairMOT/src\n",
      "Fix size testing.\r\n",
      "training chunk_sizes: [6, 6]\r\n",
      "The output will be saved to  /kaggle/FairMOT/src/lib/../../exp/mot/default\r\n",
      "heads {'hm': 1, 'wh': 4, 'id': 128, 'reg': 2}\r\n",
      "2021-11-02 15:16:43 [INFO]: Starting tracking...\r\n",
      "Lenth of the video: 440 frames\r\n",
      "Creating model...\r\n",
      "loaded /kaggle/input/nfldata-fairmot/exp/mot/nfl_ft_mix_dla34/model_last.pth, epoch 16\r\n",
      "2021-11-02 15:16:52 [INFO]: Processing frame 0 (100000.00 fps)\r\n",
      "2021-11-02 15:16:56 [INFO]: Processing frame 20 (11.98 fps)\r\n",
      "2021-11-02 15:17:00 [INFO]: Processing frame 40 (12.48 fps)\r\n",
      "2021-11-02 15:17:05 [INFO]: Processing frame 60 (12.00 fps)\r\n",
      "2021-11-02 15:17:09 [INFO]: Processing frame 80 (12.10 fps)\r\n",
      "2021-11-02 15:17:14 [INFO]: Processing frame 100 (12.11 fps)\r\n",
      "2021-11-02 15:17:18 [INFO]: Processing frame 120 (11.95 fps)\r\n",
      "2021-11-02 15:17:22 [INFO]: Processing frame 140 (11.90 fps)\r\n",
      "2021-11-02 15:17:27 [INFO]: Processing frame 160 (11.70 fps)\r\n",
      "2021-11-02 15:17:31 [INFO]: Processing frame 180 (11.64 fps)\r\n",
      "2021-11-02 15:17:36 [INFO]: Processing frame 200 (11.55 fps)\r\n",
      "2021-11-02 15:17:41 [INFO]: Processing frame 220 (11.26 fps)\r\n",
      "2021-11-02 15:17:45 [INFO]: Processing frame 240 (11.18 fps)\r\n",
      "2021-11-02 15:17:50 [INFO]: Processing frame 260 (11.05 fps)\r\n",
      "2021-11-02 15:17:54 [INFO]: Processing frame 280 (11.01 fps)\r\n",
      "2021-11-02 15:17:59 [INFO]: Processing frame 300 (10.96 fps)\r\n",
      "2021-11-02 15:18:04 [INFO]: Processing frame 320 (10.95 fps)\r\n",
      "2021-11-02 15:18:08 [INFO]: Processing frame 340 (10.94 fps)\r\n",
      "2021-11-02 15:18:13 [INFO]: Processing frame 360 (10.85 fps)\r\n",
      "2021-11-02 15:18:17 [INFO]: Processing frame 380 (10.90 fps)\r\n",
      "2021-11-02 15:18:22 [INFO]: Processing frame 400 (10.92 fps)\r\n",
      "2021-11-02 15:18:26 [INFO]: Processing frame 420 (10.99 fps)\r\n",
      "2021-11-02 15:18:30 [INFO]: save results to /kaggle/FairMOT/demo/57906_000718_Sideline/results.txt\r\n",
      "ffmpeg version 9c33b2f Copyright (c) 2000-2021 the FFmpeg developers\r\n",
      "  built with gcc 9.3.0 (crosstool-NG 1.24.0.133_b0863d8_dirty)\r\n",
      "  configuration: --prefix=/opt/conda --cc=/home/conda/feedstock_root/build_artifacts/ffmpeg_1627813612080/_build_env/bin/x86_64-conda-linux-gnu-cc --disable-doc --disable-openssl --enable-avresample --enable-gnutls --enable-gpl --enable-hardcoded-tables --enable-libfreetype --enable-libopenh264 --enable-libx264 --enable-pic --enable-pthreads --enable-shared --enable-static --enable-version3 --enable-zlib --enable-libmp3lame --pkg-config=/home/conda/feedstock_root/build_artifacts/ffmpeg_1627813612080/_build_env/bin/pkg-config\r\n",
      "  libavutil      56. 51.100 / 56. 51.100\r\n",
      "  libavcodec     58. 91.100 / 58. 91.100\r\n",
      "  libavformat    58. 45.100 / 58. 45.100\r\n",
      "  libavdevice    58. 10.100 / 58. 10.100\r\n",
      "  libavfilter     7. 85.100 /  7. 85.100\r\n",
      "  libavresample   4.  0.  0 /  4.  0.  0\r\n",
      "  libswscale      5.  7.100 /  5.  7.100\r\n",
      "  libswresample   3.  7.100 /  3.  7.100\r\n",
      "  libpostproc    55.  7.100 / 55.  7.100\r\n",
      "Input #0, image2, from '/kaggle/FairMOT/demo/57906_000718_Sideline/frame/%05d.jpg':\r\n",
      "  Duration: 00:00:17.60, start: 0.000000, bitrate: N/A\r\n",
      "    Stream #0:0: Video: mjpeg (Baseline), yuvj420p(pc, bt470bg/unknown/unknown), 1920x1080 [SAR 1:1 DAR 16:9], 25 fps, 25 tbr, 25 tbn, 25 tbc\r\n",
      "\u001b[0;33mPlease use -b:a or -b:v, -b is ambiguous\r\n",
      "\u001b[0mStream mapping:\r\n",
      "  Stream #0:0 -> #0:0 (mjpeg (native) -> mpeg4 (native))\r\n",
      "Press [q] to stop, [?] for help\r\n",
      "\u001b[1;34m[swscaler @ 0x564b2b35e8c0] \u001b[0m\u001b[0;33mdeprecated pixel format used, make sure you did set range correctly\r\n",
      "\u001b[0mOutput #0, mp4, to '/kaggle/FairMOT/demo/57906_000718_Sideline/MOT16-03-results.mp4':\r\n",
      "  Metadata:\r\n",
      "    encoder         : Lavf58.45.100\r\n",
      "    Stream #0:0: Video: mpeg4 (mp4v / 0x7634706D), yuv420p, 1920x1080 [SAR 1:1 DAR 16:9], q=2-31, 5000 kb/s, 25 fps, 12800 tbn, 25 tbc\r\n",
      "    Metadata:\r\n",
      "      encoder         : Lavc58.91.100 mpeg4\r\n",
      "    Side data:\r\n",
      "      cpb: bitrate max/min/avg: 0/0/5000000 buffer size: 0 vbv_delay: N/A\r\n",
      "frame=  440 fps= 40 q=9.3 Lsize=   10889kB time=00:00:17.56 bitrate=5080.1kbits/s speed=1.59x    \r\n",
      "video:10887kB audio:0kB subtitle:0kB other streams:0kB global headers:0kB muxing overhead: 0.026166%\r\n"
     ]
    }
   ],
   "source": [
    "! mkdir -p /root/.cache/torch/hub/checkpoints/\n",
    "!cp /kaggle/input/models-fairmot/dla34-ba72cf86.pth /root/.cache/torch/hub/checkpoints/.\n",
    "\n",
    "load_model = '/kaggle/input/nfldata-fairmot/exp/mot/nfl_ft_mix_dla34/model_last.pth'\n",
    "conf_thres = 0.3\n",
    "\n",
    "dir_demo = '/kaggle/FairMOT/demo'\n",
    "\n",
    "for video in tqdm(videos, total=len(videos)):\n",
    "    \n",
    "    input_video = os.path.join(dir_video, f'{video}.mp4')\n",
    "    output_root = os.path.join(dir_demo, video)\n",
    "\n",
    "    ! mkdir -p {output_root}\n",
    "    %cd /kaggle/FairMOT/src\n",
    "    ! python demo.py mot --load_model {load_model} --conf_thres {conf_thres} --input-video {input_video} --output-root {output_root}\n",
    "\n",
    "\n",
    "    "
   ]
  },
  {
   "cell_type": "markdown",
   "id": "cf2d5721",
   "metadata": {
    "papermill": {
     "duration": 0.065747,
     "end_time": "2021-11-02T15:18:42.578399",
     "exception": false,
     "start_time": "2021-11-02T15:18:42.512652",
     "status": "completed"
    },
    "tags": []
   },
   "source": [
    "# Post-process helmet mapping with FairMOT"
   ]
  },
  {
   "cell_type": "code",
   "execution_count": 12,
   "id": "1ab254de",
   "metadata": {
    "execution": {
     "iopub.execute_input": "2021-11-02T15:18:42.724492Z",
     "iopub.status.busy": "2021-11-02T15:18:42.711749Z",
     "iopub.status.idle": "2021-11-02T15:18:42.766526Z",
     "shell.execute_reply": "2021-11-02T15:18:42.765608Z",
     "shell.execute_reply.started": "2021-11-01T11:29:56.606908Z"
    },
    "papermill": {
     "duration": 0.124565,
     "end_time": "2021-11-02T15:18:42.766755",
     "exception": false,
     "start_time": "2021-11-02T15:18:42.642190",
     "status": "completed"
    },
    "tags": []
   },
   "outputs": [],
   "source": [
    "video_frame = ss_hmap['video_frame'].str.split('_')\n",
    "ss_hmap['video'] = video_frame.str[:3].str.join('_')\n",
    "ss_hmap['frame'] = video_frame.str[3].astype(int)"
   ]
  },
  {
   "cell_type": "code",
   "execution_count": 13,
   "id": "409dc445",
   "metadata": {
    "execution": {
     "iopub.execute_input": "2021-11-02T15:18:42.912990Z",
     "iopub.status.busy": "2021-11-02T15:18:42.910842Z",
     "iopub.status.idle": "2021-11-02T15:18:48.433442Z",
     "shell.execute_reply": "2021-11-02T15:18:48.434189Z",
     "shell.execute_reply.started": "2021-11-01T11:30:39.580135Z"
    },
    "papermill": {
     "duration": 5.600932,
     "end_time": "2021-11-02T15:18:48.434449",
     "exception": false,
     "start_time": "2021-11-02T15:18:42.833517",
     "status": "completed"
    },
    "tags": []
   },
   "outputs": [
    {
     "data": {
      "application/vnd.jupyter.widget-view+json": {
       "model_id": "0f7ea457c7e9406b8c0419abe6eaa10b",
       "version_major": 2,
       "version_minor": 0
      },
      "text/plain": [
       "  0%|          | 0/1 [00:00<?, ?it/s]"
      ]
     },
     "metadata": {},
     "output_type": "display_data"
    },
    {
     "name": "stdout",
     "output_type": "stream",
     "text": [
      "CPU times: user 5.42 s, sys: 31.5 ms, total: 5.45 s\n",
      "Wall time: 5.52 s\n"
     ]
    }
   ],
   "source": [
    "%%time\n",
    "\n",
    "outs = []\n",
    "for video in tqdm(videos, total=len(videos)):\n",
    "    \n",
    "    df_hmap = ss_hmap.query('video==@video')\n",
    "\n",
    "    pth_fmot = os.path.join(dir_demo, video, 'results.txt')\n",
    "    pth_video = os.path.join(dir_video, video + '.mp4')\n",
    "\n",
    "    df_tracks = fmot_postprocess_hmap(df_hmap, pth_fmot, pth_video)\n",
    "    \n",
    "    outs.append(df_tracks)\n",
    "    \n",
    "ss_fmot = pd.concat(outs, axis=0)"
   ]
  },
  {
   "cell_type": "code",
   "execution_count": 14,
   "id": "4c4c8263",
   "metadata": {
    "execution": {
     "iopub.execute_input": "2021-11-02T15:18:48.517646Z",
     "iopub.status.busy": "2021-11-02T15:18:48.516679Z",
     "iopub.status.idle": "2021-11-02T15:18:48.540392Z",
     "shell.execute_reply": "2021-11-02T15:18:48.540951Z",
     "shell.execute_reply.started": "2021-11-01T11:30:47.029964Z"
    },
    "papermill": {
     "duration": 0.068138,
     "end_time": "2021-11-02T15:18:48.541111",
     "exception": false,
     "start_time": "2021-11-02T15:18:48.472973",
     "status": "completed"
    },
    "tags": []
   },
   "outputs": [],
   "source": [
    "assert ss_fmot['label_fairmot'].isna().sum() == 0\n",
    "\n",
    "ss_fmot.drop('label', axis=1, inplace=True)\n",
    "ss_fmot.rename(columns={'label_fairmot': 'label'}, inplace=True)\n",
    "\n",
    "columns = pd.read_csv(\n",
    "    '/kaggle/input/nfl-health-and-safety-helmet-assignment/sample_submission.csv').columns.values\n",
    "ss_fmot = ss_fmot[columns]"
   ]
  },
  {
   "cell_type": "markdown",
   "id": "37fa5403",
   "metadata": {
    "papermill": {
     "duration": 0.038431,
     "end_time": "2021-11-02T15:18:48.617115",
     "exception": false,
     "start_time": "2021-11-02T15:18:48.578684",
     "status": "completed"
    },
    "tags": []
   },
   "source": [
    "# Check submission and save to disk"
   ]
  },
  {
   "cell_type": "code",
   "execution_count": 15,
   "id": "6815f58f",
   "metadata": {
    "execution": {
     "iopub.execute_input": "2021-11-02T15:18:48.696223Z",
     "iopub.status.busy": "2021-11-02T15:18:48.695601Z",
     "iopub.status.idle": "2021-11-02T15:18:48.711614Z",
     "shell.execute_reply": "2021-11-02T15:18:48.712093Z",
     "shell.execute_reply.started": "2021-11-01T11:30:52.040635Z"
    },
    "papermill": {
     "duration": 0.057308,
     "end_time": "2021-11-02T15:18:48.712275",
     "exception": false,
     "start_time": "2021-11-02T15:18:48.654967",
     "status": "completed"
    },
    "tags": []
   },
   "outputs": [
    {
     "data": {
      "text/plain": [
       "True"
      ]
     },
     "execution_count": 15,
     "metadata": {},
     "output_type": "execute_result"
    }
   ],
   "source": [
    "check_submission(ss_fmot)"
   ]
  },
  {
   "cell_type": "code",
   "execution_count": 16,
   "id": "f83285d1",
   "metadata": {
    "execution": {
     "iopub.execute_input": "2021-11-02T15:18:48.790417Z",
     "iopub.status.busy": "2021-11-02T15:18:48.789333Z",
     "iopub.status.idle": "2021-11-02T15:18:48.820795Z",
     "shell.execute_reply": "2021-11-02T15:18:48.820262Z",
     "shell.execute_reply.started": "2021-11-01T11:30:54.519041Z"
    },
    "papermill": {
     "duration": 0.07178,
     "end_time": "2021-11-02T15:18:48.820910",
     "exception": false,
     "start_time": "2021-11-02T15:18:48.749130",
     "status": "completed"
    },
    "tags": []
   },
   "outputs": [],
   "source": [
    "ss_fmot.to_csv('/kaggle/working/submission.csv', index=False)"
   ]
  },
  {
   "cell_type": "code",
   "execution_count": null,
   "id": "244b70fd",
   "metadata": {
    "papermill": {
     "duration": 0.038517,
     "end_time": "2021-11-02T15:18:48.896942",
     "exception": false,
     "start_time": "2021-11-02T15:18:48.858425",
     "status": "completed"
    },
    "tags": []
   },
   "outputs": [],
   "source": []
  }
 ],
 "metadata": {
  "kernelspec": {
   "display_name": "Python 3",
   "language": "python",
   "name": "python3"
  },
  "language_info": {
   "codemirror_mode": {
    "name": "ipython",
    "version": 3
   },
   "file_extension": ".py",
   "mimetype": "text/x-python",
   "name": "python",
   "nbconvert_exporter": "python",
   "pygments_lexer": "ipython3",
   "version": "3.7.10"
  },
  "papermill": {
   "default_parameters": {},
   "duration": 1260.120149,
   "end_time": "2021-11-02T15:18:49.644379",
   "environment_variables": {},
   "exception": null,
   "input_path": "__notebook__.ipynb",
   "output_path": "__notebook__.ipynb",
   "parameters": {},
   "start_time": "2021-11-02T14:57:49.524230",
   "version": "2.3.3"
  },
  "widgets": {
   "application/vnd.jupyter.widget-state+json": {
    "state": {
     "01149c579c004ff390ff9efc3b179509": {
      "model_module": "@jupyter-widgets/controls",
      "model_module_version": "1.5.0",
      "model_name": "HBoxModel",
      "state": {
       "_dom_classes": [],
       "_model_module": "@jupyter-widgets/controls",
       "_model_module_version": "1.5.0",
       "_model_name": "HBoxModel",
       "_view_count": null,
       "_view_module": "@jupyter-widgets/controls",
       "_view_module_version": "1.5.0",
       "_view_name": "HBoxView",
       "box_style": "",
       "children": [
        "IPY_MODEL_71764e6601164834b5798c42ed19171d",
        "IPY_MODEL_4462a948daea415bbf3e8c9e13394f04",
        "IPY_MODEL_a400d133aedd4ea68697c5601e0f6cd2"
       ],
       "layout": "IPY_MODEL_aa7c5b3d050641428419a9125522ae67"
      }
     },
     "03836b73263d4010a470a1332a9c8e52": {
      "model_module": "@jupyter-widgets/base",
      "model_module_version": "1.2.0",
      "model_name": "LayoutModel",
      "state": {
       "_model_module": "@jupyter-widgets/base",
       "_model_module_version": "1.2.0",
       "_model_name": "LayoutModel",
       "_view_count": null,
       "_view_module": "@jupyter-widgets/base",
       "_view_module_version": "1.2.0",
       "_view_name": "LayoutView",
       "align_content": null,
       "align_items": null,
       "align_self": null,
       "border": null,
       "bottom": null,
       "display": null,
       "flex": null,
       "flex_flow": null,
       "grid_area": null,
       "grid_auto_columns": null,
       "grid_auto_flow": null,
       "grid_auto_rows": null,
       "grid_column": null,
       "grid_gap": null,
       "grid_row": null,
       "grid_template_areas": null,
       "grid_template_columns": null,
       "grid_template_rows": null,
       "height": null,
       "justify_content": null,
       "justify_items": null,
       "left": null,
       "margin": null,
       "max_height": null,
       "max_width": null,
       "min_height": null,
       "min_width": null,
       "object_fit": null,
       "object_position": null,
       "order": null,
       "overflow": null,
       "overflow_x": null,
       "overflow_y": null,
       "padding": null,
       "right": null,
       "top": null,
       "visibility": null,
       "width": null
      }
     },
     "097bb092889049b5bd361c0ba9d57f97": {
      "model_module": "@jupyter-widgets/controls",
      "model_module_version": "1.5.0",
      "model_name": "ProgressStyleModel",
      "state": {
       "_model_module": "@jupyter-widgets/controls",
       "_model_module_version": "1.5.0",
       "_model_name": "ProgressStyleModel",
       "_view_count": null,
       "_view_module": "@jupyter-widgets/base",
       "_view_module_version": "1.2.0",
       "_view_name": "StyleView",
       "bar_color": null,
       "description_width": ""
      }
     },
     "0f7ea457c7e9406b8c0419abe6eaa10b": {
      "model_module": "@jupyter-widgets/controls",
      "model_module_version": "1.5.0",
      "model_name": "HBoxModel",
      "state": {
       "_dom_classes": [],
       "_model_module": "@jupyter-widgets/controls",
       "_model_module_version": "1.5.0",
       "_model_name": "HBoxModel",
       "_view_count": null,
       "_view_module": "@jupyter-widgets/controls",
       "_view_module_version": "1.5.0",
       "_view_name": "HBoxView",
       "box_style": "",
       "children": [
        "IPY_MODEL_0faf2a05603341288c4db9c0e8b755b2",
        "IPY_MODEL_7a43d9b9d15046db8b2031fc4a1c2a0e",
        "IPY_MODEL_870604b326a14d58b41416fa81a99a2f"
       ],
       "layout": "IPY_MODEL_34d0364b329d4e70b4824953d92188e4"
      }
     },
     "0faf2a05603341288c4db9c0e8b755b2": {
      "model_module": "@jupyter-widgets/controls",
      "model_module_version": "1.5.0",
      "model_name": "HTMLModel",
      "state": {
       "_dom_classes": [],
       "_model_module": "@jupyter-widgets/controls",
       "_model_module_version": "1.5.0",
       "_model_name": "HTMLModel",
       "_view_count": null,
       "_view_module": "@jupyter-widgets/controls",
       "_view_module_version": "1.5.0",
       "_view_name": "HTMLView",
       "description": "",
       "description_tooltip": null,
       "layout": "IPY_MODEL_c2206c4161fc40ef9f8d4448051f1e20",
       "placeholder": "​",
       "style": "IPY_MODEL_9c725ab2e9604af69069d3ec3390f585",
       "value": "100%"
      }
     },
     "161e306d36f341d2b65733aa0f7f1150": {
      "model_module": "@jupyter-widgets/base",
      "model_module_version": "1.2.0",
      "model_name": "LayoutModel",
      "state": {
       "_model_module": "@jupyter-widgets/base",
       "_model_module_version": "1.2.0",
       "_model_name": "LayoutModel",
       "_view_count": null,
       "_view_module": "@jupyter-widgets/base",
       "_view_module_version": "1.2.0",
       "_view_name": "LayoutView",
       "align_content": null,
       "align_items": null,
       "align_self": null,
       "border": null,
       "bottom": null,
       "display": null,
       "flex": null,
       "flex_flow": null,
       "grid_area": null,
       "grid_auto_columns": null,
       "grid_auto_flow": null,
       "grid_auto_rows": null,
       "grid_column": null,
       "grid_gap": null,
       "grid_row": null,
       "grid_template_areas": null,
       "grid_template_columns": null,
       "grid_template_rows": null,
       "height": null,
       "justify_content": null,
       "justify_items": null,
       "left": null,
       "margin": null,
       "max_height": null,
       "max_width": null,
       "min_height": null,
       "min_width": null,
       "object_fit": null,
       "object_position": null,
       "order": null,
       "overflow": null,
       "overflow_x": null,
       "overflow_y": null,
       "padding": null,
       "right": null,
       "top": null,
       "visibility": null,
       "width": null
      }
     },
     "34d0364b329d4e70b4824953d92188e4": {
      "model_module": "@jupyter-widgets/base",
      "model_module_version": "1.2.0",
      "model_name": "LayoutModel",
      "state": {
       "_model_module": "@jupyter-widgets/base",
       "_model_module_version": "1.2.0",
       "_model_name": "LayoutModel",
       "_view_count": null,
       "_view_module": "@jupyter-widgets/base",
       "_view_module_version": "1.2.0",
       "_view_name": "LayoutView",
       "align_content": null,
       "align_items": null,
       "align_self": null,
       "border": null,
       "bottom": null,
       "display": null,
       "flex": null,
       "flex_flow": null,
       "grid_area": null,
       "grid_auto_columns": null,
       "grid_auto_flow": null,
       "grid_auto_rows": null,
       "grid_column": null,
       "grid_gap": null,
       "grid_row": null,
       "grid_template_areas": null,
       "grid_template_columns": null,
       "grid_template_rows": null,
       "height": null,
       "justify_content": null,
       "justify_items": null,
       "left": null,
       "margin": null,
       "max_height": null,
       "max_width": null,
       "min_height": null,
       "min_width": null,
       "object_fit": null,
       "object_position": null,
       "order": null,
       "overflow": null,
       "overflow_x": null,
       "overflow_y": null,
       "padding": null,
       "right": null,
       "top": null,
       "visibility": null,
       "width": null
      }
     },
     "37e482ba6bee40288c94cc7c11d4d5a1": {
      "model_module": "@jupyter-widgets/base",
      "model_module_version": "1.2.0",
      "model_name": "LayoutModel",
      "state": {
       "_model_module": "@jupyter-widgets/base",
       "_model_module_version": "1.2.0",
       "_model_name": "LayoutModel",
       "_view_count": null,
       "_view_module": "@jupyter-widgets/base",
       "_view_module_version": "1.2.0",
       "_view_name": "LayoutView",
       "align_content": null,
       "align_items": null,
       "align_self": null,
       "border": null,
       "bottom": null,
       "display": null,
       "flex": null,
       "flex_flow": null,
       "grid_area": null,
       "grid_auto_columns": null,
       "grid_auto_flow": null,
       "grid_auto_rows": null,
       "grid_column": null,
       "grid_gap": null,
       "grid_row": null,
       "grid_template_areas": null,
       "grid_template_columns": null,
       "grid_template_rows": null,
       "height": null,
       "justify_content": null,
       "justify_items": null,
       "left": null,
       "margin": null,
       "max_height": null,
       "max_width": null,
       "min_height": null,
       "min_width": null,
       "object_fit": null,
       "object_position": null,
       "order": null,
       "overflow": null,
       "overflow_x": null,
       "overflow_y": null,
       "padding": null,
       "right": null,
       "top": null,
       "visibility": null,
       "width": null
      }
     },
     "4462a948daea415bbf3e8c9e13394f04": {
      "model_module": "@jupyter-widgets/controls",
      "model_module_version": "1.5.0",
      "model_name": "FloatProgressModel",
      "state": {
       "_dom_classes": [],
       "_model_module": "@jupyter-widgets/controls",
       "_model_module_version": "1.5.0",
       "_model_name": "FloatProgressModel",
       "_view_count": null,
       "_view_module": "@jupyter-widgets/controls",
       "_view_module_version": "1.5.0",
       "_view_name": "ProgressView",
       "bar_style": "success",
       "description": "",
       "description_tooltip": null,
       "layout": "IPY_MODEL_e7b279c7b9834d8792fbfffdb5d59c87",
       "max": 440.0,
       "min": 0.0,
       "orientation": "horizontal",
       "style": "IPY_MODEL_d4cd3a668a844d8d9e41d65a2a000be9",
       "value": 440.0
      }
     },
     "447940a79b27468084cb9e8e9df3577a": {
      "model_module": "@jupyter-widgets/base",
      "model_module_version": "1.2.0",
      "model_name": "LayoutModel",
      "state": {
       "_model_module": "@jupyter-widgets/base",
       "_model_module_version": "1.2.0",
       "_model_name": "LayoutModel",
       "_view_count": null,
       "_view_module": "@jupyter-widgets/base",
       "_view_module_version": "1.2.0",
       "_view_name": "LayoutView",
       "align_content": null,
       "align_items": null,
       "align_self": null,
       "border": null,
       "bottom": null,
       "display": null,
       "flex": null,
       "flex_flow": null,
       "grid_area": null,
       "grid_auto_columns": null,
       "grid_auto_flow": null,
       "grid_auto_rows": null,
       "grid_column": null,
       "grid_gap": null,
       "grid_row": null,
       "grid_template_areas": null,
       "grid_template_columns": null,
       "grid_template_rows": null,
       "height": null,
       "justify_content": null,
       "justify_items": null,
       "left": null,
       "margin": null,
       "max_height": null,
       "max_width": null,
       "min_height": null,
       "min_width": null,
       "object_fit": null,
       "object_position": null,
       "order": null,
       "overflow": null,
       "overflow_x": null,
       "overflow_y": null,
       "padding": null,
       "right": null,
       "top": null,
       "visibility": null,
       "width": null
      }
     },
     "5a612fa1d18e4e33a6ed42f7b7e3a85b": {
      "model_module": "@jupyter-widgets/controls",
      "model_module_version": "1.5.0",
      "model_name": "DescriptionStyleModel",
      "state": {
       "_model_module": "@jupyter-widgets/controls",
       "_model_module_version": "1.5.0",
       "_model_name": "DescriptionStyleModel",
       "_view_count": null,
       "_view_module": "@jupyter-widgets/base",
       "_view_module_version": "1.2.0",
       "_view_name": "StyleView",
       "description_width": ""
      }
     },
     "6769271e6f134138b3b89123bf550c54": {
      "model_module": "@jupyter-widgets/controls",
      "model_module_version": "1.5.0",
      "model_name": "HBoxModel",
      "state": {
       "_dom_classes": [],
       "_model_module": "@jupyter-widgets/controls",
       "_model_module_version": "1.5.0",
       "_model_name": "HBoxModel",
       "_view_count": null,
       "_view_module": "@jupyter-widgets/controls",
       "_view_module_version": "1.5.0",
       "_view_name": "HBoxView",
       "box_style": "",
       "children": [
        "IPY_MODEL_6aa4b9658df94eae82457f0e5805c35c",
        "IPY_MODEL_c98b223bd4974523b5974f987aa7774c",
        "IPY_MODEL_ac5dae9acd6748519d3a54f1118e7438"
       ],
       "layout": "IPY_MODEL_447940a79b27468084cb9e8e9df3577a"
      }
     },
     "6aa4b9658df94eae82457f0e5805c35c": {
      "model_module": "@jupyter-widgets/controls",
      "model_module_version": "1.5.0",
      "model_name": "HTMLModel",
      "state": {
       "_dom_classes": [],
       "_model_module": "@jupyter-widgets/controls",
       "_model_module_version": "1.5.0",
       "_model_name": "HTMLModel",
       "_view_count": null,
       "_view_module": "@jupyter-widgets/controls",
       "_view_module_version": "1.5.0",
       "_view_name": "HTMLView",
       "description": "",
       "description_tooltip": null,
       "layout": "IPY_MODEL_84f01e1f21384b10b60d3b3c52f99dae",
       "placeholder": "​",
       "style": "IPY_MODEL_a9d9af533e3a463b9ec8f765c3af1df2",
       "value": "100%"
      }
     },
     "71764e6601164834b5798c42ed19171d": {
      "model_module": "@jupyter-widgets/controls",
      "model_module_version": "1.5.0",
      "model_name": "HTMLModel",
      "state": {
       "_dom_classes": [],
       "_model_module": "@jupyter-widgets/controls",
       "_model_module_version": "1.5.0",
       "_model_name": "HTMLModel",
       "_view_count": null,
       "_view_module": "@jupyter-widgets/controls",
       "_view_module_version": "1.5.0",
       "_view_name": "HTMLView",
       "description": "",
       "description_tooltip": null,
       "layout": "IPY_MODEL_161e306d36f341d2b65733aa0f7f1150",
       "placeholder": "​",
       "style": "IPY_MODEL_f3d22a84828e4f9489aa62a4451c182f",
       "value": "100%"
      }
     },
     "7a43d9b9d15046db8b2031fc4a1c2a0e": {
      "model_module": "@jupyter-widgets/controls",
      "model_module_version": "1.5.0",
      "model_name": "FloatProgressModel",
      "state": {
       "_dom_classes": [],
       "_model_module": "@jupyter-widgets/controls",
       "_model_module_version": "1.5.0",
       "_model_name": "FloatProgressModel",
       "_view_count": null,
       "_view_module": "@jupyter-widgets/controls",
       "_view_module_version": "1.5.0",
       "_view_name": "ProgressView",
       "bar_style": "success",
       "description": "",
       "description_tooltip": null,
       "layout": "IPY_MODEL_c2bd7d1c7df14179930c2a81806e8c71",
       "max": 1.0,
       "min": 0.0,
       "orientation": "horizontal",
       "style": "IPY_MODEL_097bb092889049b5bd361c0ba9d57f97",
       "value": 1.0
      }
     },
     "84f01e1f21384b10b60d3b3c52f99dae": {
      "model_module": "@jupyter-widgets/base",
      "model_module_version": "1.2.0",
      "model_name": "LayoutModel",
      "state": {
       "_model_module": "@jupyter-widgets/base",
       "_model_module_version": "1.2.0",
       "_model_name": "LayoutModel",
       "_view_count": null,
       "_view_module": "@jupyter-widgets/base",
       "_view_module_version": "1.2.0",
       "_view_name": "LayoutView",
       "align_content": null,
       "align_items": null,
       "align_self": null,
       "border": null,
       "bottom": null,
       "display": null,
       "flex": null,
       "flex_flow": null,
       "grid_area": null,
       "grid_auto_columns": null,
       "grid_auto_flow": null,
       "grid_auto_rows": null,
       "grid_column": null,
       "grid_gap": null,
       "grid_row": null,
       "grid_template_areas": null,
       "grid_template_columns": null,
       "grid_template_rows": null,
       "height": null,
       "justify_content": null,
       "justify_items": null,
       "left": null,
       "margin": null,
       "max_height": null,
       "max_width": null,
       "min_height": null,
       "min_width": null,
       "object_fit": null,
       "object_position": null,
       "order": null,
       "overflow": null,
       "overflow_x": null,
       "overflow_y": null,
       "padding": null,
       "right": null,
       "top": null,
       "visibility": null,
       "width": null
      }
     },
     "870604b326a14d58b41416fa81a99a2f": {
      "model_module": "@jupyter-widgets/controls",
      "model_module_version": "1.5.0",
      "model_name": "HTMLModel",
      "state": {
       "_dom_classes": [],
       "_model_module": "@jupyter-widgets/controls",
       "_model_module_version": "1.5.0",
       "_model_name": "HTMLModel",
       "_view_count": null,
       "_view_module": "@jupyter-widgets/controls",
       "_view_module_version": "1.5.0",
       "_view_name": "HTMLView",
       "description": "",
       "description_tooltip": null,
       "layout": "IPY_MODEL_9ebfdd9e620a475c9659447afb84281e",
       "placeholder": "​",
       "style": "IPY_MODEL_a4d9db229a334c6584585d88bd9b2be7",
       "value": " 1/1 [00:05&lt;00:00,  5.52s/it]"
      }
     },
     "9c725ab2e9604af69069d3ec3390f585": {
      "model_module": "@jupyter-widgets/controls",
      "model_module_version": "1.5.0",
      "model_name": "DescriptionStyleModel",
      "state": {
       "_model_module": "@jupyter-widgets/controls",
       "_model_module_version": "1.5.0",
       "_model_name": "DescriptionStyleModel",
       "_view_count": null,
       "_view_module": "@jupyter-widgets/base",
       "_view_module_version": "1.2.0",
       "_view_name": "StyleView",
       "description_width": ""
      }
     },
     "9ebfdd9e620a475c9659447afb84281e": {
      "model_module": "@jupyter-widgets/base",
      "model_module_version": "1.2.0",
      "model_name": "LayoutModel",
      "state": {
       "_model_module": "@jupyter-widgets/base",
       "_model_module_version": "1.2.0",
       "_model_name": "LayoutModel",
       "_view_count": null,
       "_view_module": "@jupyter-widgets/base",
       "_view_module_version": "1.2.0",
       "_view_name": "LayoutView",
       "align_content": null,
       "align_items": null,
       "align_self": null,
       "border": null,
       "bottom": null,
       "display": null,
       "flex": null,
       "flex_flow": null,
       "grid_area": null,
       "grid_auto_columns": null,
       "grid_auto_flow": null,
       "grid_auto_rows": null,
       "grid_column": null,
       "grid_gap": null,
       "grid_row": null,
       "grid_template_areas": null,
       "grid_template_columns": null,
       "grid_template_rows": null,
       "height": null,
       "justify_content": null,
       "justify_items": null,
       "left": null,
       "margin": null,
       "max_height": null,
       "max_width": null,
       "min_height": null,
       "min_width": null,
       "object_fit": null,
       "object_position": null,
       "order": null,
       "overflow": null,
       "overflow_x": null,
       "overflow_y": null,
       "padding": null,
       "right": null,
       "top": null,
       "visibility": null,
       "width": null
      }
     },
     "a400d133aedd4ea68697c5601e0f6cd2": {
      "model_module": "@jupyter-widgets/controls",
      "model_module_version": "1.5.0",
      "model_name": "HTMLModel",
      "state": {
       "_dom_classes": [],
       "_model_module": "@jupyter-widgets/controls",
       "_model_module_version": "1.5.0",
       "_model_name": "HTMLModel",
       "_view_count": null,
       "_view_module": "@jupyter-widgets/controls",
       "_view_module_version": "1.5.0",
       "_view_name": "HTMLView",
       "description": "",
       "description_tooltip": null,
       "layout": "IPY_MODEL_37e482ba6bee40288c94cc7c11d4d5a1",
       "placeholder": "​",
       "style": "IPY_MODEL_5a612fa1d18e4e33a6ed42f7b7e3a85b",
       "value": " 440/440 [14:11&lt;00:00,  1.17it/s]"
      }
     },
     "a4d9db229a334c6584585d88bd9b2be7": {
      "model_module": "@jupyter-widgets/controls",
      "model_module_version": "1.5.0",
      "model_name": "DescriptionStyleModel",
      "state": {
       "_model_module": "@jupyter-widgets/controls",
       "_model_module_version": "1.5.0",
       "_model_name": "DescriptionStyleModel",
       "_view_count": null,
       "_view_module": "@jupyter-widgets/base",
       "_view_module_version": "1.2.0",
       "_view_name": "StyleView",
       "description_width": ""
      }
     },
     "a9d9af533e3a463b9ec8f765c3af1df2": {
      "model_module": "@jupyter-widgets/controls",
      "model_module_version": "1.5.0",
      "model_name": "DescriptionStyleModel",
      "state": {
       "_model_module": "@jupyter-widgets/controls",
       "_model_module_version": "1.5.0",
       "_model_name": "DescriptionStyleModel",
       "_view_count": null,
       "_view_module": "@jupyter-widgets/base",
       "_view_module_version": "1.2.0",
       "_view_name": "StyleView",
       "description_width": ""
      }
     },
     "a9f29efdba364c8997ff2265180f090a": {
      "model_module": "@jupyter-widgets/controls",
      "model_module_version": "1.5.0",
      "model_name": "ProgressStyleModel",
      "state": {
       "_model_module": "@jupyter-widgets/controls",
       "_model_module_version": "1.5.0",
       "_model_name": "ProgressStyleModel",
       "_view_count": null,
       "_view_module": "@jupyter-widgets/base",
       "_view_module_version": "1.2.0",
       "_view_name": "StyleView",
       "bar_color": null,
       "description_width": ""
      }
     },
     "aa7c5b3d050641428419a9125522ae67": {
      "model_module": "@jupyter-widgets/base",
      "model_module_version": "1.2.0",
      "model_name": "LayoutModel",
      "state": {
       "_model_module": "@jupyter-widgets/base",
       "_model_module_version": "1.2.0",
       "_model_name": "LayoutModel",
       "_view_count": null,
       "_view_module": "@jupyter-widgets/base",
       "_view_module_version": "1.2.0",
       "_view_name": "LayoutView",
       "align_content": null,
       "align_items": null,
       "align_self": null,
       "border": null,
       "bottom": null,
       "display": null,
       "flex": null,
       "flex_flow": null,
       "grid_area": null,
       "grid_auto_columns": null,
       "grid_auto_flow": null,
       "grid_auto_rows": null,
       "grid_column": null,
       "grid_gap": null,
       "grid_row": null,
       "grid_template_areas": null,
       "grid_template_columns": null,
       "grid_template_rows": null,
       "height": null,
       "justify_content": null,
       "justify_items": null,
       "left": null,
       "margin": null,
       "max_height": null,
       "max_width": null,
       "min_height": null,
       "min_width": null,
       "object_fit": null,
       "object_position": null,
       "order": null,
       "overflow": null,
       "overflow_x": null,
       "overflow_y": null,
       "padding": null,
       "right": null,
       "top": null,
       "visibility": null,
       "width": null
      }
     },
     "ac5dae9acd6748519d3a54f1118e7438": {
      "model_module": "@jupyter-widgets/controls",
      "model_module_version": "1.5.0",
      "model_name": "HTMLModel",
      "state": {
       "_dom_classes": [],
       "_model_module": "@jupyter-widgets/controls",
       "_model_module_version": "1.5.0",
       "_model_name": "HTMLModel",
       "_view_count": null,
       "_view_module": "@jupyter-widgets/controls",
       "_view_module_version": "1.5.0",
       "_view_name": "HTMLView",
       "description": "",
       "description_tooltip": null,
       "layout": "IPY_MODEL_03836b73263d4010a470a1332a9c8e52",
       "placeholder": "​",
       "style": "IPY_MODEL_bd29bd391ed147569ec0579dea804da1",
       "value": " 1/1 [02:02&lt;00:00, 122.42s/it]"
      }
     },
     "bd29bd391ed147569ec0579dea804da1": {
      "model_module": "@jupyter-widgets/controls",
      "model_module_version": "1.5.0",
      "model_name": "DescriptionStyleModel",
      "state": {
       "_model_module": "@jupyter-widgets/controls",
       "_model_module_version": "1.5.0",
       "_model_name": "DescriptionStyleModel",
       "_view_count": null,
       "_view_module": "@jupyter-widgets/base",
       "_view_module_version": "1.2.0",
       "_view_name": "StyleView",
       "description_width": ""
      }
     },
     "c2206c4161fc40ef9f8d4448051f1e20": {
      "model_module": "@jupyter-widgets/base",
      "model_module_version": "1.2.0",
      "model_name": "LayoutModel",
      "state": {
       "_model_module": "@jupyter-widgets/base",
       "_model_module_version": "1.2.0",
       "_model_name": "LayoutModel",
       "_view_count": null,
       "_view_module": "@jupyter-widgets/base",
       "_view_module_version": "1.2.0",
       "_view_name": "LayoutView",
       "align_content": null,
       "align_items": null,
       "align_self": null,
       "border": null,
       "bottom": null,
       "display": null,
       "flex": null,
       "flex_flow": null,
       "grid_area": null,
       "grid_auto_columns": null,
       "grid_auto_flow": null,
       "grid_auto_rows": null,
       "grid_column": null,
       "grid_gap": null,
       "grid_row": null,
       "grid_template_areas": null,
       "grid_template_columns": null,
       "grid_template_rows": null,
       "height": null,
       "justify_content": null,
       "justify_items": null,
       "left": null,
       "margin": null,
       "max_height": null,
       "max_width": null,
       "min_height": null,
       "min_width": null,
       "object_fit": null,
       "object_position": null,
       "order": null,
       "overflow": null,
       "overflow_x": null,
       "overflow_y": null,
       "padding": null,
       "right": null,
       "top": null,
       "visibility": null,
       "width": null
      }
     },
     "c2bd7d1c7df14179930c2a81806e8c71": {
      "model_module": "@jupyter-widgets/base",
      "model_module_version": "1.2.0",
      "model_name": "LayoutModel",
      "state": {
       "_model_module": "@jupyter-widgets/base",
       "_model_module_version": "1.2.0",
       "_model_name": "LayoutModel",
       "_view_count": null,
       "_view_module": "@jupyter-widgets/base",
       "_view_module_version": "1.2.0",
       "_view_name": "LayoutView",
       "align_content": null,
       "align_items": null,
       "align_self": null,
       "border": null,
       "bottom": null,
       "display": null,
       "flex": null,
       "flex_flow": null,
       "grid_area": null,
       "grid_auto_columns": null,
       "grid_auto_flow": null,
       "grid_auto_rows": null,
       "grid_column": null,
       "grid_gap": null,
       "grid_row": null,
       "grid_template_areas": null,
       "grid_template_columns": null,
       "grid_template_rows": null,
       "height": null,
       "justify_content": null,
       "justify_items": null,
       "left": null,
       "margin": null,
       "max_height": null,
       "max_width": null,
       "min_height": null,
       "min_width": null,
       "object_fit": null,
       "object_position": null,
       "order": null,
       "overflow": null,
       "overflow_x": null,
       "overflow_y": null,
       "padding": null,
       "right": null,
       "top": null,
       "visibility": null,
       "width": null
      }
     },
     "c98b223bd4974523b5974f987aa7774c": {
      "model_module": "@jupyter-widgets/controls",
      "model_module_version": "1.5.0",
      "model_name": "FloatProgressModel",
      "state": {
       "_dom_classes": [],
       "_model_module": "@jupyter-widgets/controls",
       "_model_module_version": "1.5.0",
       "_model_name": "FloatProgressModel",
       "_view_count": null,
       "_view_module": "@jupyter-widgets/controls",
       "_view_module_version": "1.5.0",
       "_view_name": "ProgressView",
       "bar_style": "success",
       "description": "",
       "description_tooltip": null,
       "layout": "IPY_MODEL_d6311a50027f479882d37e8a62822781",
       "max": 1.0,
       "min": 0.0,
       "orientation": "horizontal",
       "style": "IPY_MODEL_a9f29efdba364c8997ff2265180f090a",
       "value": 1.0
      }
     },
     "d4cd3a668a844d8d9e41d65a2a000be9": {
      "model_module": "@jupyter-widgets/controls",
      "model_module_version": "1.5.0",
      "model_name": "ProgressStyleModel",
      "state": {
       "_model_module": "@jupyter-widgets/controls",
       "_model_module_version": "1.5.0",
       "_model_name": "ProgressStyleModel",
       "_view_count": null,
       "_view_module": "@jupyter-widgets/base",
       "_view_module_version": "1.2.0",
       "_view_name": "StyleView",
       "bar_color": null,
       "description_width": ""
      }
     },
     "d6311a50027f479882d37e8a62822781": {
      "model_module": "@jupyter-widgets/base",
      "model_module_version": "1.2.0",
      "model_name": "LayoutModel",
      "state": {
       "_model_module": "@jupyter-widgets/base",
       "_model_module_version": "1.2.0",
       "_model_name": "LayoutModel",
       "_view_count": null,
       "_view_module": "@jupyter-widgets/base",
       "_view_module_version": "1.2.0",
       "_view_name": "LayoutView",
       "align_content": null,
       "align_items": null,
       "align_self": null,
       "border": null,
       "bottom": null,
       "display": null,
       "flex": null,
       "flex_flow": null,
       "grid_area": null,
       "grid_auto_columns": null,
       "grid_auto_flow": null,
       "grid_auto_rows": null,
       "grid_column": null,
       "grid_gap": null,
       "grid_row": null,
       "grid_template_areas": null,
       "grid_template_columns": null,
       "grid_template_rows": null,
       "height": null,
       "justify_content": null,
       "justify_items": null,
       "left": null,
       "margin": null,
       "max_height": null,
       "max_width": null,
       "min_height": null,
       "min_width": null,
       "object_fit": null,
       "object_position": null,
       "order": null,
       "overflow": null,
       "overflow_x": null,
       "overflow_y": null,
       "padding": null,
       "right": null,
       "top": null,
       "visibility": null,
       "width": null
      }
     },
     "e7b279c7b9834d8792fbfffdb5d59c87": {
      "model_module": "@jupyter-widgets/base",
      "model_module_version": "1.2.0",
      "model_name": "LayoutModel",
      "state": {
       "_model_module": "@jupyter-widgets/base",
       "_model_module_version": "1.2.0",
       "_model_name": "LayoutModel",
       "_view_count": null,
       "_view_module": "@jupyter-widgets/base",
       "_view_module_version": "1.2.0",
       "_view_name": "LayoutView",
       "align_content": null,
       "align_items": null,
       "align_self": null,
       "border": null,
       "bottom": null,
       "display": null,
       "flex": null,
       "flex_flow": null,
       "grid_area": null,
       "grid_auto_columns": null,
       "grid_auto_flow": null,
       "grid_auto_rows": null,
       "grid_column": null,
       "grid_gap": null,
       "grid_row": null,
       "grid_template_areas": null,
       "grid_template_columns": null,
       "grid_template_rows": null,
       "height": null,
       "justify_content": null,
       "justify_items": null,
       "left": null,
       "margin": null,
       "max_height": null,
       "max_width": null,
       "min_height": null,
       "min_width": null,
       "object_fit": null,
       "object_position": null,
       "order": null,
       "overflow": null,
       "overflow_x": null,
       "overflow_y": null,
       "padding": null,
       "right": null,
       "top": null,
       "visibility": null,
       "width": null
      }
     },
     "f3d22a84828e4f9489aa62a4451c182f": {
      "model_module": "@jupyter-widgets/controls",
      "model_module_version": "1.5.0",
      "model_name": "DescriptionStyleModel",
      "state": {
       "_model_module": "@jupyter-widgets/controls",
       "_model_module_version": "1.5.0",
       "_model_name": "DescriptionStyleModel",
       "_view_count": null,
       "_view_module": "@jupyter-widgets/base",
       "_view_module_version": "1.2.0",
       "_view_name": "StyleView",
       "description_width": ""
      }
     }
    },
    "version_major": 2,
    "version_minor": 0
   }
  }
 },
 "nbformat": 4,
 "nbformat_minor": 5
}
