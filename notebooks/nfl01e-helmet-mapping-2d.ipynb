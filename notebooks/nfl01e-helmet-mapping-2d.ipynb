{
 "cells": [
  {
   "cell_type": "markdown",
   "id": "8a2576c0",
   "metadata": {
    "papermill": {
     "duration": 0.012549,
     "end_time": "2021-10-30T08:47:48.039334",
     "exception": false,
     "start_time": "2021-10-30T08:47:48.026785",
     "status": "completed"
    },
    "tags": []
   },
   "source": [
    "# Helmet Mapping 2d"
   ]
  },
  {
   "cell_type": "code",
   "execution_count": 1,
   "id": "43f7a661",
   "metadata": {
    "_cell_guid": "b1076dfc-b9ad-4769-8c92-a6c4dae69d19",
    "_uuid": "8f2839f25d086af736a60e9eeb907d3b93b6e0e5",
    "execution": {
     "iopub.execute_input": "2021-10-30T08:47:48.073192Z",
     "iopub.status.busy": "2021-10-30T08:47:48.071882Z",
     "iopub.status.idle": "2021-10-30T08:47:48.075174Z",
     "shell.execute_reply": "2021-10-30T08:47:48.074456Z",
     "shell.execute_reply.started": "2021-10-30T08:07:52.597274Z"
    },
    "papermill": {
     "duration": 0.021681,
     "end_time": "2021-10-30T08:47:48.075685",
     "exception": false,
     "start_time": "2021-10-30T08:47:48.054004",
     "status": "completed"
    },
    "tags": []
   },
   "outputs": [],
   "source": [
    "# # Developer\n",
    "# %cd /kaggle\n",
    "# from IPython.display import clear_output\n",
    "# pat = input('Personal Access Token:')\n",
    "# clear_output()\n",
    "# ! git clone https://$pat@github.com/qAp/nfl_helmet_assignment_kaggle.git"
   ]
  },
  {
   "cell_type": "code",
   "execution_count": 2,
   "id": "e8eada4c",
   "metadata": {
    "_cell_guid": "b1076dfc-b9ad-4769-8c92-a6c4dae69d19",
    "_uuid": "8f2839f25d086af736a60e9eeb907d3b93b6e0e5",
    "execution": {
     "iopub.execute_input": "2021-10-30T08:47:48.105996Z",
     "iopub.status.busy": "2021-10-30T08:47:48.105190Z",
     "iopub.status.idle": "2021-10-30T08:47:48.109066Z",
     "shell.execute_reply": "2021-10-30T08:47:48.108375Z",
     "shell.execute_reply.started": "2021-10-30T08:31:15.520483Z"
    },
    "papermill": {
     "duration": 0.019496,
     "end_time": "2021-10-30T08:47:48.109256",
     "exception": false,
     "start_time": "2021-10-30T08:47:48.089760",
     "status": "completed"
    },
    "tags": []
   },
   "outputs": [],
   "source": [
    "# %cd /kaggle/nfl_helmet_assignment_kaggle/\n",
    "# ! git pull"
   ]
  },
  {
   "cell_type": "code",
   "execution_count": 3,
   "id": "b18de631",
   "metadata": {
    "execution": {
     "iopub.execute_input": "2021-10-30T08:47:48.159204Z",
     "iopub.status.busy": "2021-10-30T08:47:48.146794Z",
     "iopub.status.idle": "2021-10-30T08:47:49.204454Z",
     "shell.execute_reply": "2021-10-30T08:47:49.203645Z",
     "shell.execute_reply.started": "2021-10-27T13:31:47.857707Z"
    },
    "papermill": {
     "duration": 1.082138,
     "end_time": "2021-10-30T08:47:49.204633",
     "exception": false,
     "start_time": "2021-10-30T08:47:48.122495",
     "status": "completed"
    },
    "tags": []
   },
   "outputs": [],
   "source": [
    "# User\n",
    "! cp -r /kaggle/input/nfl-helmet-assignment-kaggle/nfl_helmet_assignment_kaggle /kaggle/."
   ]
  },
  {
   "cell_type": "code",
   "execution_count": 4,
   "id": "746cf4ad",
   "metadata": {
    "execution": {
     "iopub.execute_input": "2021-10-30T08:47:49.238495Z",
     "iopub.status.busy": "2021-10-30T08:47:49.237357Z",
     "iopub.status.idle": "2021-10-30T08:47:49.522684Z",
     "shell.execute_reply": "2021-10-30T08:47:49.522011Z",
     "shell.execute_reply.started": "2021-10-30T08:31:25.857587Z"
    },
    "papermill": {
     "duration": 0.305205,
     "end_time": "2021-10-30T08:47:49.522855",
     "exception": false,
     "start_time": "2021-10-30T08:47:49.217650",
     "status": "completed"
    },
    "tags": []
   },
   "outputs": [],
   "source": [
    "import os, sys\n",
    "import time\n",
    "import importlib\n",
    "import random\n",
    "from multiprocessing import Pool\n",
    "import numpy as np\n",
    "import pandas as pd\n",
    "import cv2\n",
    "import matplotlib.pyplot as plt\n",
    "from tqdm.auto import tqdm\n",
    "\n",
    "sys.path.append('/kaggle/nfl_helmet_assignment_kaggle/')\n",
    "from helmet_tracker.utils.features import add_track_features\n",
    "from helmet_tracker.models.helmet_mapping import *"
   ]
  },
  {
   "cell_type": "code",
   "execution_count": 5,
   "id": "95f3f6e3",
   "metadata": {
    "execution": {
     "iopub.execute_input": "2021-10-30T08:47:49.554573Z",
     "iopub.status.busy": "2021-10-30T08:47:49.552520Z",
     "iopub.status.idle": "2021-10-30T08:47:49.556176Z",
     "shell.execute_reply": "2021-10-30T08:47:49.557015Z",
     "shell.execute_reply.started": "2021-10-30T08:31:24.653731Z"
    },
    "papermill": {
     "duration": 0.024021,
     "end_time": "2021-10-30T08:47:49.557698",
     "exception": false,
     "start_time": "2021-10-30T08:47:49.533677",
     "status": "completed"
    },
    "tags": []
   },
   "outputs": [],
   "source": [
    "# import helmet_tracker\n",
    "# importlib.reload(helmet_tracker.models.helmet_mapping)"
   ]
  },
  {
   "cell_type": "markdown",
   "id": "9defc5a7",
   "metadata": {
    "papermill": {
     "duration": 0.010681,
     "end_time": "2021-10-30T08:47:49.579945",
     "exception": false,
     "start_time": "2021-10-30T08:47:49.569264",
     "status": "completed"
    },
    "tags": []
   },
   "source": [
    "# Basic data import"
   ]
  },
  {
   "cell_type": "code",
   "execution_count": 6,
   "id": "c189aba7",
   "metadata": {
    "execution": {
     "iopub.execute_input": "2021-10-30T08:47:49.610618Z",
     "iopub.status.busy": "2021-10-30T08:47:49.605928Z",
     "iopub.status.idle": "2021-10-30T08:47:53.847999Z",
     "shell.execute_reply": "2021-10-30T08:47:53.847445Z",
     "shell.execute_reply.started": "2021-10-30T08:31:27.989379Z"
    },
    "papermill": {
     "duration": 4.256497,
     "end_time": "2021-10-30T08:47:53.848166",
     "exception": false,
     "start_time": "2021-10-30T08:47:49.591669",
     "status": "completed"
    },
    "tags": []
   },
   "outputs": [],
   "source": [
    "debug = True\n",
    "BASE_DIR = '/kaggle/input/nfl-health-and-safety-helmet-assignment/'\n",
    "\n",
    "labels = pd.read_csv(f'{BASE_DIR}/train_labels.csv')\n",
    "if debug:\n",
    "    dir_video = os.path.join(BASE_DIR, 'train')\n",
    "    tracking = pd.read_csv(f'{BASE_DIR}/train_player_tracking.csv')\n",
    "    helmets = pd.read_csv(f'{BASE_DIR}/train_baseline_helmets.csv')\n",
    "    submission_df = pd.read_csv('/kaggle/input/nfl-mydata/submission_helmtrack_debug.csv')\n",
    "else:\n",
    "    dir_video = os.pth.join(BASE_DIR, 'test')\n",
    "    tracking = pd.read_csv(f'{BASE_DIR}/test_player_tracking.csv')\n",
    "    helmets = pd.read_csv(f'{BASE_DIR}/test_baseline_helmets.csv')\n",
    "    submission_df = pd.read_csv('/kaggle/input/nfl-mydata/submission_helmtrack.csv')"
   ]
  },
  {
   "cell_type": "code",
   "execution_count": 7,
   "id": "a38aba05",
   "metadata": {
    "execution": {
     "iopub.execute_input": "2021-10-30T08:47:53.880947Z",
     "iopub.status.busy": "2021-10-30T08:47:53.880236Z",
     "iopub.status.idle": "2021-10-30T08:47:55.087461Z",
     "shell.execute_reply": "2021-10-30T08:47:55.087959Z",
     "shell.execute_reply.started": "2021-10-30T08:31:31.041529Z"
    },
    "papermill": {
     "duration": 1.22607,
     "end_time": "2021-10-30T08:47:55.088197",
     "exception": false,
     "start_time": "2021-10-30T08:47:53.862127",
     "status": "completed"
    },
    "tags": []
   },
   "outputs": [
    {
     "name": "stdout",
     "output_type": "stream",
     "text": [
      "CPU times: user 1.09 s, sys: 84.8 ms, total: 1.18 s\n",
      "Wall time: 1.2 s\n"
     ]
    }
   ],
   "source": [
    "%%time\n",
    "\n",
    "# Add estimated video frame to NGS data\n",
    "\n",
    "tracking = add_track_features(tracking) "
   ]
  },
  {
   "cell_type": "code",
   "execution_count": 8,
   "id": "4945a683",
   "metadata": {
    "execution": {
     "iopub.execute_input": "2021-10-30T08:47:55.160056Z",
     "iopub.status.busy": "2021-10-30T08:47:55.132197Z",
     "iopub.status.idle": "2021-10-30T08:47:59.354967Z",
     "shell.execute_reply": "2021-10-30T08:47:59.354100Z",
     "shell.execute_reply.started": "2021-10-30T08:31:34.114010Z"
    },
    "papermill": {
     "duration": 4.252638,
     "end_time": "2021-10-30T08:47:59.355167",
     "exception": false,
     "start_time": "2021-10-30T08:47:55.102529",
     "status": "completed"
    },
    "tags": []
   },
   "outputs": [],
   "source": [
    "if debug:\n",
    "    sample_keys = submission_df['video_frame'].str.split('_').str[0].unique().astype(int)\n",
    "    helmets['gameKey'] = helmets['video_frame'].str.split('_').str[0]\n",
    "    tracking = tracking[tracking['gameKey'].isin(sample_keys)]\n",
    "    helmets = helmets[helmets['gameKey'].astype(int).isin(sample_keys)]\n",
    "    labels = labels[labels['gameKey'].astype(int).isin(sample_keys)]"
   ]
  },
  {
   "cell_type": "markdown",
   "id": "55d2bdcc",
   "metadata": {
    "papermill": {
     "duration": 0.012,
     "end_time": "2021-10-30T08:47:59.379549",
     "exception": false,
     "start_time": "2021-10-30T08:47:59.367549",
     "status": "completed"
    },
    "tags": []
   },
   "source": [
    "# Map NGS player labels to helmets"
   ]
  },
  {
   "cell_type": "code",
   "execution_count": 9,
   "id": "de3017f9",
   "metadata": {
    "execution": {
     "iopub.execute_input": "2021-10-30T08:47:59.408198Z",
     "iopub.status.busy": "2021-10-30T08:47:59.405808Z",
     "iopub.status.idle": "2021-10-30T08:47:59.411750Z",
     "shell.execute_reply": "2021-10-30T08:47:59.411102Z",
     "shell.execute_reply.started": "2021-10-30T08:38:58.685989Z"
    },
    "papermill": {
     "duration": 0.020936,
     "end_time": "2021-10-30T08:47:59.412124",
     "exception": false,
     "start_time": "2021-10-30T08:47:59.391188",
     "status": "completed"
    },
    "tags": []
   },
   "outputs": [],
   "source": [
    "CONF_THRE = 0.3"
   ]
  },
  {
   "cell_type": "code",
   "execution_count": 10,
   "id": "2ae7f1f4",
   "metadata": {
    "execution": {
     "iopub.execute_input": "2021-10-30T08:47:59.446928Z",
     "iopub.status.busy": "2021-10-30T08:47:59.445921Z",
     "iopub.status.idle": "2021-10-30T08:47:59.520908Z",
     "shell.execute_reply": "2021-10-30T08:47:59.520300Z",
     "shell.execute_reply.started": "2021-10-30T08:42:37.491274Z"
    },
    "papermill": {
     "duration": 0.096857,
     "end_time": "2021-10-30T08:47:59.521057",
     "exception": false,
     "start_time": "2021-10-30T08:47:59.424200",
     "status": "completed"
    },
    "tags": []
   },
   "outputs": [
    {
     "data": {
      "text/plain": [
       "2596"
      ]
     },
     "execution_count": 10,
     "metadata": {},
     "output_type": "execute_result"
    }
   ],
   "source": [
    "df_list = list(helmets.groupby('video_frame'))\n",
    "df_list = [(video_frame, df, tracking, CONF_THRE) for video_frame, df in df_list]\n",
    "len(df_list)"
   ]
  },
  {
   "cell_type": "code",
   "execution_count": 11,
   "id": "8a64f6ba",
   "metadata": {
    "execution": {
     "iopub.execute_input": "2021-10-30T08:47:59.553255Z",
     "iopub.status.busy": "2021-10-30T08:47:59.552266Z",
     "iopub.status.idle": "2021-10-30T09:34:13.628767Z",
     "shell.execute_reply": "2021-10-30T09:34:13.629550Z",
     "shell.execute_reply.started": "2021-10-30T08:42:44.217686Z"
    },
    "papermill": {
     "duration": 2774.097158,
     "end_time": "2021-10-30T09:34:13.630015",
     "exception": false,
     "start_time": "2021-10-30T08:47:59.532857",
     "status": "completed"
    },
    "tags": []
   },
   "outputs": [
    {
     "data": {
      "application/vnd.jupyter.widget-view+json": {
       "model_id": "f657bd29b5914a01beedc87c49238d70",
       "version_major": 2,
       "version_minor": 0
      },
      "text/plain": [
       "  0%|          | 0/2596 [00:00<?, ?it/s]"
      ]
     },
     "metadata": {},
     "output_type": "display_data"
    },
    {
     "name": "stdout",
     "output_type": "stream",
     "text": [
      "CPU times: user 55.7 s, sys: 5.69 s, total: 1min 1s\n",
      "Wall time: 46min 14s\n"
     ]
    }
   ],
   "source": [
    "%%time\n",
    "\n",
    "def _mapping_df(args):\n",
    "    video_frame, df, tracking, conf_thre = args\n",
    "    return mapping_df_2d(video_frame, df, tracking, conf_thre=conf_thre)\n",
    "\n",
    "# df_tgt_2d = _mapping_df(df_list[2019])\n",
    "\n",
    "p = Pool(processes=os.cpu_count())\n",
    "submission_df_list = []\n",
    "with tqdm(total=len(df_list)) as pbar:\n",
    "    for this_df in p.imap(_mapping_df, df_list):\n",
    "        submission_df_list.append(this_df)\n",
    "        pbar.update(1)\n",
    "p.close()"
   ]
  },
  {
   "cell_type": "code",
   "execution_count": 12,
   "id": "73b2c746",
   "metadata": {
    "execution": {
     "iopub.execute_input": "2021-10-30T09:34:13.663097Z",
     "iopub.status.busy": "2021-10-30T09:34:13.661666Z",
     "iopub.status.idle": "2021-10-30T09:34:14.477229Z",
     "shell.execute_reply": "2021-10-30T09:34:14.476656Z",
     "shell.execute_reply.started": "2021-10-30T08:42:59.139532Z"
    },
    "papermill": {
     "duration": 0.83462,
     "end_time": "2021-10-30T09:34:14.477382",
     "exception": false,
     "start_time": "2021-10-30T09:34:13.642762",
     "status": "completed"
    },
    "tags": []
   },
   "outputs": [],
   "source": [
    "submission_df = pd.concat(submission_df_list)\n",
    "\n",
    "p = '/kaggle/working/' + ('submission_helmtrack2d_debug.csv' if debug else\n",
    "                          'submission_helmtrack2d.csv')\n",
    "submission_df.to_csv(p, index=False)"
   ]
  },
  {
   "cell_type": "code",
   "execution_count": null,
   "id": "a09f5590",
   "metadata": {
    "papermill": {
     "duration": 0.012257,
     "end_time": "2021-10-30T09:34:14.501813",
     "exception": false,
     "start_time": "2021-10-30T09:34:14.489556",
     "status": "completed"
    },
    "tags": []
   },
   "outputs": [],
   "source": []
  },
  {
   "cell_type": "code",
   "execution_count": null,
   "id": "0ffc67a8",
   "metadata": {
    "papermill": {
     "duration": 0.012715,
     "end_time": "2021-10-30T09:34:14.527989",
     "exception": false,
     "start_time": "2021-10-30T09:34:14.515274",
     "status": "completed"
    },
    "tags": []
   },
   "outputs": [],
   "source": []
  }
 ],
 "metadata": {
  "kernelspec": {
   "display_name": "Python 3",
   "language": "python",
   "name": "python3"
  },
  "language_info": {
   "codemirror_mode": {
    "name": "ipython",
    "version": 3
   },
   "file_extension": ".py",
   "mimetype": "text/x-python",
   "name": "python",
   "nbconvert_exporter": "python",
   "pygments_lexer": "ipython3",
   "version": "3.7.10"
  },
  "papermill": {
   "default_parameters": {},
   "duration": 2798.000261,
   "end_time": "2021-10-30T09:34:16.020037",
   "environment_variables": {},
   "exception": null,
   "input_path": "__notebook__.ipynb",
   "output_path": "__notebook__.ipynb",
   "parameters": {},
   "start_time": "2021-10-30T08:47:38.019776",
   "version": "2.3.3"
  },
  "widgets": {
   "application/vnd.jupyter.widget-state+json": {
    "state": {
     "1441ff2bfa884a58994815ff5a6241cd": {
      "model_module": "@jupyter-widgets/controls",
      "model_module_version": "1.5.0",
      "model_name": "HTMLModel",
      "state": {
       "_dom_classes": [],
       "_model_module": "@jupyter-widgets/controls",
       "_model_module_version": "1.5.0",
       "_model_name": "HTMLModel",
       "_view_count": null,
       "_view_module": "@jupyter-widgets/controls",
       "_view_module_version": "1.5.0",
       "_view_name": "HTMLView",
       "description": "",
       "description_tooltip": null,
       "layout": "IPY_MODEL_a093fe9e62d1418b98e4c9048b0bc1b1",
       "placeholder": "​",
       "style": "IPY_MODEL_9059abcc389f4869ae1815c094f21d4c",
       "value": " 2596/2596 [46:14&lt;00:00,  1.06s/it]"
      }
     },
     "31d32fb8e4064695a3b850fc5b7ca4be": {
      "model_module": "@jupyter-widgets/base",
      "model_module_version": "1.2.0",
      "model_name": "LayoutModel",
      "state": {
       "_model_module": "@jupyter-widgets/base",
       "_model_module_version": "1.2.0",
       "_model_name": "LayoutModel",
       "_view_count": null,
       "_view_module": "@jupyter-widgets/base",
       "_view_module_version": "1.2.0",
       "_view_name": "LayoutView",
       "align_content": null,
       "align_items": null,
       "align_self": null,
       "border": null,
       "bottom": null,
       "display": null,
       "flex": null,
       "flex_flow": null,
       "grid_area": null,
       "grid_auto_columns": null,
       "grid_auto_flow": null,
       "grid_auto_rows": null,
       "grid_column": null,
       "grid_gap": null,
       "grid_row": null,
       "grid_template_areas": null,
       "grid_template_columns": null,
       "grid_template_rows": null,
       "height": null,
       "justify_content": null,
       "justify_items": null,
       "left": null,
       "margin": null,
       "max_height": null,
       "max_width": null,
       "min_height": null,
       "min_width": null,
       "object_fit": null,
       "object_position": null,
       "order": null,
       "overflow": null,
       "overflow_x": null,
       "overflow_y": null,
       "padding": null,
       "right": null,
       "top": null,
       "visibility": null,
       "width": null
      }
     },
     "433310a0a1c148b4ac48c5b6a8f1936b": {
      "model_module": "@jupyter-widgets/base",
      "model_module_version": "1.2.0",
      "model_name": "LayoutModel",
      "state": {
       "_model_module": "@jupyter-widgets/base",
       "_model_module_version": "1.2.0",
       "_model_name": "LayoutModel",
       "_view_count": null,
       "_view_module": "@jupyter-widgets/base",
       "_view_module_version": "1.2.0",
       "_view_name": "LayoutView",
       "align_content": null,
       "align_items": null,
       "align_self": null,
       "border": null,
       "bottom": null,
       "display": null,
       "flex": null,
       "flex_flow": null,
       "grid_area": null,
       "grid_auto_columns": null,
       "grid_auto_flow": null,
       "grid_auto_rows": null,
       "grid_column": null,
       "grid_gap": null,
       "grid_row": null,
       "grid_template_areas": null,
       "grid_template_columns": null,
       "grid_template_rows": null,
       "height": null,
       "justify_content": null,
       "justify_items": null,
       "left": null,
       "margin": null,
       "max_height": null,
       "max_width": null,
       "min_height": null,
       "min_width": null,
       "object_fit": null,
       "object_position": null,
       "order": null,
       "overflow": null,
       "overflow_x": null,
       "overflow_y": null,
       "padding": null,
       "right": null,
       "top": null,
       "visibility": null,
       "width": null
      }
     },
     "7803adfb2d8b4ac2ab7b9d726c17b378": {
      "model_module": "@jupyter-widgets/controls",
      "model_module_version": "1.5.0",
      "model_name": "ProgressStyleModel",
      "state": {
       "_model_module": "@jupyter-widgets/controls",
       "_model_module_version": "1.5.0",
       "_model_name": "ProgressStyleModel",
       "_view_count": null,
       "_view_module": "@jupyter-widgets/base",
       "_view_module_version": "1.2.0",
       "_view_name": "StyleView",
       "bar_color": null,
       "description_width": ""
      }
     },
     "8e8c8c0b26a14f1a91e71bc79c13e716": {
      "model_module": "@jupyter-widgets/controls",
      "model_module_version": "1.5.0",
      "model_name": "FloatProgressModel",
      "state": {
       "_dom_classes": [],
       "_model_module": "@jupyter-widgets/controls",
       "_model_module_version": "1.5.0",
       "_model_name": "FloatProgressModel",
       "_view_count": null,
       "_view_module": "@jupyter-widgets/controls",
       "_view_module_version": "1.5.0",
       "_view_name": "ProgressView",
       "bar_style": "success",
       "description": "",
       "description_tooltip": null,
       "layout": "IPY_MODEL_d70f00720c164dc7b2eaa5e8cfd9677c",
       "max": 2596.0,
       "min": 0.0,
       "orientation": "horizontal",
       "style": "IPY_MODEL_7803adfb2d8b4ac2ab7b9d726c17b378",
       "value": 2596.0
      }
     },
     "9059abcc389f4869ae1815c094f21d4c": {
      "model_module": "@jupyter-widgets/controls",
      "model_module_version": "1.5.0",
      "model_name": "DescriptionStyleModel",
      "state": {
       "_model_module": "@jupyter-widgets/controls",
       "_model_module_version": "1.5.0",
       "_model_name": "DescriptionStyleModel",
       "_view_count": null,
       "_view_module": "@jupyter-widgets/base",
       "_view_module_version": "1.2.0",
       "_view_name": "StyleView",
       "description_width": ""
      }
     },
     "a093fe9e62d1418b98e4c9048b0bc1b1": {
      "model_module": "@jupyter-widgets/base",
      "model_module_version": "1.2.0",
      "model_name": "LayoutModel",
      "state": {
       "_model_module": "@jupyter-widgets/base",
       "_model_module_version": "1.2.0",
       "_model_name": "LayoutModel",
       "_view_count": null,
       "_view_module": "@jupyter-widgets/base",
       "_view_module_version": "1.2.0",
       "_view_name": "LayoutView",
       "align_content": null,
       "align_items": null,
       "align_self": null,
       "border": null,
       "bottom": null,
       "display": null,
       "flex": null,
       "flex_flow": null,
       "grid_area": null,
       "grid_auto_columns": null,
       "grid_auto_flow": null,
       "grid_auto_rows": null,
       "grid_column": null,
       "grid_gap": null,
       "grid_row": null,
       "grid_template_areas": null,
       "grid_template_columns": null,
       "grid_template_rows": null,
       "height": null,
       "justify_content": null,
       "justify_items": null,
       "left": null,
       "margin": null,
       "max_height": null,
       "max_width": null,
       "min_height": null,
       "min_width": null,
       "object_fit": null,
       "object_position": null,
       "order": null,
       "overflow": null,
       "overflow_x": null,
       "overflow_y": null,
       "padding": null,
       "right": null,
       "top": null,
       "visibility": null,
       "width": null
      }
     },
     "b8ec3935911f4ce29c2f3193ade9b8fa": {
      "model_module": "@jupyter-widgets/controls",
      "model_module_version": "1.5.0",
      "model_name": "HTMLModel",
      "state": {
       "_dom_classes": [],
       "_model_module": "@jupyter-widgets/controls",
       "_model_module_version": "1.5.0",
       "_model_name": "HTMLModel",
       "_view_count": null,
       "_view_module": "@jupyter-widgets/controls",
       "_view_module_version": "1.5.0",
       "_view_name": "HTMLView",
       "description": "",
       "description_tooltip": null,
       "layout": "IPY_MODEL_433310a0a1c148b4ac48c5b6a8f1936b",
       "placeholder": "​",
       "style": "IPY_MODEL_e8fc8240ada345b996d853f53aae5323",
       "value": "100%"
      }
     },
     "d70f00720c164dc7b2eaa5e8cfd9677c": {
      "model_module": "@jupyter-widgets/base",
      "model_module_version": "1.2.0",
      "model_name": "LayoutModel",
      "state": {
       "_model_module": "@jupyter-widgets/base",
       "_model_module_version": "1.2.0",
       "_model_name": "LayoutModel",
       "_view_count": null,
       "_view_module": "@jupyter-widgets/base",
       "_view_module_version": "1.2.0",
       "_view_name": "LayoutView",
       "align_content": null,
       "align_items": null,
       "align_self": null,
       "border": null,
       "bottom": null,
       "display": null,
       "flex": null,
       "flex_flow": null,
       "grid_area": null,
       "grid_auto_columns": null,
       "grid_auto_flow": null,
       "grid_auto_rows": null,
       "grid_column": null,
       "grid_gap": null,
       "grid_row": null,
       "grid_template_areas": null,
       "grid_template_columns": null,
       "grid_template_rows": null,
       "height": null,
       "justify_content": null,
       "justify_items": null,
       "left": null,
       "margin": null,
       "max_height": null,
       "max_width": null,
       "min_height": null,
       "min_width": null,
       "object_fit": null,
       "object_position": null,
       "order": null,
       "overflow": null,
       "overflow_x": null,
       "overflow_y": null,
       "padding": null,
       "right": null,
       "top": null,
       "visibility": null,
       "width": null
      }
     },
     "e8fc8240ada345b996d853f53aae5323": {
      "model_module": "@jupyter-widgets/controls",
      "model_module_version": "1.5.0",
      "model_name": "DescriptionStyleModel",
      "state": {
       "_model_module": "@jupyter-widgets/controls",
       "_model_module_version": "1.5.0",
       "_model_name": "DescriptionStyleModel",
       "_view_count": null,
       "_view_module": "@jupyter-widgets/base",
       "_view_module_version": "1.2.0",
       "_view_name": "StyleView",
       "description_width": ""
      }
     },
     "f657bd29b5914a01beedc87c49238d70": {
      "model_module": "@jupyter-widgets/controls",
      "model_module_version": "1.5.0",
      "model_name": "HBoxModel",
      "state": {
       "_dom_classes": [],
       "_model_module": "@jupyter-widgets/controls",
       "_model_module_version": "1.5.0",
       "_model_name": "HBoxModel",
       "_view_count": null,
       "_view_module": "@jupyter-widgets/controls",
       "_view_module_version": "1.5.0",
       "_view_name": "HBoxView",
       "box_style": "",
       "children": [
        "IPY_MODEL_b8ec3935911f4ce29c2f3193ade9b8fa",
        "IPY_MODEL_8e8c8c0b26a14f1a91e71bc79c13e716",
        "IPY_MODEL_1441ff2bfa884a58994815ff5a6241cd"
       ],
       "layout": "IPY_MODEL_31d32fb8e4064695a3b850fc5b7ca4be"
      }
     }
    },
    "version_major": 2,
    "version_minor": 0
   }
  }
 },
 "nbformat": 4,
 "nbformat_minor": 5
}
